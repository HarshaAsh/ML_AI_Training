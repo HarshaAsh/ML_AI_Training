{
 "cells": [
  {
   "cell_type": "markdown",
   "id": "b6344e13-a45d-4983-a037-ae580930ca4f",
   "metadata": {},
   "source": [
    "# Session 1: Introduction to Python\n",
    "\n",
    "*Data Structures and Algorithms*\n",
    "\n",
    "*Achyuthuni Sri Harsha*\n",
    "\n",
    "------------------------------------------------------------------------\n",
    "\n",
    "We will start introducing basic concepts of the Python programming language: syntax, calculations, variables and assignment, and conditional statements.\n",
    "\n",
    "------------------------------------------------------------------------\n",
    "\n",
    "## Preparation\n",
    "\n",
    "***Readings:***\n",
    "\n",
    "Guttag: Chapters 1, 2.0-2.4.\n",
    "\n",
    "OR\n",
    "\n",
    "Sweigart, Al. Automate the Boring Stuff with Python.\n",
    "\n",
    "-   Chapter 1 – Basics <https://automatetheboringstuff.com/chapter1/>\n",
    "\n",
    "-   Chapter 2 – Control flow (until for loop)\n",
    "    <https://automatetheboringstuff.com/chapter2/>\n",
    "\n",
    "**Questions:**\n",
    "\n",
    "**Please first install Python on your laptop following the instructions in the Tutorial on getting started** \n",
    "\n",
    "Then read the material above and think about how you would explain to your classmates:\n",
    "\n",
    "-   What different ways are there for writing and running Python code on your computer?\n",
    "-   What is the difference between `a = 2` and `a == 2` in Python?\n",
    "-   What is a conditional statement, and for what do we use them?\n",
    "\n",
    "------------------------------------------------------------------------\n",
    "\n",
    "If you're starting out on programming, this week you will be full of new concepts and ideas. It is helpful to think of learning a programming language much like learning any new language. As with any language, you will learn the *syntax* and the *semantics* of Python.  \n",
    "\n",
    "Syntax is the structure of the language: what constructs and statements are valid. For example,\n",
    "\n",
    "    Dog moose cow.\n",
    "\n",
    "is just a sequence of nouns and not syntactically valid English. When interacting with a computer through Python, we will have to be very precise with the syntax of our commands -- if we mistype a command, our program will stop running and produce an error.  \n",
    "\n",
    "Semantics, roughly speaking, is the meaning of the statements we make. In addition to the right syntax, we also need to use correct semantics: for example,  \n",
    "\n",
    "    My dog flew the kitchen sink to Hawaii.\n",
    "\n",
    "is grammatically correct but doesn't make sense in English. Similarly, we'll learn how to construct Python statements to interact with a computer. Semantical errors in code can be more difficult to catch than syntax errors as our program may appear to run just fine, but then produce the wrong result.  \n",
    "\n",
    "In this session, we'll go through many key features of how the Python programming language works, in terms of both syntax and semantics.  \n",
    "\n",
    "## Starting out\n",
    "\n",
    "This session assumes that you have\n",
    "\n",
    "-   installed Python 3 with the Anaconda distribution. If you haven't yet, you can do download the distribution\n",
    "    [here](https://www.anaconda.com/products/individual). Run the file and follow the instructions to install Python.\n",
    "\n",
    "If you haven't already, you should complete these steps before starting\n",
    "the session.\n",
    "\n",
    "In this session, you'll work through a series of small Python exercises.\n",
    "\n",
    "-   If you get stuck on a question, contact me on chat  \n",
    "-   We encourage you to chat with your colleagues and work together on the exercises.\n",
    "\n",
    "Open the command line application for your system, either **terminal** (macOS) or **Anaconda Prompt** (Windows). In\n",
    "Windows, hit the Windows key and start typing `Anaconda Prompt` to open the prompt. In macOS, use the key combination Cmd-Space, then type \"terminal\" and press Enter.\n",
    "\n",
    "**Use the command line to navigate to the directory where you have extracted the tutorial files, including this file.** You can see this directory in the browser address bar.\n",
    "\n",
    "When you open the command line, Windows shows you the directory you're in. In macOS, you can check the current directory by typing in `pwd` (for \"print working directory\") and hitting Enter.\n",
    "\n",
    "You can check the files contained in the directory by typing in `ls` (for \"list files\") in macOS or `dir` in Windows, and hitting Enter.\n",
    "\n",
    "Once you know where you are, how to navigate to a different directory? You can change the directory by typing `cd` (change directory) followed by a space and the name or path of the directory. For example, if you've checked that you're currently in `/Users/my_user_name`, and you want to move into the Desktop sub-directory `/Users/my_user_name/Desktop`, you\n",
    "can type in\n",
    "\n",
    "    cd Desktop\n",
    "\n",
    "and hit Enter. You can then check `pwd` in macOS to confirm that you moved, and `ls` (or `dir` in Windows) to check the directory contents.\n",
    "\n",
    "You can then repeat this process until you get to the desired directory. If you need to move backward to a parent directory, use `cd ..` (cd followed by a space and two dots).\n",
    "\n",
    "Alternatively, you can also move directly into the directory by entering\n",
    "the its full path. Say the tutorial files are in the folder `tut01` on\n",
    "your system's Desktop. In macOS, type or paste into the terminal:\n",
    "\n",
    "    cd /Users/my_user_name/Desktop/ses01\n",
    "\n",
    "In Windows, type into the Anaconda Prompt:\n",
    "\n",
    "    cd c:\\Users\\my_user_name\\Desktop\\ses01\n",
    "\n",
    "The command line supports **tab completion**, which makes it easier to navigate to a folder. For example, if you're in the `my_user_name` folder and wish to move to `my_user_name\\Desktop`, you can start typing `Des` and hit the `Tab` key to complete the word `Desktop`.\n",
    "\n",
    "When you get to the tutorial directory where you extracted the files, check the contents of the directory: in macOS, use the command `ls`; in Windows, `dir`. You should see at least the following files:\n",
    "\n",
    "    session_1.ipynb\n",
    "    \n",
    "Now you're ready to start the session.\n",
    "\n",
    "### Python and the Spyder IDE\n",
    "\n",
    "In Tutorial 0, we tried out Python on the command-line. On the command\n",
    "line, typing out\n",
    "\n",
    "    python\n",
    "\n",
    "and hitting Enter starts the Python interpreter. We can then type in\n",
    "commands, which the Python interpreter will evaluate.\n",
    "\n",
    "    >>> print('Hello!')\n",
    "    >>> 2+2\n",
    "\n",
    "You can leave the Python interpreter by typing\n",
    "\n",
    "    >>> quit()\n",
    "\n",
    "This brings you back to the normal command line.\n",
    "\n",
    "When we start building more complex programs, this mode of running code - typing it in line by line - becomes inconvenient. A better way is to store our commands in a text file, and send the entire file to the interpreter when we want to try it out. The interpreter will read the file line by line and execute the commands.  \n",
    "\n",
    "These code files are often called *scripts*. They are a convenient way to save our code for future use. We can write them using any text editor, but many programmers use editors that are part of an *integrated development environment* (IDE), which aim to make programming easier and more fun in various ways. Our Anaconda installation comes with a widely-used one called **Spyder**.\n",
    "\n",
    "Having installed Anaconda, you should find Spyder on your laptop. Open the Anaconda Navigator or search for Spyder directly on your computer.\n",
    "\n",
    "-   In Windows, press the Windows key and start typing `spyder`.\n",
    "-   in macOS, use Finder or Launchpad to find Spyder.\n",
    "\n",
    "Go ahead and open Spyder. It may take a while to load, but eventually you should see an interface like this:\n",
    "\n",
    "The interface can look complicated at first as there are many things we can do with Spyder. Look first at the bottom right panel. This is an **IPython** console, which is an enhanced version of the Python interpreter we were just using on the command line. The main visible difference to the Python interpreter is that instead of\n",
    "\n",
    "    >>>\n",
    "\n",
    "it prompts you for commands with\n",
    "\n",
    "    In [1]:\n",
    "\n",
    "You can type in Python commands here just like in the command-line interpreter.\n",
    "\n",
    "On top of the console, there is a Help panel. It will display helpful information on your code, variables, and files, but we can ignore it for now.\n",
    "\n",
    "Often we will be working in the left panel, which is a text editor. We will use it to write and edit longer pieces of code. Different from the console, the code we type here will not run immediately. Instead, we'll have to invoke Spyder's commands to run our code or parts of it.  \n",
    "\n",
    "**We will first work in the IPython console, and later come back to the editor.**\n",
    "\n",
    "## Expressions and calculations\n",
    "\n",
    "Computer programs consist of *expressions*, which tell the computer how to combine pieces of data. One common example are numerical expressions. For example, `5` is a simple numerical expression with just a single piece of data, and `2 + 3` is an addition expression that combines the data `2` and `3` using the `+` symbol.\n",
    "\n",
    "In Python, we can enter calculations directly into the console and it will display the answer. When we do so and write `2 + 3`, Python *evaluates* this expression, and gives us the result.\n",
    "\n",
    "Let's try this out in Jupyter's console. Enter each of the following commands, one at a time. Type in or copy the command, hit return, and see what happens.\n"
   ]
  },
  {
   "cell_type": "code",
   "execution_count": 1,
   "id": "24014c5d",
   "metadata": {},
   "outputs": [
    {
     "data": {
      "text/plain": [
       "8.0"
      ]
     },
     "execution_count": 1,
     "metadata": {},
     "output_type": "execute_result"
    }
   ],
   "source": [
    "10 - 1\n",
    "2*3\n",
    "15/5 # notice that the division result is always a decimal number \n",
    "24 / 3 # The # sign indicates a comment: Python will skip the rest of the line"
   ]
  },
  {
   "cell_type": "markdown",
   "id": "74e2611c",
   "metadata": {},
   "source": [
    "Python calculations follow standard precedence order of arithmetic, where multiplication and division are evaluated before addition and subtraction. We can use parentheses to alter the order of precedence, as\n",
    "follows."
   ]
  },
  {
   "cell_type": "code",
   "execution_count": 2,
   "id": "57165204",
   "metadata": {},
   "outputs": [
    {
     "data": {
      "text/plain": [
       "-25"
      ]
     },
     "execution_count": 2,
     "metadata": {},
     "output_type": "execute_result"
    }
   ],
   "source": [
    "3-8*5\n",
    "(3 - 8)*5"
   ]
  },
  {
   "cell_type": "markdown",
   "id": "e7fe1409",
   "metadata": {},
   "source": [
    "**Syntax note.** Let's note some important features of the Python syntax from the above examples.\n",
    "\n",
    "-   Hitting return ends the current line of code. This signals to the\n",
    "    Python interpreter that our command has ended. The interpreter will\n",
    "    then process the command and move on.\n",
    "-   Spaces in the calculations are optional and do not change the\n",
    "    result. Using spaces often makes code easier to read. More\n",
    "    specifically, the Python interpreter does not care about whitespace\n",
    "    *unless* it is in the *beginning* of the line, as we will see later\n",
    "    in this session.\n",
    "-   The interpreter will skip anything that follows a `#` sign. We often\n",
    "    use this to add comments in our code to describe to a human reader\n",
    "    how it works.\n",
    "\n",
    "The common arithmetic operations in Python are as follows.\n",
    "\n",
    "| Operator | Name           | Description                                        |\n",
    "|----------|----------------|----------------------------------------------------|\n",
    "| `a + b`  | Addition       | Sum of `a` and `b`                                 |\n",
    "| `a - b`  | Subtraction    | Difference of `a` and `b`                          |\n",
    "| `a * b`  | Multiplication | Product of `a` and `b`                             |\n",
    "| `a / b`  | Division       | Quotient of `a` and `b`                            |\n",
    "| `a // b` | Floor division | Quotient of `a` and `b`, removing fractional parts |\n",
    "| `a % b`  | Modulus        | Remainder after division of `a` by `b`             |\n",
    "| `a ** b` | Exponentiation | `a` to the power of `b`                            |\n",
    "\n",
    "What would you expect the following commands do? Check your intuition\n",
    "with Spyder's console."
   ]
  },
  {
   "cell_type": "code",
   "execution_count": 3,
   "id": "67bf428e",
   "metadata": {},
   "outputs": [
    {
     "data": {
      "text/plain": [
       "2"
      ]
     },
     "execution_count": 3,
     "metadata": {},
     "output_type": "execute_result"
    }
   ],
   "source": [
    "2**3\n",
    "10//8\n",
    "10 % 8"
   ]
  },
  {
   "cell_type": "markdown",
   "id": "671b8b90",
   "metadata": {},
   "source": [
    "Dividing by zero will produce an error."
   ]
  },
  {
   "cell_type": "code",
   "execution_count": 4,
   "id": "18b2dbc1",
   "metadata": {},
   "outputs": [
    {
     "ename": "ZeroDivisionError",
     "evalue": "division by zero",
     "output_type": "error",
     "traceback": [
      "\u001b[1;31m---------------------------------------------------------------------------\u001b[0m",
      "\u001b[1;31mZeroDivisionError\u001b[0m                         Traceback (most recent call last)",
      "Cell \u001b[1;32mIn[4], line 1\u001b[0m\n\u001b[1;32m----> 1\u001b[0m \u001b[38;5;241;43m5\u001b[39;49m\u001b[38;5;241;43m/\u001b[39;49m\u001b[38;5;241;43m0\u001b[39;49m\n",
      "\u001b[1;31mZeroDivisionError\u001b[0m: division by zero"
     ]
    }
   ],
   "source": [
    "5/0"
   ]
  },
  {
   "cell_type": "markdown",
   "id": "8e8dc504",
   "metadata": {},
   "source": [
    "**Note.** A Python error message indicates the error's type and where in your code the error happened. This will prove useful later when building larger programs.\n",
    "\n",
    "We now know enough Python to replace a pocket calculator...\n",
    "\n",
    "### Question 1 : Calculations\n",
    "\n",
    "It's time for an exercise to check your understanding of the above concepts.  \n",
    "\n",
    "The program will ask you a series of questions. Your task is to figure out what Python would display in each question and type in the response.\n",
    "\n",
    "**If the code produces an error, write Error. If there is no output, write Nothing.**\n",
    "\n",
    "If you get stuck on a question, try the code out in Jupyter's console. If you have questions or need help, contact me on chat.\n",
    "\n",
    "## Variables and assignment\n",
    "\n",
    "We have seen how to use Python for simple calculations. But these have been one-off calculations - what if we want to keep the results for later use in more complex calculations?\n",
    "\n",
    "We can do this defining variables. A variable is a name we give to a value. For example, suppose we want to calculate the area of a rectangle. Let's begin by typing the following two commands into Jupyter's console."
   ]
  },
  {
   "cell_type": "code",
   "execution_count": 5,
   "id": "95ce7ec4",
   "metadata": {},
   "outputs": [],
   "source": [
    "width = 7\n",
    "length = 3"
   ]
  },
  {
   "cell_type": "markdown",
   "id": "8529ee4a",
   "metadata": {},
   "source": [
    "We give a *value* (eg `7`) a name (eg `width`) by *assigning* it to a named *variable* using the equals sign `=`. This is called an assignment statement. Python now knows that variables `width` and `length` contain these values, so we can use the variable name in place of the value.  \n",
    "\n",
    "When you type in the commands, there's no output in the console, since the variables are stored for reuse. We can check that the names are bound to these values by typing `width` or `length` into the console.  \n",
    "\n",
    "Now let's calculate the area of the rectangle, which is the product of the width and the length. We could do this with the values `7*3`, or the variable names `width*length`."
   ]
  },
  {
   "cell_type": "code",
   "execution_count": 6,
   "id": "663a0dab",
   "metadata": {},
   "outputs": [],
   "source": [
    "area = width*length"
   ]
  },
  {
   "cell_type": "markdown",
   "id": "ecf58dc9",
   "metadata": {},
   "source": [
    "Here we take the values stored in the variables `width` and `length` and save the result of their multiplication to a new variable `area`. When making an assignment, the Python interpreter will first *evaluate* the expression is on the right-hand side of the equals sign (here `width*length`), and then store its value associated with the variable on the left-hand side (here `area`). Here, the expression `width*length` evaluates to 21, which will be the value of the variable `area`.\n",
    "\n",
    "The assignment statement is always of the form:\n",
    "\n",
    "    variable = expression\n",
    "\n",
    "The left-hand side of the assignment must always be a variable that will be assigned a value.\n",
    "\n",
    "Variables are called variables because their value can change. Assigning a value to a variable that already exists does not create a new variable, but replaces the existing value of the variable."
   ]
  },
  {
   "cell_type": "code",
   "execution_count": 7,
   "id": "a1d3e265",
   "metadata": {},
   "outputs": [
    {
     "data": {
      "text/plain": [
       "50"
      ]
     },
     "execution_count": 7,
     "metadata": {},
     "output_type": "execute_result"
    }
   ],
   "source": [
    "temp = 20 # expression: 20\n",
    "temp = 50 # expression: 50\n",
    "temp"
   ]
  },
  {
   "cell_type": "markdown",
   "id": "7aa61380",
   "metadata": {},
   "source": [
    "The right-hand side of the assignment can be any expression. Python first evaluates this expression, stores the resulting value in the computer's memory, and assigns the variable temp to it."
   ]
  },
  {
   "cell_type": "code",
   "execution_count": 8,
   "id": "9ca7175d",
   "metadata": {},
   "outputs": [
    {
     "data": {
      "text/plain": [
       "40"
      ]
     },
     "execution_count": 8,
     "metadata": {},
     "output_type": "execute_result"
    }
   ],
   "source": [
    "temp = (50-30)*2 # expression: (50-30)*2\n",
    "temp"
   ]
  },
  {
   "cell_type": "markdown",
   "id": "f84334a2",
   "metadata": {},
   "source": [
    "The left-hand side must always be a variable that will be assigned a value.\n",
    "\n",
    "Here's another example of assignment. We first create the variables `x` and `y`, and then change the value of `x`, but this time *referring to itself*. Just like before, Python first evaluates first evaluates the expression on the right-hand side of the equals sign. It looks up the values contained in the variables `x` and `y` , finding 5 and 3. It sums these values, and assigns the variable `x` to the result."
   ]
  },
  {
   "cell_type": "code",
   "execution_count": 9,
   "id": "b39f17ae",
   "metadata": {},
   "outputs": [
    {
     "data": {
      "text/plain": [
       "8"
      ]
     },
     "execution_count": 9,
     "metadata": {},
     "output_type": "execute_result"
    }
   ],
   "source": [
    "x = 5\n",
    "y = 3\n",
    "x = x + y\n",
    "x"
   ]
  },
  {
   "cell_type": "markdown",
   "id": "5d62b570",
   "metadata": {},
   "source": [
    "Here's an example [visualisation](http://pythontutor.com/visualize.html#code=x%20%3D%205%0Ay%20%3D%203%0Ax%20%3D%20x%20%2B%20y%0Ax&cumulative=false&curInstr=0&heapPrimitives=false&mode=display&origin=opt-frontend.js&py=3&rawInputLstJSON=%5B%5D&textReferences=false) of how this works.\n",
    "\n",
    "You can use the visualisation to step back and forth in the commands. A \"frame\" is essentially a table of variables and values available in Python, which changes as we enter commands. Notice how the value of `x` changes with each new assignment. On the last line, Python first evaluates the expression `x + y`, and then assigns the result to `x`.  \n",
    "\n",
    "If we try to reference a variable that we haven't assigned, Python gives an error message. There are also certain restrictions on variable names in Python. You can only use letters, numbers, and underscores, and the name cannot start with a number. Python will give you an error if these syntax rules are violated. Names cannot have spaces in them, and there are some keywords that are reserved for Python's use. In each case, Python tells us what went wrong."
   ]
  },
  {
   "cell_type": "code",
   "execution_count": 10,
   "id": "e23a2dc7",
   "metadata": {},
   "outputs": [
    {
     "ename": "NameError",
     "evalue": "name 'height' is not defined",
     "output_type": "error",
     "traceback": [
      "\u001b[1;31m---------------------------------------------------------------------------\u001b[0m",
      "\u001b[1;31mNameError\u001b[0m                                 Traceback (most recent call last)",
      "Cell \u001b[1;32mIn[10], line 1\u001b[0m\n\u001b[1;32m----> 1\u001b[0m \u001b[43mheight\u001b[49m\n",
      "\u001b[1;31mNameError\u001b[0m: name 'height' is not defined"
     ]
    }
   ],
   "source": [
    "height"
   ]
  },
  {
   "cell_type": "code",
   "execution_count": 11,
   "id": "6ce5e0ef",
   "metadata": {},
   "outputs": [
    {
     "ename": "SyntaxError",
     "evalue": "invalid syntax (2142196594.py, line 1)",
     "output_type": "error",
     "traceback": [
      "\u001b[1;36m  Cell \u001b[1;32mIn[11], line 1\u001b[1;36m\u001b[0m\n\u001b[1;33m    123var = 3 # cannot start name with a number\u001b[0m\n\u001b[1;37m       ^\u001b[0m\n\u001b[1;31mSyntaxError\u001b[0m\u001b[1;31m:\u001b[0m invalid syntax\n"
     ]
    }
   ],
   "source": [
    "123var = 3 # cannot start name with a number"
   ]
  },
  {
   "cell_type": "code",
   "execution_count": 12,
   "id": "0f2017d0",
   "metadata": {},
   "outputs": [
    {
     "ename": "SyntaxError",
     "evalue": "invalid syntax (324804718.py, line 2)",
     "output_type": "error",
     "traceback": [
      "\u001b[1;36m  Cell \u001b[1;32mIn[12], line 2\u001b[1;36m\u001b[0m\n\u001b[1;33m    this doesnt = 4 # cannot have a space in name - use underscores instead\u001b[0m\n\u001b[1;37m         ^\u001b[0m\n\u001b[1;31mSyntaxError\u001b[0m\u001b[1;31m:\u001b[0m invalid syntax\n"
     ]
    }
   ],
   "source": [
    "this_name_works = 5\n",
    "this doesnt = 4 # cannot have a space in name - use underscores instead"
   ]
  },
  {
   "cell_type": "code",
   "execution_count": 13,
   "id": "30b33554",
   "metadata": {},
   "outputs": [
    {
     "ename": "SyntaxError",
     "evalue": "invalid syntax (4095325651.py, line 1)",
     "output_type": "error",
     "traceback": [
      "\u001b[1;36m  Cell \u001b[1;32mIn[13], line 1\u001b[1;36m\u001b[0m\n\u001b[1;33m    if = 5 # if is a reserved Python keyword - Spyder will alert you if you try to use one of them\u001b[0m\n\u001b[1;37m       ^\u001b[0m\n\u001b[1;31mSyntaxError\u001b[0m\u001b[1;31m:\u001b[0m invalid syntax\n"
     ]
    }
   ],
   "source": [
    "if = 5 # if is a reserved Python keyword - Spyder will alert you if you try to use one of them"
   ]
  },
  {
   "cell_type": "markdown",
   "id": "44a3253b",
   "metadata": {},
   "source": [
    "### Displaying output\n",
    "\n",
    "Besides calling variables in the console, another useful way of displaying their values is using the built-in `print` function. It displays the value of the expression we place inside the following parenthesis. Try the following in Jupyter's console."
   ]
  },
  {
   "cell_type": "code",
   "execution_count": 14,
   "id": "bea20895",
   "metadata": {},
   "outputs": [
    {
     "name": "stdout",
     "output_type": "stream",
     "text": [
      "7\n",
      "14\n"
     ]
    }
   ],
   "source": [
    "width = 7\n",
    "print(width)\n",
    "print(2*width)"
   ]
  },
  {
   "cell_type": "markdown",
   "id": "9f208b30",
   "metadata": {},
   "source": [
    "The keyword `print` is the name of a function, an action that Python recognizes. We will return to functions shortly.\n",
    "\n",
    "This way of selectively displaying information will prove very useful when we start writing longer programs.\n",
    "\n",
    "\n",
    "## Handling text\n",
    "\n",
    "We now know how to store the values of our calculations. To take another step beyond a simple pocket calculator, we can also work with non-numerical data, such as text. In programming, we refer to text data as **strings**, as in strings of characters.\n"
   ]
  },
  {
   "cell_type": "code",
   "execution_count": 15,
   "id": "4915f054",
   "metadata": {},
   "outputs": [
    {
     "name": "stdout",
     "output_type": "stream",
     "text": [
      "6\n",
      "3 + 3\n"
     ]
    }
   ],
   "source": [
    "print(3 + 3)\n",
    "print('3 + 3')"
   ]
  },
  {
   "cell_type": "markdown",
   "id": "6abaf1b3",
   "metadata": {},
   "source": [
    "The two commands display different results. The first is the result of the calculation as expected, but Python interprets the second as a **string** of characters because we entered it within quotes. That is precisely what a string is: a collection of characters within quotation marks, where the characters can be anything: numbers, letters, or other characters.\n",
    "\n",
    "We can define strings using either single or double quotes.\n",
    "\n",
    "Type the following into the console:"
   ]
  },
  {
   "cell_type": "code",
   "execution_count": 18,
   "id": "43a640aa",
   "metadata": {},
   "outputs": [
    {
     "name": "stdout",
     "output_type": "stream",
     "text": [
      "a string\n"
     ]
    },
    {
     "data": {
      "text/plain": [
       "'a string'"
      ]
     },
     "execution_count": 18,
     "metadata": {},
     "output_type": "execute_result"
    }
   ],
   "source": [
    "x = \"a string\"\n",
    "print(x)\n",
    "x"
   ]
  },
  {
   "cell_type": "markdown",
   "id": "2562a6ff",
   "metadata": {},
   "source": [
    "In order to return the value of `x`, type `x` into the console. Next type `print(x)`. Notice a small difference in what the console displays. Typing in the variable name retrieves its *value*, a string with quotation marks. Printing it strips away the quotation marks and displays only the *content* of the string.\n",
    "\n",
    "Look at the code example below. What would you expect the value of `z` to be? Check your guess by typing the statements into the console one by one.\n"
   ]
  },
  {
   "cell_type": "code",
   "execution_count": 19,
   "id": "33246c24",
   "metadata": {},
   "outputs": [
    {
     "name": "stdout",
     "output_type": "stream",
     "text": [
      "FranzKafka\n"
     ]
    }
   ],
   "source": [
    "x = 'Franz'\n",
    "y = 'Kafka'\n",
    "z = x + y\n",
    "print(z)"
   ]
  },
  {
   "cell_type": "markdown",
   "id": "c9961f59",
   "metadata": {},
   "source": [
    "You have seen an interesting feature of Python: we can \"add\" together not just numbers, but strings too in a simple way.\n",
    "\n",
    "What happens if you try `x*3`? What does the multiplication do?\n",
    "\n",
    "Some characters cannot be directly used in strings. For example, we cannot use the single quote character `'` within a string defined by single quotes, as the string would end prematurely: try\n",
    "`s = 'Kafka's book'`. \n",
    "\n",
    "If we want to do so, we can use a backslash before them, as in `'Kafka\\'s book'`, or double quotes, as in `\"Kafka's book\"`.\n"
   ]
  },
  {
   "cell_type": "code",
   "execution_count": 21,
   "id": "7b6e1642",
   "metadata": {},
   "outputs": [
    {
     "name": "stdout",
     "output_type": "stream",
     "text": [
      "Kafka's \n",
      "book\n",
      "Kafka's book\n"
     ]
    }
   ],
   "source": [
    "print('Kafka\\'s \\nbook')\n",
    "print(\"Kafka's book\") # we can also use double quotes"
   ]
  },
  {
   "cell_type": "markdown",
   "id": "ee02bc81",
   "metadata": {},
   "source": [
    "**Note.** In programming lingo, `\\'` is known as an *escape character*. The backslash tells Python that the following `'` character has a special meaning, so Python does not interpret it in the usual way as starting or ending a string. Another example of escape characters is inserting a line break in text with the character `\\n`. Again the backslash tells Python that the following `n` character has the special meaning of adding a line break.\n",
    "\n",
    "We can also create multiline strings using triple quotes:"
   ]
  },
  {
   "cell_type": "code",
   "execution_count": 22,
   "id": "b342b5d9",
   "metadata": {},
   "outputs": [
    {
     "name": "stdout",
     "output_type": "stream",
     "text": [
      "\n",
      "    Franz Kafka\n",
      "    Metamorphosis\n",
      "\n"
     ]
    }
   ],
   "source": [
    "text = \"\"\"\n",
    "    Franz Kafka\n",
    "    Metamorphosis\n",
    "\"\"\"\n",
    "print(text)"
   ]
  },
  {
   "cell_type": "markdown",
   "id": "a7975de8",
   "metadata": {},
   "source": [
    "We will return to working with strings later on in the module.\n",
    "\n",
    "## Objects, types, and built-in functions\n",
    "\n",
    "We began this session by working on numerical calculations and then moved on to strings. In Python lingo, we call strings and numbers - and anything else we can manipulate - **objects**. Objects come in many different forms, and what we can do with them depends on the **type** of the object. For example, above we saw that Python knows to \"add\" together numbers and strings in different ways.\n",
    "\n",
    "We can find out the type of an object using the built-in function `type()`. To see how it works, try the following code in the console."
   ]
  },
  {
   "cell_type": "code",
   "execution_count": 23,
   "id": "a885d2ab",
   "metadata": {},
   "outputs": [
    {
     "data": {
      "text/plain": [
       "float"
      ]
     },
     "execution_count": 23,
     "metadata": {},
     "output_type": "execute_result"
    }
   ],
   "source": [
    "type('5')\n",
    "type(5)\n",
    "type(5.0)"
   ]
  },
  {
   "cell_type": "markdown",
   "id": "a0f94a1f",
   "metadata": {},
   "source": [
    "Notice the difference between the last two. Python distinguishes between integer-valued numbers and decimals, which are called *floating-point numbers* or *floats*.\n",
    "\n",
    "Let’s see what happens when we try to combine a number in string form\n",
    "with an integer. Type the following in the console:"
   ]
  },
  {
   "cell_type": "code",
   "execution_count": null,
   "id": "287df2ea",
   "metadata": {},
   "outputs": [],
   "source": [
    "3+'4'"
   ]
  },
  {
   "cell_type": "markdown",
   "id": "ac8eb3cb",
   "metadata": {},
   "source": [
    "This will cause a `TypeError`. In order to be able to add the two together, we need to convert one.\n",
    "\n",
    "Try out the following code in the console."
   ]
  },
  {
   "cell_type": "code",
   "execution_count": 24,
   "id": "1dad74cb",
   "metadata": {},
   "outputs": [
    {
     "data": {
      "text/plain": [
       "7"
      ]
     },
     "execution_count": 24,
     "metadata": {},
     "output_type": "execute_result"
    }
   ],
   "source": [
    "x = 3\n",
    "y = '4'\n",
    "y_int = int(y)\n",
    "type(y_int)\n",
    "x + y_int"
   ]
  },
  {
   "cell_type": "markdown",
   "id": "78c573ae",
   "metadata": {},
   "source": [
    "Python conveniently converts the string into an integer using the `int()` function. Similarly, we can convert a string to a float, or a number to a string using the functions `float()` and `str()`. With these procedures, we can often change the type of one an object to another one. (Sometimes it doesn't work and Python will tell us so.)\n",
    "\n",
    "Let's see in some more detail what happens when we use a function with another type conversion example."
   ]
  },
  {
   "cell_type": "code",
   "execution_count": 25,
   "id": "f68c30c5",
   "metadata": {},
   "outputs": [
    {
     "data": {
      "text/plain": [
       "3"
      ]
     },
     "execution_count": 25,
     "metadata": {},
     "output_type": "execute_result"
    }
   ],
   "source": [
    "int(3.5)"
   ]
  },
  {
   "cell_type": "markdown",
   "id": "0b14ac35",
   "metadata": {},
   "source": [
    "This is an *expression*, like `3+4`, but of a different kind: a *call expression*. A call expression applies a Python function to an argument. \n",
    "\n",
    "A function in Python is similar to a function mathematics in that it *maps an input argument into an output value*. Here, the function `int` is applied to the argument within parenthesis, `3.5`. The output value of the evaluated expression is in this case `3`, the integer part of `3.5`.\n",
    "\n",
    "The functions above are just a few of Python's many built-in functions. Here are some common functions; try them out in Spyder's console."
   ]
  },
  {
   "cell_type": "code",
   "execution_count": 26,
   "id": "afaf367d",
   "metadata": {},
   "outputs": [
    {
     "data": {
      "text/plain": [
       "5"
      ]
     },
     "execution_count": 26,
     "metadata": {},
     "output_type": "execute_result"
    }
   ],
   "source": [
    "max(3, 5) # output: maximum value among input arguments\n",
    "min(3, 5) # output: maximum value among input arguments\n",
    "abs(-4) # output: absolute value of input argument\n",
    "round(5.324, 1) # output: rounds the first argument to the number of decimals specified by second argument\n",
    "len('hello') # output: length of input string"
   ]
  },
  {
   "cell_type": "markdown",
   "id": "5993b6c7",
   "metadata": {},
   "source": [
    "Each of these functions can be used to assign the output value to a variable:"
   ]
  },
  {
   "cell_type": "code",
   "execution_count": 28,
   "id": "5039efce",
   "metadata": {},
   "outputs": [],
   "source": [
    "y = max(3, 4)"
   ]
  },
  {
   "cell_type": "markdown",
   "id": "0184f1d5",
   "metadata": {},
   "source": [
    "Notice that the `print` function appears similar to the above functions, but works slightly differently. It is used to *display* the input argument, but does not provide it as output. The output of the `print` function is always the special value `None`, which represents \"nothing\"."
   ]
  },
  {
   "cell_type": "code",
   "execution_count": 30,
   "id": "86b8525c",
   "metadata": {},
   "outputs": [
    {
     "name": "stdout",
     "output_type": "stream",
     "text": [
      "3\n",
      "3\n",
      "None\n"
     ]
    }
   ],
   "source": [
    "print(3)\n",
    "three = print(3) # displays the argument; output is None\n",
    "print(three)"
   ]
  },
  {
   "cell_type": "markdown",
   "id": "d7156d1a",
   "metadata": {},
   "source": [
    "We'll see many more functions in the coming sessions, and also learn to define our own functions.\n",
    "\n",
    "**Advanced.** If you're coming from another programming language, you may have been surprised that Python lets us define variables without first specifying their types. The technical term for this is that Python is a *dynamically-typed* language. Other popular languages, such as Java, require *static* typing, meaning the type of a variable must be declared before assignment. Lots of discussions have been had over the relative merits of these approaches, but both can be used to write\n",
    "useful programs.\n",
    "\n",
    "\n",
    "## Writing programs in the Spyder editor\n",
    "When writing longer programs, it is useful to type them in a text editor\n",
    "before running the program, rather than line-by-line into the Python\n",
    "console.\n",
    "\n",
    "Let us now move from the console to the Spyder text editor, on the\n",
    "left-hand side of the Spyder window.\n",
    "\n",
    "When we create a new file with Spyder, it comes with a prefix, something\n",
    "like:\n",
    "\n",
    "In \\[ \\]:\n",
    "\n",
    "    # -*- coding: utf-8 -*-\n",
    "    \"\"\"\n",
    "    Created on Wed Jun 14 15:06:38 2017\n",
    "\n",
    "    @author: hpeura\n",
    "    \"\"\"\n",
    "\n",
    "This is a comment area that allows us to spell out what our script does,\n",
    "either for our own future reference or for others who will use our code.\n",
    "To allow these kind of comments, the Python interpreter will not run\n",
    "lines starting with `#` or anything between triple quotations `\"\"\"`.\n",
    "\n",
    "Write or copy the following code into the editor, below the comment.\n",
    "\n",
    "In \\[ \\]:\n",
    "\n",
    "    first_name = 'Franz'\n",
    "    last_name = 'Kafka'\n",
    "    book_name = 'The Trial'\n",
    "    book_year = 1925\n",
    "    text = (first_name + ' ' + last_name + ' published ' + book_name + ' in ' + str(book_year))\n",
    "    print(text)\n",
    "\n",
    "Next, let us save the file: from the menu, select File, then Save As.\n",
    "Give it a name, such as `kafka.py`.\n",
    "\n",
    "After saving the file, we can run it by clicking on the green arrow in\n",
    "the Spyder toolbar on top of the window. You can also do this by using\n",
    "the keyboard shortcut `F5`, or selecting **Run-\\>Run** from the menu.\n",
    "\n",
    "Run the code, and look at the IPython console. Notice that nothing\n",
    "appears for the first five lines of code, only the result of the\n",
    "`print()` statement. This is useful - when writing longer programs, it\n",
    "allows us to only display the information that we want to see, rather\n",
    "than a mass of intermediary commands and calculations.\n",
    "\n",
    "Often we do not want to run the entire script, but perhaps just a few\n",
    "lines. To do this, select the code you wish to run, and select\n",
    "**Run-\\>Selection or Current Line** from the menu, or hit the `F9`-key.\n",
    "Try this out and see what happens in the console.\n",
    "\n",
    "A nice thing about Spyder is that it allows us to conveniently write\n",
    "longer programs while also letting us quickly test parts of our code in\n",
    "the console.\n",
    "\n",
    "We will use Spyder throughout the module to work on sessions and\n",
    "assignments.\n",
    "\n",
    "## Comparisons and conditional statements\n",
    "\n",
    "We often want to have our program do one thing if some condition is true, and another if it's false. For example, we might only want to only use data from the past year in a calculation, or only save data of tweets from people with many followers on Twitter.\n",
    "\n",
    "We do these kind of things in Python using comparisons. A comparison compares two objects, and gives a result that is always either `True` or `False`. In other words, the result is a **Boolean** expression. Along with integers, floats, and strings, Booleans are another type of Python object we will be using a lot.\n",
    "\n",
    "Let us try some comparisons in the Jupyter console."
   ]
  },
  {
   "cell_type": "code",
   "execution_count": 31,
   "id": "08b8cdda",
   "metadata": {},
   "outputs": [
    {
     "data": {
      "text/plain": [
       "True"
      ]
     },
     "execution_count": 31,
     "metadata": {},
     "output_type": "execute_result"
    }
   ],
   "source": [
    "2 > 1\n",
    "1 > 2\n",
    "1 == 0 # equal\n",
    "1 != 0 # not equal"
   ]
  },
  {
   "cell_type": "markdown",
   "id": "e03cb304",
   "metadata": {},
   "source": [
    "Try also `type(1>2)`: you will see that the type is `bool` (Boolean).\n",
    "\n",
    "The Boolean values `True` and `False` correspond to `1` and `0`\n",
    "respectivelly. In the console, try out:"
   ]
  },
  {
   "cell_type": "code",
   "execution_count": 33,
   "id": "0042efe9",
   "metadata": {},
   "outputs": [
    {
     "data": {
      "text/plain": [
       "True"
      ]
     },
     "execution_count": 33,
     "metadata": {},
     "output_type": "execute_result"
    }
   ],
   "source": [
    "True == 1"
   ]
  },
  {
   "cell_type": "markdown",
   "id": "3c06dd98",
   "metadata": {},
   "source": [
    "Python has a number of operators for making comparisons. Here are some common ones we will often use:\n",
    "\n",
    "| Operation | Description                      |\n",
    "|-----------|----------------------------------|\n",
    "| `a == b`  | `a` equal to `b`                 |\n",
    "| `a != b`  | `a` not equal to `b`             |\n",
    "| `a < b`   | `a` less than `b`                |\n",
    "| `a > b`   | `a` greater than `b`             |\n",
    "| `a <= b`  | `a` less than or equal to `b`    |\n",
    "| `a >= b`  | `a` greater than or equal to `b` |\n",
    "\n",
    "We can reverse a comparison by using the keyword `not`. Try out in the\n",
    "console"
   ]
  },
  {
   "cell_type": "code",
   "execution_count": 34,
   "id": "68bdd657",
   "metadata": {},
   "outputs": [
    {
     "data": {
      "text/plain": [
       "False"
      ]
     },
     "execution_count": 34,
     "metadata": {},
     "output_type": "execute_result"
    }
   ],
   "source": [
    "a = 5*5\n",
    "b = 25\n",
    "a == b\n",
    "not a == b"
   ]
  },
  {
   "cell_type": "markdown",
   "id": "73e98bd9",
   "metadata": {},
   "source": [
    "On the last line, `a==b` first evaluates to `True`, and `not` then reverses this.\n",
    "\n",
    "Boolean expressions can also be combined using the operators `and` and `or`."
   ]
  },
  {
   "cell_type": "code",
   "execution_count": 35,
   "id": "82aaa13c",
   "metadata": {},
   "outputs": [
    {
     "data": {
      "text/plain": [
       "True"
      ]
     },
     "execution_count": 35,
     "metadata": {},
     "output_type": "execute_result"
    }
   ],
   "source": [
    "c = True\n",
    "d = False\n",
    "c and d\n",
    "c or d"
   ]
  },
  {
   "cell_type": "markdown",
   "id": "5e0e3282",
   "metadata": {},
   "source": [
    "The logical `and` evaluates to `True` only when both Booleans are `True`. The logical `or` yields `True` when at least one of the Booleans is `True`.\n",
    "\n",
    "### Conditional statements\n",
    "\n",
    "Why do we care about Boolean expressions? The reason is that they add a new capability to our code: we can now make **choices** using *conditional statements*. That is, we can tell our program to do one thing if a condition is `True` and another if it is `False`. This tremendously increases our options in building programs that can take different paths. Whenever a computer program appears to make smart decisions, there are typically conditional statements behind it.\n",
    "\n",
    "This is done using conditional `if` statements. Here is an example of an `if` statement that prints out information depending on the value of the variable `rainfall`.\n"
   ]
  },
  {
   "cell_type": "code",
   "execution_count": 36,
   "id": "7dac83f2",
   "metadata": {},
   "outputs": [
    {
     "name": "stdout",
     "output_type": "stream",
     "text": [
      "It will likely rain 2 millimeters.\n",
      "Bring an umbrella!\n"
     ]
    }
   ],
   "source": [
    "rainfall = 2\n",
    "if rainfall > 0.5:\n",
    "    print('It will likely rain ' + str(rainfall) + ' millimeters.')\n",
    "    print('Bring an umbrella!')"
   ]
  },
  {
   "cell_type": "markdown",
   "id": "4e9f3dd7",
   "metadata": {},
   "source": [
    "The statement consists of a *condition* and a *body block*. The condition here is an expression that checks whether the value of rainfall is greater than 0.5. This evaluates to a Boolean value True or False. If the condition is true, the statements in the body block are executed. Otherwise they are skipped. The execution of this programme thus depends on the value of the variable rainfall.\n",
    "\n",
    "Here's a [visualisation](http://pythontutor.com/visualize.html#code=rainfall%20%3D%202%0Aif%20rainfall%20%3E%200.5%3A%0A%20%20%20%20print%28'It%20will%20likely%20rain%20'%20%2B%20str%28rainfall%29%20%2B%20'%20millimeters.'%29%0A%20%20%20%20print%28'Bring%20an%20umbrella!'%29&cumulative=false&curInstr=0&heapPrimitives=false&mode=display&origin=opt-frontend.js&py=3&rawInputLstJSON=%5B%5D&textReferences=false) of how the the above code works. The indented lines following the `if` statement are only evaluated if the condition evaluates to `True`. Otherwise, Python will skip these lines.\n",
    "\n",
    "**Syntax note.** When writing `if` statements, we need to be very\n",
    "careful with syntax. Generally, it looks like this:  \n",
    "```\n",
    "if condition:\n",
    "    statements to evaluate if condition is True \n",
    "```\n",
    "\n",
    "-   The line with the `if` statement **ends with a colon**. This is\n",
    "    mandatory. It tells Python that the condition ends there.   \n",
    "-   The following code is **indented by four spaces**. This is also\n",
    "    mandatory - conveniently, Spyder does it automatically for us when\n",
    "    we press the Tab key. The indentation tells Python that all indented\n",
    "    lines that directly follow the colon should be evaluated if the\n",
    "    condition is `True`. We often call the group of indented lines a\n",
    "    *code block*.  \n",
    "\n",
    "Both of these syntax features are essential to Python.\n",
    "\n",
    "The `if` statement is a *decision structure*: it allows the program to make decisions based on data. Instead of simply running through every line from top to bottom, the program can now branch in different directions, for example based on user input. In our example, if the rainfall condition is satisfied, the program branches into the conditional block. Otherwise, it jumps to evaluating the next line, here another print statement."
   ]
  },
  {
   "cell_type": "code",
   "execution_count": 37,
   "id": "cdc18401",
   "metadata": {},
   "outputs": [
    {
     "name": "stdout",
     "output_type": "stream",
     "text": [
      "Done with checking the weather.\n"
     ]
    }
   ],
   "source": [
    "rainfall = 0\n",
    "if rainfall > 0.5:\n",
    "    print('It will likely rain ' + str(rainfall) + ' millimeters.')\n",
    "    print('Bring an umbrella!')\n",
    "print('Done with checking the weather.')"
   ]
  },
  {
   "cell_type": "markdown",
   "id": "571177f6",
   "metadata": {},
   "source": [
    "What if we want to print a different message if the day is not rainy? We\n",
    "can do so using an `else` statement. We specify another block of\n",
    "statements that will be executed if and only if the condition is\n",
    "`False`."
   ]
  },
  {
   "cell_type": "code",
   "execution_count": 38,
   "id": "29b2c754",
   "metadata": {},
   "outputs": [
    {
     "name": "stdout",
     "output_type": "stream",
     "text": [
      "Expected rainfall is below 0.5 millimeters today.\n",
      "Enjoy your day!\n",
      "Done with checking the weather.\n"
     ]
    }
   ],
   "source": [
    "rainfall = 0\n",
    "if rainfall > 0.5:\n",
    "    print('It will likely rain ' + str(rainfall) + ' millimeters.')\n",
    "    print('Bring an umbrella!')\n",
    "else:\n",
    "    print('Expected rainfall is below 0.5 millimeters today.')\n",
    "    print('Enjoy your day!')\n",
    "print('Done with checking the weather.')"
   ]
  },
  {
   "cell_type": "markdown",
   "id": "d8880c68",
   "metadata": {},
   "source": [
    "Notice the `else` statement again requires the **colon** and exactly\n",
    "**four spaces** for the following statement(s). Note also that there may\n",
    "be multiple lines of code that are executed given a condition, all of\n",
    "which need to be indented.\n",
    "\n",
    "We can also go through several cases of a condition using `elif`, short\n",
    "for \"else if\". Think about how the below code snippet would work, and\n",
    "check your understanding with Jupyter."
   ]
  },
  {
   "cell_type": "code",
   "execution_count": 39,
   "id": "0410db0c",
   "metadata": {},
   "outputs": [
    {
     "name": "stdout",
     "output_type": "stream",
     "text": [
      "Perfect weather!\n",
      "Have a great day!\n",
      "Done with the temperature.\n"
     ]
    }
   ],
   "source": [
    "temp = 18\n",
    "if temp >= 30:\n",
    "    print('Too hot!')\n",
    "elif temp <= 15:\n",
    "    print('Too cold!')\n",
    "else:\n",
    "    print('Perfect weather!')\n",
    "    print('Have a great day!')\n",
    "print('Done with the temperature.')"
   ]
  },
  {
   "cell_type": "markdown",
   "id": "8cf941d6",
   "metadata": {},
   "source": [
    "We can also combine different conditions to create *nested* statements.\n",
    "For example, if we care about both the temperature and humidity:"
   ]
  },
  {
   "cell_type": "code",
   "execution_count": 40,
   "id": "7667a190",
   "metadata": {},
   "outputs": [
    {
     "name": "stdout",
     "output_type": "stream",
     "text": [
      "Too hot!\n",
      "I'm out of here!\n"
     ]
    }
   ],
   "source": [
    "temp = 33\n",
    "humidity = 90\n",
    "if temp >= 30:\n",
    "    print('Too hot!')\n",
    "    if humidity > 80:\n",
    "        print('I\\'m out of here!')"
   ]
  },
  {
   "cell_type": "markdown",
   "id": "d6d9caf7",
   "metadata": {},
   "source": [
    "The second `print` statement only gets evaluated if both of the\n",
    "conditions are `True`.\n",
    "\n",
    "How we use conditionals depends on how we want to structure the\n",
    "decisions that the program takes. What is the difference of the above\n",
    "code with the one below?"
   ]
  },
  {
   "cell_type": "code",
   "execution_count": 41,
   "id": "184c14c5",
   "metadata": {},
   "outputs": [
    {
     "name": "stdout",
     "output_type": "stream",
     "text": [
      "Too hot!\n",
      "I'm out of here!\n"
     ]
    }
   ],
   "source": [
    "temp = 33\n",
    "humidity = 90\n",
    "if temp >= 30 and humidity > 80:\n",
    "    print('Too hot!')\n",
    "    print('I\\'m out of here!')"
   ]
  },
  {
   "cell_type": "markdown",
   "id": "0a622d8c",
   "metadata": {},
   "source": [
    "## Iteration using while loops\n",
    "\n",
    "We often want to repeat actions in our programs. For example, we may\n",
    "want to read the data from several files to produce plots for a report;\n",
    "we may want to calculate investment returns for many different assets;\n",
    "or we may scrape through the pages of a website. In all these cases,\n",
    "repeatedly performing calculations or other statements would quickly\n",
    "become tedious. Instead, we use *iteration* mechanisms (also called\n",
    "*loops*) which allow us to repeatedly execute statements.\n",
    "\n",
    "Python has two main methods for iteration: while loops and for loops. We\n",
    "will focus on while loops in this session and return to for loops later.\n",
    "\n",
    "Repeating tasks is a common task in our programs. Suppose we want our\n",
    "program print the squared values of the integers from 1 through 5. We\n",
    "know how to do this:"
   ]
  },
  {
   "cell_type": "code",
   "execution_count": 43,
   "id": "d79e0e8a",
   "metadata": {},
   "outputs": [
    {
     "name": "stdout",
     "output_type": "stream",
     "text": [
      "1\n",
      "4\n",
      "9\n",
      "16\n",
      "25\n"
     ]
    }
   ],
   "source": [
    "print(1**2)\n",
    "print(2**2)\n",
    "print(3**2)\n",
    "print(4**2)\n",
    "print(5**2)"
   ]
  },
  {
   "cell_type": "markdown",
   "id": "d00b58ca",
   "metadata": {},
   "source": [
    "It works but it is cumbersome, especially if we need to calculate more values. Instead, we will use iteration with a while loop. The structure of a while loop is as follows:\n",
    "In \\[ \\]:\n",
    "\n",
    "    while condition:\n",
    "        statement # loop body statements\n",
    "        statement \n",
    "        etc.\n",
    "\n",
    "The while loop looks very much like an if statement. It begins with the evaluation of a `condition`. If the condition is `True`, Python executes the loop \"body\" statements once. It then goes back to evaluate the `condition` a second time. Python repeats this process until the test evaluates to `False`, after which the program execution moves to the next line following the loop.\n",
    "\n",
    "The repeated code block may include one or multiple lines of code. Notice how the syntax closely resembles that of the `if` statement. We again use a colon after the condition, and indentation to distinguish the block of lines to be executed repeatedly. These should be indented by exactly four spaces (in Jupyter, use the Tab key).\n",
    "\n",
    "Let's use this to solve calculate the squares."
   ]
  },
  {
   "cell_type": "code",
   "execution_count": 44,
   "id": "77922138",
   "metadata": {},
   "outputs": [
    {
     "name": "stdout",
     "output_type": "stream",
     "text": [
      "1\n",
      "4\n",
      "9\n",
      "16\n",
      "25\n"
     ]
    }
   ],
   "source": [
    "i = 1 # initialization\n",
    "while i <= 5: # condition\n",
    "    print(i**2)\n",
    "    i = i + 1  # increment"
   ]
  },
  {
   "cell_type": "markdown",
   "id": "7d6f8d91",
   "metadata": {},
   "source": [
    "Here's a\n",
    "[visualization](http://pythontutor.com/visualize.html#code=i%20%3D%201%20%23%20initialization%0Awhile%20i%20%3C%3D%205%3A%20%23%20condition%0A%20%20%20%20print%28i**2%29%0A%20%20%20%20i%20%3D%20i%20%2B%201%20%20%23%20increment&cumulative=false&curInstr=0&heapPrimitives=nevernest&mode=display&origin=opt-frontend.js&py=3&rawInputLstJSON=%5B%5D&textReferences=false)\n",
    "of the above code executing.\n",
    "\n",
    "The two indented lines of code are repeated as long as the condition\n",
    "`i <= 5` is satisfied. As each iteration of the loop increases the value\n",
    "of i by one, the loop exits after five iterations, and execution moves\n",
    "on.\n",
    "\n",
    "The example shows three key components of while loops: initialization,\n",
    "condition, and incrementing. We set the initial value of `i` to 1, where\n",
    "we wish to start printing. We then set the condition to stop the\n",
    "evaluation once we hit 5. Finally, we increment the value of i within\n",
    "the loop so that it goes through all integers up to 5. This is\n",
    "important: if we omitted the increment, the loop would run infinitely as\n",
    "the condition would always be satisfied. If you run into this problem\n",
    "with your code in Spyder, use the key combination `Ctrl + C` to quit the\n",
    "loop execution.\n",
    "\n",
    "## All done\n",
    "\n",
    "That's the end of the main part of the session. You can review material\n",
    "and find optional extra exercises below.\n",
    "\n",
    "## Syntax roundup\n",
    "\n",
    "We've now seen many important features of Python's syntax. Consider the\n",
    "following code examples."
   ]
  },
  {
   "cell_type": "code",
   "execution_count": 45,
   "id": "d0df56c4",
   "metadata": {},
   "outputs": [
    {
     "name": "stdout",
     "output_type": "stream",
     "text": [
      "Hello, again!\n",
      "14\n",
      "14\n"
     ]
    }
   ],
   "source": [
    "print('Hello, again!') # Displays the stuff within parentheses\n",
    "print((2 + 5)*2)\n",
    "print((2+5)*2)"
   ]
  },
  {
   "cell_type": "code",
   "execution_count": null,
   "id": "cd6bbc1c",
   "metadata": {},
   "outputs": [],
   "source": [
    "x = 5\n",
    "     print(2*x)"
   ]
  },
  {
   "cell_type": "code",
   "execution_count": null,
   "id": "171f55ca",
   "metadata": {},
   "outputs": [],
   "source": [
    "if 2 > 1:\n",
    "        print('Hey!')"
   ]
  },
  {
   "cell_type": "markdown",
   "id": "2dc5d095",
   "metadata": {},
   "source": [
    "These commands illustrate some key rules of Python syntax:\n",
    "\n",
    "-   **End of the line terminates a statement.** That is, whenever we\n",
    "    finish the line, the Python interpreter executes that line's\n",
    "    contents as a command and moves on to the next line.\n",
    "-   **Parenthesis are used for calling Python functions**, such as\n",
    "    `print()`, **or grouping**, as in the calculations above,\n",
    "-   **The hash sign `#` denotes a comment.** The Python interpreter will\n",
    "    ignore everything on a line after a hash sign.\n",
    "-   **Whitespace *within the line* has no effect on the execution**, as\n",
    "    we can see from the two calculations. Using spaces in formulas can\n",
    "    be helpful to make the code readable.\n",
    "-   **Whitespace *in the beginning of the line* matters a lot.** In one\n",
    "    of the examples above, there was an extra space in our calculation,\n",
    "    which caused an error with Python. Helpfully, Python calls this an\n",
    "    `IndentationError`, so we know that the indentation was wrong.\n",
    "    Indentation matters because Python uses it to determine which parts\n",
    "    of the code are part of blocks such as `if` statements. We indent\n",
    "    them by exactly four spaces, which Spyder will add when you press\n",
    "    the **Tab** key. The colon sign `:` is used to denote the beginning\n",
    "    of such an indented block.\n",
    "\n",
    "## Error roundup\n",
    "\n",
    "By now, you have seen a few types of errors in code. Here are some of\n",
    "the more common ones:\n",
    "\n",
    "-   `SyntaxError`: an error in Python syntax, for example in the code:\n",
    "\n",
    "        my name = 'John'\n",
    "\n",
    "-   `TypeError` - for example, combining wrong type of data, for example\n",
    "    `1/'2'`\n",
    "\n",
    "-   `IndentationError` - a line of code, such as an `if` statement, does\n",
    "    not follow the Python rules of indentation\n",
    "\n",
    "-   `NameError` - for example, trying to get the value of a variable\n",
    "    that hasn't been defined\n",
    "\n",
    "-   `ValueError` - for example, using an invalid value in a function:\n",
    "    `int('a')`\n",
    ">\n",
    "## Review questions\n",
    "\n",
    "How would you explain the following to your neighbour?\n",
    "\n",
    "-   What are strings, integers, and floats?\n",
    "-   What are variables and assignment statements?\n",
    "-   What is a Boolean expression?\n",
    "-   What are conditional statements? How do they work in Python? What\n",
    "    are the syntax rules for them?\n",
    "-   What is the difference between working in Spyder's editor and\n",
    "    console?"
   ]
  },
  {
   "cell_type": "code",
   "execution_count": null,
   "id": "b1c80d90",
   "metadata": {},
   "outputs": [],
   "source": []
  }
 ],
 "metadata": {
  "kernelspec": {
   "display_name": "Python 3 (ipykernel)",
   "language": "python",
   "name": "python3"
  },
  "language_info": {
   "codemirror_mode": {
    "name": "ipython",
    "version": 3
   },
   "file_extension": ".py",
   "mimetype": "text/x-python",
   "name": "python",
   "nbconvert_exporter": "python",
   "pygments_lexer": "ipython3",
   "version": "3.9.16"
  }
 },
 "nbformat": 4,
 "nbformat_minor": 5
}
