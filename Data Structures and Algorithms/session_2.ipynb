{
 "cells": [
  {
   "cell_type": "markdown",
   "id": "8e85e2ea-d62e-4582-8c67-725c8622f982",
   "metadata": {},
   "source": [
    "# Session 2: Algorithms and functions\n",
    "\n",
    "*Data Structures and Algorithms*\n",
    "\n",
    "*Achyuthuni Sri Harsha*\n",
    "\n",
    "------------------------------------------------------------------------\n",
    "\n",
    "In this session, we will learn to build our first algorithms and\n",
    "organize our code into building blocks using *functions*.\n",
    "\n",
    "------------------------------------------------------------------------\n",
    "\n",
    "## Preparation\n",
    "\n",
    "***Readings:***\n",
    "\n",
    "Guttag: Chapters 3.1, 3.3, 4.0-4.2.\n",
    "\n",
    "***OR***\n",
    "\n",
    "Sweigart, Al. Automate the Boring Stuff with Python.\n",
    "\n",
    "-   Chapter 3 – Functions <https://automatetheboringstuff.com/chapter3/>\n",
    "\n",
    "***Optional Readings:***\n",
    "\n",
    "Ford, Paul. What is code?\n",
    "\n",
    "-   <https://www.bloomberg.com/graphics/2015-paul-ford-what-is-code/>\n",
    "\n",
    "**Questions:**\n",
    "\n",
    "Please read the readings above and think about how you would explain to\n",
    "your classmates:\n",
    "\n",
    "-   What is a function?\n",
    "-   Why do we use functions?\n",
    "-   What does it mean to \"call a function\"?\n",
    "\n",
    "------------------------------------------------------------------------\n",
    "\n",
    "## Recap\n",
    "\n",
    "In Session 1, we learned how to execute statements such as arithmetic operations, store the values of our calculations, and use conditional statements to make decisions in our programs.\n",
    "\n",
    "## Functions\n",
    "\n",
    "We've now introduced many key structures of programming: calculations, variable assignment, conditions, and loop structures. These are enough for us to start solving computational problems, but before we do, let us introduce another useful concept: functions.\n",
    "\n",
    "We use algorithms all the time in our everyday lives, and often trust someone else or a service to do so for us. For example, we give a destination to a mapping service, and get the shortest route. Or we call up an order to a restaurant, and get a fresh pizza. There is a \"map algorithm\" or \"pizza algorithm\" behind the scenes, but we don't know exactly how it works - we simply trust others to have designed it such that it works.\n",
    "\n",
    "Similarly, in Python, we have started using code that others have written and we trust to work. In the first session, we used the commands like:\n"
   ]
  },
  {
   "cell_type": "code",
   "execution_count": 35,
   "id": "380d0241",
   "metadata": {},
   "outputs": [
    {
     "data": {
      "text/plain": [
       "9"
      ]
     },
     "execution_count": 35,
     "metadata": {},
     "output_type": "execute_result"
    }
   ],
   "source": [
    "abs(-5)\n",
    "max(6, 9)"
   ]
  },
  {
   "cell_type": "markdown",
   "id": "468eec75",
   "metadata": {},
   "source": [
    "to calculate the absolute value of a number and the maximum of two\n",
    "numbers. `abs` and `max` are called *functions*, and they come built in\n",
    "with the Python language. We've used them without thinking about how the\n",
    "program for calculating the maximum has been implemented. This\n",
    "*abstraction* is both convenient and powerful: we can simply use the\n",
    "functions to build more interesting calculations without worrying about\n",
    "the details behind the calculations.\n",
    "\n",
    "We'll soon start defining our own functions to similarly package our\n",
    "algorithms for convenient use. But first, let's try to understand how\n",
    "the above statements work. Each of the two statements is a *function\n",
    "call*, which is always of the form\n",
    "\n",
    "    function_name(arguments)\n",
    "\n",
    "An *argument* is an expression within the parentheses of the function\n",
    "call. There can be several arguments, separated by a comma. When a\n",
    "function gets called, the argument expressions are evaluated one at a\n",
    "time, from left to right. The resulting values are passed to the\n",
    "function. The function is then executed and produces an output value.\n",
    "For example, the following code calculates the absolute value of a\n",
    "temperature difference.\n"
   ]
  },
  {
   "cell_type": "code",
   "execution_count": 36,
   "id": "c46f937e",
   "metadata": {},
   "outputs": [
    {
     "data": {
      "text/plain": [
       "5"
      ]
     },
     "execution_count": 36,
     "metadata": {},
     "output_type": "execute_result"
    }
   ],
   "source": [
    "temp_morning = 5\n",
    "temp_afternoon = 10\n",
    "abs(temp_morning - temp_afternoon)"
   ]
  },
  {
   "cell_type": "markdown",
   "id": "a4e597b3",
   "metadata": {},
   "source": [
    "The argument expression `temp_morning - temp_afternoon` is evaluated\n",
    "first, producing the value `-5`, which gets passed to `abs`, resulting\n",
    "in the absolute value `5`.\n",
    "\n",
    "Function calls can also be nested, for example:"
   ]
  },
  {
   "cell_type": "code",
   "execution_count": 37,
   "id": "b12fad82",
   "metadata": {},
   "outputs": [
    {
     "data": {
      "text/plain": [
       "1"
      ]
     },
     "execution_count": 37,
     "metadata": {},
     "output_type": "execute_result"
    }
   ],
   "source": [
    "min(abs(-1), max(3, 0))"
   ]
  },
  {
   "cell_type": "markdown",
   "id": "1a09fe7f",
   "metadata": {},
   "source": [
    "Here Python will start evaluating the arguments from left to right.\n",
    "First, `abs(-1)` evaluates to `1`, and then `max(3, 0)` evaluates to\n",
    "`3`. These then get passed to `min`. The above function call is\n",
    "therefore equivalent to evaluating `min(1, 3)`.\n",
    "\n",
    "If you don't know exactly what a function does, you can type\n",
    "`help(function_name)` into the console."
   ]
  },
  {
   "cell_type": "code",
   "execution_count": 38,
   "id": "1aaef505",
   "metadata": {},
   "outputs": [
    {
     "name": "stdout",
     "output_type": "stream",
     "text": [
      "Help on built-in function abs in module builtins:\n",
      "\n",
      "abs(x, /)\n",
      "    Return the absolute value of the argument.\n",
      "\n"
     ]
    }
   ],
   "source": [
    "help(abs)"
   ]
  },
  {
   "cell_type": "markdown",
   "id": "e69ac816",
   "metadata": {},
   "source": [
    "This will provide documentation for the function.\n",
    "\n",
    "But how do these calculations work, and how can we define functions for\n",
    "our own algorithms?\n",
    "\n",
    "### Defining a function\n",
    "\n",
    "Python's built-in functions, such as `print`, `type` and `abs`, are\n",
    "useful but limited: often there aren't built-in functions for what we\n",
    "want to do. Now we'll learn how to add to these by defining our own\n",
    "functions.\n",
    "\n",
    "We'd like to be able to do something like this.\n",
    "\n",
    "    In[1]: miles_to_km(30)\n",
    "\n",
    "However, what we get is an error. Python tells us that there is no\n",
    "function with the name `miles_to_km`.\n",
    "\n",
    "    NameError: name 'miles_to_km' is not defined\n",
    "\n",
    "We'll need to *define* a new function that tells Python what to do when\n",
    "we call `miles_to_km`. Here's how we can do it."
   ]
  },
  {
   "cell_type": "code",
   "execution_count": 39,
   "id": "6b05a707",
   "metadata": {},
   "outputs": [],
   "source": [
    "def miles_to_km(miles):\n",
    "    return miles * 1.609"
   ]
  },
  {
   "cell_type": "markdown",
   "id": "9006b7dd",
   "metadata": {},
   "source": [
    "The first line is the function header. It consists of the keyword `def`,\n",
    "which tells Python that we're defining a function. It is followed by the\n",
    "function name `miles_to_km`, and a comma-separated list of parameters\n",
    "within parentheses, and finally a colon. Here the only parameter is\n",
    "`miles`. Defining a function is similar to defining a variable: with the\n",
    "definition, Python knows that the name `miles_to_km` exists and points\n",
    "to this piece of code.\n",
    "\n",
    "After the colon, we have a sequence of statements that form the function\n",
    "body. These statements are executed whenever we call the function. By\n",
    "convention, this is exactly four spaces, which you'll get in Spyder with\n",
    "the Tab key.\n",
    "\n",
    "Now, if we run this code and then call the function, we get a result."
   ]
  },
  {
   "cell_type": "code",
   "execution_count": 40,
   "id": "5d168c56",
   "metadata": {},
   "outputs": [],
   "source": [
    "def miles_to_km(miles):\n",
    "    return miles * 1.609\n",
    "\n",
    "x = miles_to_km(30)"
   ]
  },
  {
   "cell_type": "markdown",
   "id": "ddaf124e",
   "metadata": {},
   "source": [
    "What happens when we run the code? First, Python executes the function\n",
    "definition, which creates a new function object. Next, Python executes\n",
    "the function call `miles_to_km(30)`. The argument `30` is assigned to\n",
    "the parameter variable `miles` within this function call. Python then\n",
    "executes the `return` statement. It evaluates the expression\n",
    "`miles * 1.609`. The keyword `return` then tells Python that this is the\n",
    "value we want to produce as output of the function. With the `return`,\n",
    "the function call finishes, and Python literally returns to the place in\n",
    "our program where the function was called. Here the resulting value gets\n",
    "assigned to the variable `x`.\n",
    "\n",
    "Now it is convenient to call the function many times over with different\n",
    "arguments."
   ]
  },
  {
   "cell_type": "code",
   "execution_count": 41,
   "id": "d3c1c333",
   "metadata": {},
   "outputs": [
    {
     "data": {
      "text/plain": [
       "72.405"
      ]
     },
     "execution_count": 41,
     "metadata": {},
     "output_type": "execute_result"
    }
   ],
   "source": [
    "miles_to_km(10)\n",
    "miles_to_km(20)\n",
    "miles_to_km(45)"
   ]
  },
  {
   "cell_type": "markdown",
   "id": "c3894565",
   "metadata": {},
   "source": [
    "In general, a function is defined and called as follows.\n",
    "\n",
    "    def function_name(parameters):\n",
    "        statement\n",
    "        statement\n",
    "\n",
    "    function_name(arguments)\n",
    "\n",
    "The `def` keyword starts the function definition, followed by the name\n",
    "we give the function, parameters within parentheses, and a colon. The\n",
    "parameters are variables that the function uses that we may wish to vary\n",
    "from the outside, such as the variable miles above. The block of\n",
    "statements that follows is indented, and gets executed when we call the\n",
    "function. The call is always by the name, followed by arguments. These\n",
    "arguments are then assigned to the parameter variables of the function.\n",
    "\n",
    "In brief, a function allows us to give a name to a block of code. We can\n",
    "then run that block from anywhere in our program, perhaps many times\n",
    "over.\n",
    "\n",
    "### Printing and returning\n",
    "\n",
    "Sometimes we don't need our function to return a value. For example, we\n",
    "might just want a function to display some text in the console. We can\n",
    "write the function as follows, with nothing following the return\n",
    "statement. When we call the function and the code execution hits the\n",
    "return statement, Python simply returns to the original line of code.\n"
   ]
  },
  {
   "cell_type": "code",
   "execution_count": 42,
   "id": "89820137",
   "metadata": {},
   "outputs": [
    {
     "name": "stdout",
     "output_type": "stream",
     "text": [
      "Great job, John!\n"
     ]
    }
   ],
   "source": [
    "def print_compliment(name):\n",
    "    print('Great job, ' + name + '!')\n",
    "    return\n",
    "\n",
    "print_compliment('John')"
   ]
  },
  {
   "cell_type": "markdown",
   "id": "79e78258",
   "metadata": {},
   "source": [
    "If we now assign the result of the function call to a variable, the\n",
    "value is the special value `None`, which indicates an \"empty\" or \"null\"\n",
    "value."
   ]
  },
  {
   "cell_type": "code",
   "execution_count": 43,
   "id": "dd7c66fa",
   "metadata": {},
   "outputs": [
    {
     "name": "stdout",
     "output_type": "stream",
     "text": [
      "Great job, John!\n",
      "None\n"
     ]
    }
   ],
   "source": [
    "x = print_compliment('John')\n",
    "print(x)"
   ]
  },
  {
   "cell_type": "markdown",
   "id": "e8b54f0c",
   "metadata": {},
   "source": [
    "Since the absence of a return value is fairly common, Python allows us\n",
    "to omit the return statement altogether. If a function finishes without\n",
    "a return, the code execution still returns to the point where the\n",
    "function was called, with the value `None`. So, the below code works\n",
    "exactly like the code above."
   ]
  },
  {
   "cell_type": "code",
   "execution_count": 44,
   "id": "137a5ba7",
   "metadata": {},
   "outputs": [
    {
     "name": "stdout",
     "output_type": "stream",
     "text": [
      "Great job, John!\n"
     ]
    }
   ],
   "source": [
    "def print_compliment(name):\n",
    "    print('Great job, ' + name + '!')\n",
    "\n",
    "print_compliment('John')"
   ]
  },
  {
   "cell_type": "markdown",
   "id": "123e7ae3",
   "metadata": {},
   "source": [
    "Note that the text now only exists within the function call. If we want\n",
    "to use it outside the function, we need to return the text. Then we can\n",
    "use it multiple times without always calling the function."
   ]
  },
  {
   "cell_type": "code",
   "execution_count": 45,
   "id": "a49b0e70",
   "metadata": {},
   "outputs": [
    {
     "name": "stdout",
     "output_type": "stream",
     "text": [
      "Great job, John!\n",
      "Great job, John!\n"
     ]
    }
   ],
   "source": [
    "def print_compliment(name):\n",
    "    return 'Great job, ' + name + '!'\n",
    "\n",
    "text = print_compliment('John')\n",
    "print(text)\n",
    "print(text)"
   ]
  },
  {
   "cell_type": "markdown",
   "id": "8ba532d5",
   "metadata": {},
   "source": [
    "Note that a function does not need to have parameters. For example, we\n",
    "could define a function to print compliments to a specific person, as\n",
    "follows."
   ]
  },
  {
   "cell_type": "code",
   "execution_count": 46,
   "id": "108be36e",
   "metadata": {},
   "outputs": [
    {
     "name": "stdout",
     "output_type": "stream",
     "text": [
      "Well done, Donald!\n",
      "Great job!\n"
     ]
    }
   ],
   "source": [
    "def print_compliment_donald():\n",
    "    print('Well done, Donald!')\n",
    "    print('Great job!')\n",
    "\n",
    "print_compliment_donald()"
   ]
  },
  {
   "cell_type": "markdown",
   "id": "aac2dc50",
   "metadata": {},
   "source": [
    "### A common error\n",
    "\n",
    "Just like a variable, a function must be defined before we can call it.\n",
    "The following code will result in an error if the function\n",
    "`print_personal_compliment` has not been previously defined."
   ]
  },
  {
   "cell_type": "code",
   "execution_count": 47,
   "id": "ab66338d",
   "metadata": {},
   "outputs": [
    {
     "ename": "NameError",
     "evalue": "name 'print_personal_compliment' is not defined",
     "output_type": "error",
     "traceback": [
      "\u001b[1;31m---------------------------------------------------------------------------\u001b[0m",
      "\u001b[1;31mNameError\u001b[0m                                 Traceback (most recent call last)",
      "Cell \u001b[1;32mIn[47], line 1\u001b[0m\n\u001b[1;32m----> 1\u001b[0m \u001b[43mprint_personal_compliment\u001b[49m(\u001b[38;5;124m'\u001b[39m\u001b[38;5;124mDonald\u001b[39m\u001b[38;5;124m'\u001b[39m)\n\u001b[0;32m      3\u001b[0m \u001b[38;5;28;01mdef\u001b[39;00m \u001b[38;5;21mprint_personal_compliment\u001b[39m(name):\n\u001b[0;32m      4\u001b[0m     \u001b[38;5;28mprint\u001b[39m(\u001b[38;5;124m'\u001b[39m\u001b[38;5;124mWell done, \u001b[39m\u001b[38;5;124m'\u001b[39m \u001b[38;5;241m+\u001b[39m name \u001b[38;5;241m+\u001b[39m \u001b[38;5;124m'\u001b[39m\u001b[38;5;124m!\u001b[39m\u001b[38;5;124m'\u001b[39m)\n",
      "\u001b[1;31mNameError\u001b[0m: name 'print_personal_compliment' is not defined"
     ]
    }
   ],
   "source": [
    "print_personal_compliment('Donald')\n",
    "\n",
    "def print_personal_compliment(name):\n",
    "    print('Well done, ' + name + '!') # insert the name into the phrase"
   ]
  },
  {
   "cell_type": "markdown",
   "id": "e32aaebb",
   "metadata": {},
   "source": [
    "### Local variables\n",
    "\n",
    "Let's look at another function example. We'll replicate what the\n",
    "built-in function max might do. Here's how it might work."
   ]
  },
  {
   "cell_type": "code",
   "execution_count": 3,
   "id": "b1cdb243",
   "metadata": {},
   "outputs": [],
   "source": [
    "def max_value(a, b):\n",
    "    if a > b:\n",
    "        return a\n",
    "    else: \n",
    "        return b"
   ]
  },
  {
   "cell_type": "markdown",
   "id": "dcecf8df",
   "metadata": {},
   "source": [
    "The function takes two arguments, and compares their values, returning\n",
    "the larger one.\n",
    "\n",
    "Now let's call this function. Keep track of the values of the different\n",
    "variables when we run the following code."
   ]
  },
  {
   "cell_type": "code",
   "execution_count": 4,
   "id": "abec8e8c",
   "metadata": {},
   "outputs": [
    {
     "name": "stdout",
     "output_type": "stream",
     "text": [
      "5\n"
     ]
    },
    {
     "ename": "NameError",
     "evalue": "name 'a' is not defined",
     "output_type": "error",
     "traceback": [
      "\u001b[1;31m---------------------------------------------------------------------------\u001b[0m",
      "\u001b[1;31mNameError\u001b[0m                                 Traceback (most recent call last)",
      "Cell \u001b[1;32mIn[4], line 3\u001b[0m\n\u001b[0;32m      1\u001b[0m c \u001b[38;5;241m=\u001b[39m max_value(\u001b[38;5;241m3\u001b[39m, \u001b[38;5;241m5\u001b[39m)\n\u001b[0;32m      2\u001b[0m \u001b[38;5;28mprint\u001b[39m(c)\n\u001b[1;32m----> 3\u001b[0m \u001b[38;5;28mprint\u001b[39m(\u001b[43ma\u001b[49m)\n",
      "\u001b[1;31mNameError\u001b[0m: name 'a' is not defined"
     ]
    }
   ],
   "source": [
    "c = max_value(3, 5)\n",
    "print(c)\n",
    "print(a)"
   ]
  },
  {
   "cell_type": "markdown",
   "id": "9abd021a",
   "metadata": {},
   "source": [
    "What would you expect to be printed out?\n",
    "\n",
    "Here's a\n",
    "[visualization](http://pythontutor.com/visualize.html#code=def%20max_value%28a,%20b%29%3A%0A%20%20%20%20if%20a%20%3E%20b%3A%0A%20%20%20%20%20%20%20%20return%20a%0A%20%20%20%20else%3A%20%0A%20%20%20%20%20%20%20%20return%20b%0A%0Ac%20%3D%20max_value%283,%205%29%0Aprint%28c%29%0Aprint%28a%29&cumulative=false&curInstr=0&heapPrimitives=false&mode=display&origin=opt-frontend.js&py=3&rawInputLstJSON=%5B%5D&textReferences=false)\n",
    "of the above code executing.\n",
    "\n",
    "Let's walk through the code execution, which goes roughly as follows:\n",
    "\n",
    "1.  We define the function, then call it with the arguments 3 and 5.\n",
    "2.  Python finds the function and starts executing it.\n",
    "3.  First, it assigns the two arguments to the parameters `a` and `b`.\n",
    "4.  It then executes the statements and returns a value. But any\n",
    "    variables that are created within the function are *local*\n",
    "    variables, including the parameter variables `a` and `b`. These\n",
    "    variables only exist when the function is being executed, and\n",
    "    disappear when we return from the function call.\n",
    "5.  When we try to use a local variable from outside the function call,\n",
    "    we therefore get a `NameError`.\n",
    "\n",
    "The part of a program where we can use a variable is called its *scope*.\n",
    "The scope of a variable defined within a function is the function call.\n",
    "\n",
    "Here's another example:"
   ]
  },
  {
   "cell_type": "code",
   "execution_count": 5,
   "id": "c16b1c95",
   "metadata": {},
   "outputs": [
    {
     "name": "stdout",
     "output_type": "stream",
     "text": [
      "4\n",
      "4\n"
     ]
    },
    {
     "ename": "NameError",
     "evalue": "name 'a' is not defined",
     "output_type": "error",
     "traceback": [
      "\u001b[1;31m---------------------------------------------------------------------------\u001b[0m",
      "\u001b[1;31mNameError\u001b[0m                                 Traceback (most recent call last)",
      "Cell \u001b[1;32mIn[5], line 5\u001b[0m\n\u001b[0;32m      3\u001b[0m \u001b[38;5;28mprint\u001b[39m(c)\n\u001b[0;32m      4\u001b[0m \u001b[38;5;28mprint\u001b[39m(b)\n\u001b[1;32m----> 5\u001b[0m \u001b[38;5;28mprint\u001b[39m(\u001b[43ma\u001b[49m)\n",
      "\u001b[1;31mNameError\u001b[0m: name 'a' is not defined"
     ]
    }
   ],
   "source": [
    "b = 4\n",
    "c = max_value(b, 1)\n",
    "print(c)\n",
    "print(b)\n",
    "print(a)"
   ]
  },
  {
   "cell_type": "markdown",
   "id": "9de3a576",
   "metadata": {},
   "source": [
    "What do you think Python would display here?\n",
    "\n",
    "Let's again step through the code.\n",
    "\n",
    "1.  We assign `b` to 4.\n",
    "2.  We then call the function `max_value` with the arguments `b` and 1.\n",
    "3.  Python starts executing the function by creating the local variables\n",
    "    `a` and `b`. These are in the local scope, or what is sometimes\n",
    "    called the namespace. Since it is local, it does not overwrite\n",
    "    variable values outside its scope. In this local frame, `a` is 4 and\n",
    "    `b` is 1, and we return the maximum of those.\n",
    "4.  When we return from the function call, the local namespace or frame\n",
    "    disappears, and we're left with the variables we had outside the\n",
    "    function.\n",
    "5.  So, after we return, `b` is still equal to 4 and `a` does not exist.\n",
    "\n",
    "Generally, we can think about local variables and scoping as follows.\n",
    "\n",
    "1.  At the global level, in the Python interpreter, there is a \"frame\"\n",
    "    (or \"table\") of names keeping track of all names defined at that\n",
    "    level and their assigned values.\n",
    "2.  When a function is called, a new frame is created to keep track of\n",
    "    all names within that function call. This could result in many such\n",
    "    tables, as a function could call another function that could call\n",
    "    another function, etc.\n",
    "3.  When a function call is completed, its frame disappears. Some values\n",
    "    may be returned to the frame from which the function was called.\n",
    "\n",
    "Why does Python work like this? One good reason is **abstraction**. If\n",
    "the variables we declare inside the function did affect affect outside\n",
    "variables, we would have to be careful not to use the same variable\n",
    "names inside functions. But as it is, we don't have to worry about how\n",
    "the code has been written inside the function. This allows us to simply\n",
    "take a function as a building block for more complex programs,\n",
    "abstracting from how it's been implemented.\n",
    "\n",
    "Let's practice these ideas with some exercises.\n",
    "\n",
    "**The folder `ses02` contains a Python script file `ses02.py`. Open this\n",
    "file in Spyder.** Select `File -> Open` in Spyder's menu and navigate to\n",
    "the folder. The file contains \"skeleton\" implementations of the\n",
    "functions you'll define. Your task is to complete the functions.\n",
    "\n",
    "**Please do not change the file name from `ses02.py`**. When you later\n",
    "test your code, it will always test the contents of `ses02.py`\n",
    "in the folder `ses02`.\n",
    "\n",
    "When you open the file, you should see something like this.\n",
    "\n",
    "The function `sum_of_squares` contains first a string explaining what\n",
    "the function does (or should do!), and giving some examples of its\n",
    "output for different inputs. This is called a *documentation string*, or\n",
    "*docstring* for short. When writing functions, including a docstring is\n",
    "good practice as it makes the purpose and workings of the function clear\n",
    "to whoever is using your code.\n",
    "\n",
    "\n",
    "When working on a function, you can test your implementation in Spyder's\n",
    "console. For example, when you edit the code of `sum_of_squares`, first\n",
    "run the file `ses02.py` using the green play button. This makes sure\n",
    "your changes to the function are available to be called.\n",
    "\n",
    "Then copy or type into the console a function call of the first example:"
   ]
  },
  {
   "cell_type": "code",
   "execution_count": 6,
   "id": "98935b12",
   "metadata": {},
   "outputs": [
    {
     "data": {
      "text/plain": [
       "5"
      ]
     },
     "execution_count": 6,
     "metadata": {},
     "output_type": "execute_result"
    }
   ],
   "source": [
    "from ses02 import sum_of_squares\n",
    "sum_of_squares(1, 2)"
   ]
  },
  {
   "cell_type": "markdown",
   "id": "2e00d784",
   "metadata": {},
   "source": [
    "In this example, we haven't edited the function yet, so the result is\n",
    "not correct: the output should be 5. After you edit the code, the output\n",
    "for each example should be the one indicated in the documentation\n",
    "string.\n",
    "\n",
    "Now edit the code in the function `sum_of_squares` to work as per the\n",
    "function documentation. Note that **whenever you edit the function code,\n",
    "you must run it again for Python to take into account your changes.**\n",
    "\n",
    "When you have completed the code and tested it in Spyder, use `ok` to\n",
    "test your function more comprehensively. **First save your work in\n",
    "Spyder.** Otherwise `ok` won't see the changes you've made.\n",
    "\n",
    "Next, complete the function `print_grade` in `ses02.py` as per the\n",
    "instructions in the code below."
   ]
  },
  {
   "cell_type": "code",
   "execution_count": 7,
   "id": "5c6159e3",
   "metadata": {},
   "outputs": [
    {
     "name": "stdout",
     "output_type": "stream",
     "text": [
      "Help on function print_grade in module __main__:\n",
      "\n",
      "print_grade(mark, grade_high, grade_low)\n",
      "    Prints out distinction, pass, or fail depending on mark\n",
      "    \n",
      "    If mark is at least grade_high, prints 'distinction'\n",
      "    Else if mark is at least grade_low, prints 'pass'\n",
      "    Else prints 'fail'\n",
      "    \n",
      "    Example use:\n",
      "    >>> grade_high = 70 \n",
      "    >>> grade_low = 50\n",
      "    >>> print_grade(20, grade_high, grade_low)\n",
      "    fail\n",
      "    >>> print_grade(61, 70, 50)\n",
      "    pass\n",
      "    >>> print_grade(90, 80, 60)\n",
      "    distinction\n",
      "\n"
     ]
    }
   ],
   "source": [
    "def print_grade(mark, grade_high, grade_low):\n",
    "    \"\"\"\n",
    "    Prints out distinction, pass, or fail depending on mark\n",
    "\n",
    "    If mark is at least grade_high, prints 'distinction'\n",
    "    Else if mark is at least grade_low, prints 'pass'\n",
    "    Else prints 'fail'\n",
    "\n",
    "    Example use:\n",
    "    >>> grade_high = 70 \n",
    "    >>> grade_low = 50\n",
    "    >>> print_grade(20, grade_high, grade_low)\n",
    "    fail\n",
    "    >>> print_grade(61, 70, 50)\n",
    "    pass\n",
    "    >>> print_grade(90, 80, 60)\n",
    "    distinction\n",
    "    \"\"\"\n",
    "    # DON'T CHANGE ANYTHING ABOVE\n",
    "    # YOUR CODE HERE\n",
    "help(print_grade)"
   ]
  },
  {
   "cell_type": "markdown",
   "id": "9d91427c",
   "metadata": {},
   "source": [
    "### Function recap\n",
    "\n",
    "Functions are very useful because they\n",
    "\n",
    "-   Allow us to write a set of commands once and execute them whenever\n",
    "    needed. This means that we can save a lot of time and effort when\n",
    "    writing larger programs.\n",
    "-   Create useful abstractions. Once the function works, we don't care\n",
    "    about the code inside the function anymore - we just use it by\n",
    "    calling it. This means that we can write small parts of programs and\n",
    "    use them to create larger programs We have been using this idea\n",
    "    every time we use Python's built-in functions like `print`: we've\n",
    "    never actually looked at the code behind the function. We've been\n",
    "    able to assume it works correctly, and use it to build more\n",
    "    complicated programs.\n",
    "-   Make it easier to change our code, by being modular. Whenever we\n",
    "    want to change our code, we only need to do it in one place only,\n",
    "    and it will work similarly every time the function is called.\n",
    "    Without functions, we would have to make the same changes in\n",
    "    multiple places in our programs, making us more vulnerable to bugs\n",
    "    and mistakes.\n",
    "\n",
    "### Designing functions\n",
    "\n",
    "Functions are key components of our programs. They typically solve a\n",
    "specific problem, and can then be used by other parts of our program.\n",
    "When starting to write a function, we find it useful to start by stating\n",
    "out what we want the function to do. This could be for example, \"convert\n",
    "temperature from Fahrenheit to Celsius to two decimals\". We'd like to\n",
    "give the function a name that gives a clear indication of this purpose,\n",
    "and a comment which states this more clearly. So we start out writing:"
   ]
  },
  {
   "cell_type": "code",
   "execution_count": 8,
   "id": "73bd2fc2",
   "metadata": {},
   "outputs": [
    {
     "name": "stdout",
     "output_type": "stream",
     "text": [
      "Help on function fahrenheit_to_celsius in module __main__:\n",
      "\n",
      "fahrenheit_to_celsius(fahrenheit)\n",
      "    Converts temperature from Fahrenheit to Celsius to two decimals.\n",
      "\n"
     ]
    }
   ],
   "source": [
    "def fahrenheit_to_celsius(fahrenheit):\n",
    "    \"\"\"\n",
    "    Converts temperature from Fahrenheit to Celsius to two decimals.\n",
    "    \"\"\"\n",
    "    pass\n",
    "\n",
    "help(fahrenheit_to_celsius)"
   ]
  },
  {
   "cell_type": "markdown",
   "id": "36939afe",
   "metadata": {},
   "source": [
    "Here, `pass` is a keyword used as a placeholder for code we haven't\n",
    "written yet. As we noted above, the comment within triple quotes\n",
    "directly following the function definition is called a *docstring*.\n",
    "Docstrings are commonly used to describe functions to make them\n",
    "convenient for others to use. Using the command\n",
    "\n",
    "    help(fahrenheit_to_celsius)\n",
    "\n",
    "will print out this docstring, telling a prospective user what the\n",
    "function does.\n",
    "\n",
    "The next step is determining what the function should do, i.e. what its\n",
    "output should be for different inputs. If we look up the conversion\n",
    "formula, we can use it to calculate what the result should be, for\n",
    "example\n",
    "\n",
    "    >>> fahrenheit_to_celsius(10)\n",
    "    -12.22\n",
    "    >>> fahrenheit_to_celsius(-20)\n",
    "    -28.89\n",
    "\n",
    "It's useful to add these code examples to the docstring to make the\n",
    "output clear to users. We also often want to clarify the types of input\n",
    "and output of the function, as follows:"
   ]
  },
  {
   "cell_type": "code",
   "execution_count": 9,
   "id": "87fed06b",
   "metadata": {},
   "outputs": [],
   "source": [
    "def fahrenheit_to_celsius(fahrenheit):\n",
    "    \"\"\"\n",
    "    Converts temperature from Fahrenheit to Celsius to two decimals.\n",
    "\n",
    "    Parameters:\n",
    "    fahrenheit: temperature in fahrenheit\n",
    "\n",
    "    Returns:\n",
    "    temperature in celsius\n",
    "\n",
    "    Example use:\n",
    "    >>> fahrenheit_to_celsius(10)\n",
    "    -12.22\n",
    "    >>> fahrenheit_to_celsius(-20)\n",
    "    -28.89\n",
    "    \"\"\"\n",
    "    pass"
   ]
  },
  {
   "cell_type": "markdown",
   "id": "f3abaffc",
   "metadata": {},
   "source": [
    "Now, after specifying what the function *should* do, we are ready to\n",
    "write the program to give us the desired result."
   ]
  },
  {
   "cell_type": "code",
   "execution_count": 10,
   "id": "83b4b099",
   "metadata": {},
   "outputs": [
    {
     "data": {
      "text/plain": [
       "-28.89"
      ]
     },
     "execution_count": 10,
     "metadata": {},
     "output_type": "execute_result"
    }
   ],
   "source": [
    "def fahrenheit_to_celsius(fahrenheit):\n",
    "    \"\"\"\n",
    "    Converts temperature from Fahrenheit to Celsius to two decimals.\n",
    "\n",
    "    Parameters:\n",
    "    fahrenheit: temperature in fahrenheit\n",
    "\n",
    "    Returns:\n",
    "    temperature in celsius\n",
    "\n",
    "    Example use:\n",
    "    >>> fahrenheit_to_celsius(10)\n",
    "    -12.22\n",
    "    >>> fahrenheit_to_celsius(-20)\n",
    "    -28.89\n",
    "    \"\"\"\n",
    "    celsius = (fahrenheit - 32)*5/9\n",
    "    return round(celsius, 2)\n",
    "\n",
    "fahrenheit_to_celsius(-20)"
   ]
  },
  {
   "cell_type": "markdown",
   "id": "0d4102d9",
   "metadata": {},
   "source": [
    "In practice, the process of solving computational and data problems is\n",
    "exploratory, messy, and highly nonlinear. It therefore often involves\n",
    "playing around with code to figure things out before the solution gets\n",
    "organized into functions. But having spent some extra time in organizing\n",
    "your code into functions and documenting it can be very valuable when\n",
    "you share it with others, or return to it later.\n",
    "\n",
    "The larger the programming project, the more important this organization\n",
    "and documentation becomes.\n",
    "\n",
    "## Homework exercises\n",
    "\n",
    "### Middle of three\n",
    "\n",
    "Complete the function `middle_of_three` in the file `ses02_extra.py`.\n",
    "\n",
    "### Sum up to\n",
    "\n",
    "Complete the function `sum_up_to` in the file `ses02_extra.py`. \n",
    "\n",
    "### Faster than Heron?\n",
    "\n",
    "During the lecture, we used Heron's square root algorithm to find square\n",
    "roots. It looked like in that case it was quite quick to converge to the\n",
    "solution. But how quick is it actually?\n",
    "\n",
    "In `ses02_extra.py`, you will find two algorithms for calculating the\n",
    "square root of a number: Heron's algorithm and bisection search. Your\n",
    "task is to compare how quickly they find the solution.\n",
    "\n",
    "First, update Heron's algorithm so that it counts the number of\n",
    "iterations it does, and returns the count along with the square root\n",
    "value. You'll need to add a variable that increases in value at each\n",
    "iteration, and return it together with the result."
   ]
  },
  {
   "cell_type": "code",
   "execution_count": 11,
   "id": "cdaed347",
   "metadata": {},
   "outputs": [],
   "source": [
    "def square_root_heron(x, epsilon=0.01):     \n",
    "        \"\"\"\n",
    "        Find square root using Heron's algorithm\n",
    "        \n",
    "        Parameters:\n",
    "        x: integer or float\n",
    "        epsilon: desired precision, \n",
    "            default value epsilon = 0.01 if not specified\n",
    "        \n",
    "        Returns:\n",
    "            the square root value, rounded to two decimals,\n",
    "            the number of iterations the algorithm ran\n",
    "        \n",
    "        Example use:\n",
    "        >>> y, c = square_root_heron(20)\n",
    "        >>> print(y, c)\n",
    "        4.47 4\n",
    "        \"\"\"\n",
    "        # DON'T CHANGE ANYTHING ABOVE\n",
    "        # UPDATE CODE BELOW THIS\n",
    "        \n",
    "        guess = x/2 # Make initial guess\n",
    "        # Loop until squared value of guess is close to x\n",
    "        while abs(guess**2 - x) >= epsilon:\n",
    "            guess = (guess + x/guess)/2 # Update guess using Heron's formula\n",
    "        return round(guess, 2), ..."
   ]
  },
  {
   "cell_type": "markdown",
   "id": "9f15c4d3",
   "metadata": {},
   "source": [
    "Next, you'll compare Heron's approach with another classic algorithm called bisection search.\n",
    "\n",
    "The idea is simple: we know that the square root of a number \\$x\\$ is somewhere between \\$0\\$ and \\$x\\$. We make a guess: the square root is\n",
    "the midpoint of this range. Like with Heron, if the guess is close enough, we stop. If the guess is too low (guess squared is lower than\n",
    "\\$x\\$), we know that the square root is not in the bottom half so we can only search the top half. Otherwise, we similarly discard the top half.\n",
    "We then pick the midpoint of the updated range as a new guess. We repeat this until we're close enough. The procedure is called {\\it bisection\n",
    "search} because it halves the search area at each iteration.\n",
    "\n",
    "For example, to find the square root of 10, our first guess in the search range \\$\\[0,10\\]\\$ would be \\$(10+0)/2=5\\$. Since this guess is\n",
    "too high (\\$5^2 \\> 10\\$), we would discard everything above \\$5\\$ and repeat the search in the range \\$\\[0,5\\]\\$. Our new guess would then be\n",
    "\\$2.5\\$...\n",
    "\n",
    "The algorithm is thus as follows:\n",
    "\n",
    "-   Start with a guess \\$g\\$ as average of search range \\$low=0\\$ and\n",
    "    \\$high=\\max\\\\1.0,x\\\\\\$\n",
    "-   If \\$g\\cdot g\\$ is close to \\$x\\$, stop and return \\$g\\$ as the\n",
    "    answer\n",
    "-   Otherwise, if \\$g \\cdot g \\< x\\$, update search range: \\$low = g\\$,\n",
    "-   Otherwise, if \\$g \\cdot g \\>= x\\$, update search range: \\$high = g\\$\n",
    "-   Make new guess as average of updated search range\n",
    "-   Repeat process using new guess until close enough\n",
    "\n",
    "Let's think about these steps in terms of how we could translate them\n",
    "into a while loop. After the initial guess, we have actions that are\n",
    "repeated as long as a condition is met. We can write this as a while\n",
    "loop as follows.\n",
    "\n",
    "-   Start with a guess \\$g\\$ as average of search range \\$low=0\\$ and\n",
    "    \\$high=\\max\\\\1.0,x\\\\\\$\n",
    "-   While \\$g \\cdot g\\$ is not \"close\" to \\$x\\$:\n",
    "    -   If \\$g \\cdot g \\< x\\$, update search range: \\$low = g\\$,\n",
    "    -   If \\$g \\cdot g \\>= x\\$, update search range: \\$high = g\\$\n",
    "    -   Make new guess as average of updated search range\n",
    "        \\$\\\\low,high\\\\\\$\n",
    "-   When the while loop finishes, return the final guess\n",
    "\n",
    "Your task now is to complete the Python function in the file to match\n",
    "these steps."
   ]
  },
  {
   "cell_type": "code",
   "execution_count": 12,
   "id": "9d1e9c0e",
   "metadata": {},
   "outputs": [],
   "source": [
    "def square_root_bisection(x, epsilon=0.01):\n",
    "    \"\"\"\n",
    "    Find square root using bisection search\n",
    "\n",
    "    Parameters:\n",
    "    x: integer or float\n",
    "    epsilon: desired precision, \n",
    "        default value epsilon = 0.01 if not specified\n",
    "\n",
    "    Returns:\n",
    "    the square root value, rounded to two decimals,\n",
    "    the number of iterations of the algorithm run\n",
    "\n",
    "    Example use:\n",
    "    >>> y, c = square_root_bisection(20)\n",
    "    >>> print(y, c)\n",
    "    4.47 9\n",
    "    \"\"\"\n",
    "    # DON'T CHANGE ANYTHING ABOVE\n",
    "    # UPDATE CODE BELOW THIS\n",
    "\n",
    "    low = 0.0\n",
    "    high = max(1.0, x) # Why are we doing this? What would happen for x=0.5?\n",
    "    guess = (low + high)/2 # First guess at midpoint of low and high\n",
    "    while abs(guess**2 - x) >= epsilon:\n",
    "        if guess**2 < x:\n",
    "            low = ... # update low\n",
    "        else:\n",
    "            high = ... # update high\n",
    "        guess = ... # new guess at midpoint of low and high\n",
    "    return ..., ...  "
   ]
  },
  {
   "cell_type": "markdown",
   "id": "71dd19ed",
   "metadata": {},
   "source": [
    "How do the algorithms compare in general for different values? Why do\n",
    "you think that is the case?\n",
    "\n",
    "## Question: Guess the number game\n",
    "\n",
    "This exercise brings together many of the programming concepts from the first two sessions (with a couple of new tricks too!)\n",
    "\n",
    "Starting from the code below, write a *Guess the number* game. Here's how it works. The computer draws a random (integer) number (say, between\n",
    "1 and 100), and prompts the user to guess the number. If the guess is correct, the program ends. Otherwise, the program prints out \"Too low\"\n",
    "or \"Too high\", and prompts the user again.\n",
    "\n",
    "For example, it might work like this (for a particularly lucky guesser!):\n",
    "\n",
    "    >>> guess_the_number(1, 100)\n",
    "\n",
    "    Guess a number between 1 and 100: 30\n",
    "\n",
    "    Too high!\n",
    "\n",
    "    Guess a number between 1 and 100: 10\n",
    "\n",
    "    Too low!\n",
    "\n",
    "    Guess a number between 1 and 100: 13\n",
    "\n",
    "    Correct!\n",
    "\n",
    "Create a new file in Spyder and save it as `guess_the_number.py`. In the file, complete this function to implement the game:"
   ]
  },
  {
   "cell_type": "code",
   "execution_count": 13,
   "id": "5e07dd77",
   "metadata": {},
   "outputs": [],
   "source": [
    "def guess_the_number(min_value, max_value):\n",
    "    \"\"\"\n",
    "    User must guess the value of a number between min_value and max_value\n",
    "\n",
    "    Parameters:\n",
    "        min_value, max_value (integers)\n",
    "    \"\"\"\n",
    "    # YOUR CODE HERE"
   ]
  },
  {
   "cell_type": "markdown",
   "id": "78274f36",
   "metadata": {},
   "source": [
    "To complete the function, you'll need to draw a random number and ask\n",
    "for user input. Here's how you can do it:"
   ]
  },
  {
   "cell_type": "code",
   "execution_count": 14,
   "id": "3b8ff461",
   "metadata": {},
   "outputs": [],
   "source": [
    "# We import a library to draw pseudorandom numbers. \n",
    "# We'll learn more about libraries later in the module. \n",
    "import random  \n",
    "\n",
    "# draw random integer between 1 and 100\n",
    "x = random.randint(1, 100)"
   ]
  },
  {
   "cell_type": "code",
   "execution_count": 15,
   "id": "94806f9b",
   "metadata": {},
   "outputs": [
    {
     "name": "stdout",
     "output_type": "stream",
     "text": [
      "What is your name?Harsha\n"
     ]
    }
   ],
   "source": [
    "# we can get user input using the input function\n",
    "name = input('What is your name?')"
   ]
  },
  {
   "cell_type": "markdown",
   "id": "7472066b",
   "metadata": {},
   "source": [
    "Extra part: what is a good strategy for guessing? Make the program count\n",
    "and return how many attempts you needed, and try a few times for numbers\n",
    "between 1 and 100. How would this change for 1000? What about 1 000 000?"
   ]
  },
  {
   "cell_type": "code",
   "execution_count": null,
   "id": "2f301f01",
   "metadata": {},
   "outputs": [],
   "source": []
  }
 ],
 "metadata": {
  "kernelspec": {
   "display_name": "Python 3 (ipykernel)",
   "language": "python",
   "name": "python3"
  },
  "language_info": {
   "codemirror_mode": {
    "name": "ipython",
    "version": 3
   },
   "file_extension": ".py",
   "mimetype": "text/x-python",
   "name": "python",
   "nbconvert_exporter": "python",
   "pygments_lexer": "ipython3",
   "version": "3.9.16"
  }
 },
 "nbformat": 4,
 "nbformat_minor": 5
}
