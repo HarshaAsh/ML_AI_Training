{
 "cells": [
  {
   "cell_type": "markdown",
   "id": "8a702d3e",
   "metadata": {},
   "source": [
    "# Session 3: loops and lists<a href=\"#Session-3:-loops-and-lists\" class=\"anchor-link\">¶</a>\n",
    "\n",
    "*Data Structures and Algorithms*\n",
    "\n",
    "*Achyuthuni Sri Harsha*\n",
    "\n",
    "------------------------------------------------------------------------\n",
    "\n",
    "So far, the data we have seen has been simple numbers and strings. In\n",
    "this session, we will learn to work with compound data using *lists*. We\n",
    "will also use *for loops* to loop through such sequences, and work more\n",
    "on functions, specifically *methods* associated with data types like\n",
    "lists and strings.\n",
    "\n",
    "------------------------------------------------------------------------\n",
    "\n",
    "## Preparation\n",
    "\n",
    "**Readings**:\n",
    "\n",
    "Guttag: Chapters 3.2, 4.3, 5.1-5.5.\n",
    "\n",
    "**OR**\n",
    "\n",
    "Sweigart, Al. Automate the Boring Stuff with Python.\n",
    "\n",
    "-   Chapter 2 – Control flow\n",
    "    <https://automatetheboringstuff.com/chapter2/>\n",
    "\n",
    "-   Chapter 4 – Lists <https://automatetheboringstuff.com/chapter4/>\n",
    "\n",
    "**Questions:**\n",
    "\n",
    "Please read the material above, and think about how you would explain to\n",
    "your classmates:\n",
    "\n",
    "-   How does a `for` loop differ from a `while` loop?\n",
    "-   What does the `range` function do?\n",
    "-   A Python `list` is an *ordered*, *mutable* data *collection* with\n",
    "    many *built-in methods*. What do we mean by these terms?\n",
    "\n",
    "------------------------------------------------------------------------\n",
    "\n",
    "## Recap\n",
    "\n",
    "Let's first recap some of the things we have learned.\n",
    "\n",
    "## For loops and range( )\n",
    "\n",
    "We have previously started building algorithms based on repetition with\n",
    "`while` loops. For example, we might want to print the squared values of\n",
    "all integers from 0 to 4."
   ]
  },
  {
   "cell_type": "code",
   "execution_count": 1,
   "id": "321fbead",
   "metadata": {},
   "outputs": [
    {
     "name": "stdout",
     "output_type": "stream",
     "text": [
      "0\n",
      "1\n",
      "4\n",
      "9\n",
      "16\n"
     ]
    }
   ],
   "source": [
    "number = 0\n",
    "while number <= 4:\n",
    "    print(number*number)\n",
    "    number += 1"
   ]
  },
  {
   "cell_type": "markdown",
   "id": "662a7704",
   "metadata": {},
   "source": [
    "Here we have to be careful to remember to increase the value of `number`\n",
    "at every iteration - otherwise the while loop will continue running\n",
    "forever. But is there an easier way of solving the same problem?\n",
    "\n",
    "When we know that we want to iterate over a specific sequence of items,\n",
    "such as the integers from 0 through 4, we often want to use another\n",
    "repetition structure instead, a *for loop*. Here's the for loop for\n",
    "solving the same problem:"
   ]
  },
  {
   "cell_type": "code",
   "execution_count": 3,
   "id": "173e28b3",
   "metadata": {},
   "outputs": [
    {
     "name": "stdout",
     "output_type": "stream",
     "text": [
      "0\n",
      "1\n",
      "4\n",
      "9\n",
      "16\n"
     ]
    }
   ],
   "source": [
    "for number in range(5):\n",
    "    print(number*number)"
   ]
  },
  {
   "cell_type": "markdown",
   "id": "46b59744",
   "metadata": {},
   "source": [
    "Compared to the while loop, this is more compact and easier to read. How\n",
    "does it work?\n",
    "\n",
    "The general structure of a for loop is:\n",
    "\n",
    "In \\[ \\]:\n",
    "\n",
    "    for element in sequence:\n",
    "        # statements\n",
    "\n",
    "A for loop goes through the elements in a sequence in order, executing\n",
    "the code block for each `element` until the sequence is exhausted. The\n",
    "keyword `in` is special and used as follows. One by one, starting from\n",
    "the first value in the sequence, the for loop assigns the value to the\n",
    "variable `element`, after which the code block is executed. In the\n",
    "example above, `number` gets assigned the values 0 to 4 in ascending\n",
    "order. After the loop finishes, the value of `number` remains at 4.\n",
    "\n",
    "Here we generate the sequence of variables using the built-in function\n",
    "`range`. The `range` function creates a structure housing a sequence of\n",
    "integer values based on its input. When specified as `range(n)`, it will\n",
    "include the integers from zero to `n-1`, so `n` values in total, here 0\n",
    "through 4. We can specify `range` more generally using up to three\n",
    "parameters. If we include two, these are interpreted as the start and\n",
    "end of the sequence. If we add a third parameter, it is the step size\n",
    "between the start and the end. The last (end) element is always excluded\n",
    "from the sequence (5 is not included in the example).\n",
    "\n",
    "In sum, we can do this:\n",
    "\n",
    "    range(start, end)\n",
    "    range(start, end, step)\n",
    "\n",
    "So, for example:\n"
   ]
  },
  {
   "cell_type": "code",
   "execution_count": 4,
   "id": "7fdd0728",
   "metadata": {},
   "outputs": [
    {
     "name": "stdout",
     "output_type": "stream",
     "text": [
      "1\n",
      "2\n"
     ]
    }
   ],
   "source": [
    "for number in range(1, 3):\n",
    "    print(number)"
   ]
  },
  {
   "cell_type": "code",
   "execution_count": 5,
   "id": "fa2b6091",
   "metadata": {},
   "outputs": [
    {
     "name": "stdout",
     "output_type": "stream",
     "text": [
      "3\n",
      "5\n",
      "7\n"
     ]
    }
   ],
   "source": [
    "for number in range(3, 8, 2):\n",
    "    print(number)"
   ]
  },
  {
   "cell_type": "markdown",
   "id": "89df0a59",
   "metadata": {},
   "source": [
    "We can loop from high to low numbers by specifying a start higher than\n",
    "the end and a negative step size."
   ]
  },
  {
   "cell_type": "code",
   "execution_count": 6,
   "id": "32535d9e",
   "metadata": {},
   "outputs": [
    {
     "name": "stdout",
     "output_type": "stream",
     "text": [
      "9\n",
      "8\n",
      "7\n",
      "6\n"
     ]
    }
   ],
   "source": [
    "for number in range(9, 5, -1):\n",
    "    print(number)"
   ]
  },
  {
   "cell_type": "markdown",
   "id": "e611dc2a",
   "metadata": {},
   "source": [
    "Sometimes, we want to use nested loops."
   ]
  },
  {
   "cell_type": "code",
   "execution_count": 7,
   "id": "9d7b1875",
   "metadata": {},
   "outputs": [
    {
     "name": "stdout",
     "output_type": "stream",
     "text": [
      "Outer loop, for value i=0\n",
      "Inner loop, for value j=0\n",
      "Inner loop, for value j=1\n",
      "Outer loop, for value i=1\n",
      "Inner loop, for value j=0\n",
      "Inner loop, for value j=1\n",
      "Outer loop, for value i=2\n",
      "Inner loop, for value j=0\n",
      "Inner loop, for value j=1\n"
     ]
    }
   ],
   "source": [
    "for i in range(3):\n",
    "    print('Outer loop, for value i=' + str(i))\n",
    "    for j in range(2):\n",
    "        print('Inner loop, for value j=' + str(j))"
   ]
  },
  {
   "cell_type": "markdown",
   "id": "43155076",
   "metadata": {},
   "source": [
    "Here, we're running everything in the indented for-loop code block three\n",
    "times. And within that block, we have another indented for loop the body\n",
    "of which runs twice - every time the outer loop repeats. So in total,\n",
    "the inner loop runs \\$3 \\cdot 2=6\\$ times. Nested loops like this can be\n",
    "very useful for looping through multi-dimensional data like matrices. We\n",
    "can in principle nest many times, but in practice we rarely have more\n",
    "than two or three levels of nesting.\n",
    "\n",
    "Sometimes we want stop a loop before the sequence is finished. Python\n",
    "provides flow control tools, among which the *break* statement that can\n",
    "prove very useful. We can use it like this:\n"
   ]
  },
  {
   "cell_type": "code",
   "execution_count": 8,
   "id": "48d8736e",
   "metadata": {},
   "outputs": [
    {
     "name": "stdout",
     "output_type": "stream",
     "text": [
      "0\n",
      "1\n",
      "2\n"
     ]
    }
   ],
   "source": [
    "a = 10\n",
    "for i in range(a):\n",
    "    print(i)\n",
    "    if i == 2:\n",
    "        break"
   ]
  },
  {
   "cell_type": "markdown",
   "id": "2b9f2ade",
   "metadata": {},
   "source": [
    "Most looping tasks can be done with either for or while loops. **For\n",
    "loops are often more convenient than while loops when we are working\n",
    "with specific sequences, and we know how many times we need to iterate.\n",
    "While loops can be very useful in applications where we don't know how\n",
    "many iterations our calculation will require.**\n",
    "\n",
    "## Lists\n",
    "\n",
    "We've so far mainly dealt with *scalar* data such as integers and\n",
    "floats. In practice, we're often working with *sequences* of scalar\n",
    "data, or want to organize several pieces of data together. Python offers\n",
    "a few options to build sequences, the most common of which are *lists*.\n",
    "A list is defined using square brackets, and the items within the list\n",
    "are separated by a comma. Type the following commands into Spyder's\n",
    "console:"
   ]
  },
  {
   "cell_type": "code",
   "execution_count": 9,
   "id": "091e130e",
   "metadata": {},
   "outputs": [
    {
     "data": {
      "text/plain": [
       "list"
      ]
     },
     "execution_count": 9,
     "metadata": {},
     "output_type": "execute_result"
    }
   ],
   "source": [
    "L = [1, 2, 3]\n",
    "type(L)"
   ]
  },
  {
   "cell_type": "markdown",
   "id": "20dcffd4",
   "metadata": {},
   "source": [
    "A list is an ordered collection of items. These items can be anything:\n",
    "numbers, strings, variables, or other lists."
   ]
  },
  {
   "cell_type": "code",
   "execution_count": 10,
   "id": "838714d5",
   "metadata": {},
   "outputs": [],
   "source": [
    "number_list = [1, 2, 3]\n",
    "word_list = ['this', 'is', 'a', 'list']\n",
    "a = 5\n",
    "b = 'good'\n",
    "mixed_list = [a, b]"
   ]
  },
  {
   "cell_type": "markdown",
   "id": "d42a0b87",
   "metadata": {},
   "source": [
    "Let's look at some of the things we can do with a list. The list\n",
    "`prices` below contains Kensington and Chelsea mean house prices from\n",
    "2003 through 2008 (in thousands of pounds). The data are from the\n",
    "[London\n",
    "Datastore](https://data.london.gov.uk/dataset/average-house-prices-borough).\n",
    "\n",
    "First, let's see how we can access the elements of a list through their\n",
    "indices. *The index of the first element is zero.*\n",
    "\n",
    "Here are some ways to access a list: try them out!"
   ]
  },
  {
   "cell_type": "code",
   "execution_count": 11,
   "id": "c0d6abf3",
   "metadata": {},
   "outputs": [
    {
     "data": {
      "text/plain": [
       "[400, 465, 650]"
      ]
     },
     "execution_count": 11,
     "metadata": {},
     "output_type": "execute_result"
    }
   ],
   "source": [
    "prices = [400, 450, 465, 525, 650, 700]\n",
    "\n",
    "prices[0]\n",
    "prices[1:3]\n",
    "prices[-1]\n",
    "prices[:-1]\n",
    "prices[::2] # every other element"
   ]
  },
  {
   "cell_type": "markdown",
   "id": "75de69fc",
   "metadata": {},
   "source": [
    "We can access a \"slice\" of the list `prices` using the syntax\n",
    "`prices[begin:end:step]`, for example `prices[1:5:2]`. We need to be\n",
    "careful with this notation: our slice will include the first `begin`-th\n",
    "element but exclude the final `end`-th element (just like range),\n",
    "picking elements with a step size of of `step`. So `prices[1:5:2]` will\n",
    "give the values at indices 1 and 3 but not five, or `[450, 525]`. We can\n",
    "exclude the step size to get the default step of one. We can also\n",
    "exclude the start or the end (but keep the colons) for example to take\n",
    "every other element of the entire list.\n",
    "\n",
    "We can change the elements of a list and create new lists from existing\n",
    "ones. Suppose the first value of `prices` was erroneous and the correct\n",
    "value is 405. To change it, we type in"
   ]
  },
  {
   "cell_type": "code",
   "execution_count": 12,
   "id": "3f0f315e",
   "metadata": {},
   "outputs": [],
   "source": [
    "prices[0] = 405"
   ]
  },
  {
   "cell_type": "markdown",
   "id": "72f86d05",
   "metadata": {},
   "source": [
    "We can then type `prices` to the console to see that the value has\n",
    "changed.\n",
    "\n",
    "How do we add another price, for 2009?"
   ]
  },
  {
   "cell_type": "code",
   "execution_count": 13,
   "id": "985c018b",
   "metadata": {},
   "outputs": [
    {
     "name": "stdout",
     "output_type": "stream",
     "text": [
      "[405, 450, 465, 525, 650, 700, 675]\n"
     ]
    }
   ],
   "source": [
    "prices.append(675) # append adds an item to the end\n",
    "print(prices)"
   ]
  },
  {
   "cell_type": "markdown",
   "id": "9d1904fd",
   "metadata": {},
   "source": [
    "We might also learn a bunch of new prices. Here are the prices from 2010\n",
    "through 2015, in a different list. We can then combine the lists:"
   ]
  },
  {
   "cell_type": "code",
   "execution_count": 14,
   "id": "9eaa3faa",
   "metadata": {},
   "outputs": [],
   "source": [
    "new_prices = [750, 790, 890, 975, 1195, 1200]\n",
    "\n",
    "all_prices = prices + new_prices # add new_prices to the end of prices, create new result list\n",
    "prices.extend(new_prices) # append all items of new_prices to prices "
   ]
  },
  {
   "cell_type": "markdown",
   "id": "30b4d016",
   "metadata": {},
   "source": [
    "We can get the length of a list using the function `len()`."
   ]
  },
  {
   "cell_type": "code",
   "execution_count": 15,
   "id": "9576ef07",
   "metadata": {},
   "outputs": [
    {
     "data": {
      "text/plain": [
       "13"
      ]
     },
     "execution_count": 15,
     "metadata": {},
     "output_type": "execute_result"
    }
   ],
   "source": [
    "len(prices)"
   ]
  },
  {
   "cell_type": "markdown",
   "id": "0a15e859",
   "metadata": {},
   "source": [
    "### Looping through lists\n",
    "\n",
    "Next, let's loop through a list using a for loop. This is very\n",
    "convenient:"
   ]
  },
  {
   "cell_type": "code",
   "execution_count": 16,
   "id": "a17a2039",
   "metadata": {},
   "outputs": [
    {
     "name": "stdout",
     "output_type": "stream",
     "text": [
      "The price was 405\n",
      "The price was 450\n",
      "The price was 465\n",
      "The price was 525\n",
      "The price was 650\n",
      "The price was 700\n",
      "The price was 675\n",
      "The price was 750\n",
      "The price was 790\n",
      "The price was 890\n",
      "The price was 975\n",
      "The price was 1195\n",
      "The price was 1200\n"
     ]
    }
   ],
   "source": [
    "for price in prices:\n",
    "    print('The price was ' + str(price))"
   ]
  },
  {
   "cell_type": "markdown",
   "id": "4de8fbe3",
   "metadata": {},
   "source": [
    "The loop will go through each value of the list in order, assign this\n",
    "value to the variable prices, and execute the loop body statements with\n",
    "this value. When it has gone through all the prices, it will stop, and\n",
    "the program will move on.\n",
    "\n",
    "Sometimes we want to loop through list *indices* instead of its\n",
    "*elements*. For example, we might want to loop through the house prices\n",
    "and say whether the price went up compared to the previous year. We then\n",
    "need to compare to adjacent values in the list, which is convenient to\n",
    "do with indices, checking the value at index 1 vs 0, index 2 vs 1, and\n",
    "so on.\n",
    "\n",
    "To loop through a list using indices, we first need the length of the\n",
    "list to know how many iterations we need to do. We can then use `range`\n",
    "to go through the indices in the list. Let's first just repeat the\n",
    "preceding loop:\n"
   ]
  },
  {
   "cell_type": "code",
   "execution_count": 17,
   "id": "a9b99d53",
   "metadata": {},
   "outputs": [
    {
     "name": "stdout",
     "output_type": "stream",
     "text": [
      "The price was 405\n",
      "The price was 450\n",
      "The price was 465\n",
      "The price was 525\n",
      "The price was 650\n",
      "The price was 700\n",
      "The price was 675\n",
      "The price was 750\n",
      "The price was 790\n",
      "The price was 890\n",
      "The price was 975\n",
      "The price was 1195\n",
      "The price was 1200\n"
     ]
    }
   ],
   "source": [
    "# We use range on the length of prices to make sure we go through all list indices.\n",
    "for index in range(len(prices)):\n",
    "    price = prices[index]\n",
    "    print('The price was ' + str(price))"
   ]
  },
  {
   "cell_type": "markdown",
   "id": "3b10ecdf",
   "metadata": {},
   "source": [
    "The output is equivalent to our previous loop. So instead of directly\n",
    "looping through prices, here we access them through each of the integer\n",
    "indices we loop through, from zero to the length of the list.\n",
    "\n",
    "To check whether prices went up or down, we can do build on this idea:"
   ]
  },
  {
   "cell_type": "code",
   "execution_count": 18,
   "id": "eeec0ac0",
   "metadata": {},
   "outputs": [
    {
     "name": "stdout",
     "output_type": "stream",
     "text": [
      "Prices went up at index 0\n",
      "Prices went up at index 1\n",
      "Prices went up at index 2\n",
      "Prices went up at index 3\n",
      "Prices went up at index 4\n",
      "Prices went down at index 5\n",
      "Prices went up at index 6\n",
      "Prices went up at index 7\n",
      "Prices went up at index 8\n",
      "Prices went up at index 9\n",
      "Prices went up at index 10\n",
      "Prices went up at index 11\n"
     ]
    }
   ],
   "source": [
    "for index in range(len(prices) - 1): # why do we have -1 here? what happens if we remove it?\n",
    "    if prices[index + 1] > prices[index]:\n",
    "        print('Prices went up at index ' + str(index))\n",
    "    else: print('Prices went down at index ' + str(index))"
   ]
  },
  {
   "cell_type": "markdown",
   "id": "f0c18be0",
   "metadata": {},
   "source": [
    "This is a slightly more complicated loop. At each iteration, we check\n",
    "whether the price at the index is higher the previous price, and then\n",
    "print out the corresponding text.\n",
    "\n",
    "When we loop through indices, we need to be careful to go through the\n",
    "exact right indices. Here we must be careful to check index against\n",
    "index plus one, because there is no price to compare to before index\n",
    "zero.\n",
    "\n",
    "What is the difference between the two types of looping (through\n",
    "`prices` vs `range(len(prices))`)? Looping through values is easier when\n",
    "all we need to do is something based on each value. But the loop with\n",
    "the comparison would be a bit tricky to write by simply going through\n",
    "the values of the list. That's because we need to make comparisons\n",
    "between two adjacent prices, and looping through indices allows us to\n",
    "easily access the two prices. (We could achieve this in the other loop\n",
    "too - can you think of how to do so?)\n",
    "\n",
    "We will use both types of looping through sequences throughout the\n",
    "module.\n",
    "\n",
    "### Lists within lists\n",
    "\n",
    "Python lists are flexible, and can contain different types of data,\n",
    "other lists, etc."
   ]
  },
  {
   "cell_type": "code",
   "execution_count": 20,
   "id": "332755cc",
   "metadata": {},
   "outputs": [],
   "source": [
    "L = [1, 2, 4, 5, 'a', 5, [2, 3]]"
   ]
  },
  {
   "cell_type": "markdown",
   "id": "4dcb617e",
   "metadata": {},
   "source": [
    "A list that contains another list is sometimes called a *nested* list.\n",
    "Let's look at another example. Suppose we're keeping track of European\n",
    "cities we've visited, as well as the respective countries. One way to do\n",
    "this is with a list of lists each containing city-country pairs as\n",
    "follows."
   ]
  },
  {
   "cell_type": "code",
   "execution_count": 21,
   "id": "a0d81546",
   "metadata": {},
   "outputs": [],
   "source": [
    "visited_cities = [['Paris', 'France'], ['Berlin', 'Germany'], ['Bucharest', 'Romania'], ['Reykjavik', 'Iceland'], ['Munich', 'Germany']]"
   ]
  },
  {
   "cell_type": "markdown",
   "id": "c552c714",
   "metadata": {},
   "source": [
    "We can now access and slice the items through \"nested\" notation: for\n",
    "example `visited_cities[1][0]` will give us `Berlin`. Here\n",
    "`visited_cities[1]` is the list `['Berlin', 'Germany']`, and the value\n",
    "at index `0` of this list is `Berlin`.\n",
    "\n",
    "Let's get all cities in Germany that we have visited. We want to store\n",
    "them in a list. We'll first create an empty list, and then loop through\n",
    "the visited cities, picking the German ones.\n"
   ]
  },
  {
   "cell_type": "code",
   "execution_count": 22,
   "id": "6358bc6a",
   "metadata": {},
   "outputs": [
    {
     "name": "stdout",
     "output_type": "stream",
     "text": [
      "['Berlin', 'Munich']\n"
     ]
    }
   ],
   "source": [
    "german_cities = [] # creates empty list\n",
    "for pair in visited_cities:\n",
    "    if pair[1] == 'Germany':\n",
    "        german_cities.append(pair[0])\n",
    "print(german_cities) "
   ]
  },
  {
   "cell_type": "markdown",
   "id": "8befe344",
   "metadata": {},
   "source": [
    "Many common tasks involve looping through lists. We will see more\n",
    "examples throughout the module.\n",
    "\n",
    "## Methods\n",
    "\n",
    "Data types in Python come associated with actions that work specifically\n",
    "for them. For example, we can perform calculations on numbers and append\n",
    "values to lists. Actions associated with a data type are called methods.\n",
    "They are functions that you can only call for certain types of data. We\n",
    "have already encountered some list methods, such as `append()`. There\n",
    "are a lot more, here are some common ones:\n",
    "\n",
    "| Method                  | Description                                                          |\n",
    "|-------------------------|----------------------------------------------------------------------|\n",
    "| `L = [1,2,3,4,5,'Joe']` | create a list containg the items inside tha brackets                 |\n",
    "| `L = list(range(0,6))`  | create a list containg a sequence of variables                       |\n",
    "| `len(L)`                | returns the number of items in the list                              |\n",
    "| `L.append('Mike')`      | add an item ('Mike') at the end of the list                          |\n",
    "| `L.remove('Joe')`       | remove the first item in the list with this value ('Joe')            |\n",
    "| `L.pop(4)`              | remove the item of the list with this index (4)                      |\n",
    "| `L.insert(3,'Kate')`    | insert the item with this value ('Kate') in this position (3)        |\n",
    "| `L.extend([1,4])`       | add items from an iterable e.g list (\\[1,4\\]) at the end of the list |\n",
    "| `L.sort()`              | sorts the list                                                       |\n",
    "| `L.reverse()`           | reverses the list                                                    |\n",
    "\n",
    "Most methods are accessed using the dot notation, like\n",
    "`L.append('Mike')`. For some methods, Python provides easier ways to\n",
    "perform them, like `len(L)`.\n",
    "\n",
    "Both the `append` and `extend` methods add values to a list. What is the\n",
    "difference between `L.append([1,4])` and `L.extend([1,4])`?\n",
    "\n",
    "One final note on lists, for now. Sometimes we want to make copies of\n",
    "lists. This can lead to surprising results:"
   ]
  },
  {
   "cell_type": "code",
   "execution_count": 23,
   "id": "d02bc9b1",
   "metadata": {},
   "outputs": [
    {
     "name": "stdout",
     "output_type": "stream",
     "text": [
      "[1, 2, 3, 5]\n"
     ]
    }
   ],
   "source": [
    "list1 = [1,2,3]\n",
    "list2 = list1\n",
    "list1.append(5)\n",
    "print(list2) # ?!?!??"
   ]
  },
  {
   "cell_type": "markdown",
   "id": "01d95037",
   "metadata": {},
   "source": [
    "In Python, copying a list using `'='` does not create a new copy of the\n",
    "list data in the computer's memory. What we are copying here is the\n",
    "*reference* from the name *list1* to data - not the actual data.\n",
    "Therefore, the names *list1* and *list2* both actually point to the same\n",
    "list in memory. In order not to end up changing the original values\n",
    "later, we have to create a new list that contains the same items. This\n",
    "can be done by slicing or by using the built-in function `list()`.\n"
   ]
  },
  {
   "cell_type": "code",
   "execution_count": 24,
   "id": "58f4de86",
   "metadata": {},
   "outputs": [],
   "source": [
    "list1 = [1,2,3]\n",
    "list2 = list1[:] # slice that gets all items\n",
    "list2 = list(list1) # function that creates a new list of the items"
   ]
  },
  {
   "cell_type": "markdown",
   "id": "78c71b37",
   "metadata": {},
   "source": [
    "> **Advanced** These methods will copy only the first-order lists\n",
    "> elements. If we have nested lists and end up wanting to make sure to\n",
    "> copy nested elements too (instead of references), we need to \"deep\n",
    "> copy\" the elements. Search online for \"python list deepcopy\".\n",
    "\n",
    "\n",
    "## Working with text\n",
    "\n",
    "Manipulating, parsing, or otherwise working with text is a very common\n",
    "task we encounter in analytics. We have already seen some strings in the\n",
    "first tutorial: we've printed and added together strings.\n",
    "\n",
    "### Slicing and combining strings\n",
    "\n",
    "Strings are like lists in that you can go access and go through\n",
    "particular elements (characters). The similarity means that we can slice\n",
    "strings by index just like lists, with the characters of the string as\n",
    "our \"elements\". On the console, try the following commands for both\n",
    "values of `test_word`."
   ]
  },
  {
   "cell_type": "code",
   "execution_count": 26,
   "id": "d4e1892e",
   "metadata": {},
   "outputs": [
    {
     "data": {
      "text/plain": [
       "'ylevol'"
      ]
     },
     "execution_count": 26,
     "metadata": {},
     "output_type": "execute_result"
    }
   ],
   "source": [
    "test_word = 'lovely'\n",
    "\n",
    "# String slicing\n",
    "test_word[1:5]\n",
    "test_word[:-1]\n",
    "test_word[5:1:-2]\n",
    "test_word[::-1]\n",
    "# Changing the value\n",
    "# test_word[0] = 'a' # gives an ERROR (if we need to change the string, we can use the method `replace`)"
   ]
  },
  {
   "cell_type": "markdown",
   "id": "f72fbf4e",
   "metadata": {},
   "source": [
    "We can \"add\" strings together using the + sign."
   ]
  },
  {
   "cell_type": "code",
   "execution_count": 27,
   "id": "0cd377ee",
   "metadata": {},
   "outputs": [
    {
     "name": "stdout",
     "output_type": "stream",
     "text": [
      "lovely lo\n"
     ]
    }
   ],
   "source": [
    "print(test_word + ' ' + test_word[:2])"
   ]
  },
  {
   "cell_type": "markdown",
   "id": "94cb07d5",
   "metadata": {},
   "source": [
    "### Looping through strings\n",
    "\n",
    "We can loop through a string just like a list using a `for` loop and the\n",
    "operator `in`."
   ]
  },
  {
   "cell_type": "code",
   "execution_count": 28,
   "id": "55529a94",
   "metadata": {},
   "outputs": [
    {
     "name": "stdout",
     "output_type": "stream",
     "text": [
      "a\n",
      "e\n",
      "i\n",
      "o\n",
      "u\n",
      "y\n"
     ]
    }
   ],
   "source": [
    "vowels = 'aeiouy'\n",
    "\n",
    "for letter in vowels:\n",
    "    print(letter) "
   ]
  },
  {
   "cell_type": "markdown",
   "id": "7d9e8b10",
   "metadata": {},
   "source": [
    "### Immutable strings\n",
    "\n",
    "Even though strings are very similar to lists, there is an important\n",
    "difference. We cannot change the elements of strings. In programming\n",
    "lingo, strings are *immutable*."
   ]
  },
  {
   "cell_type": "code",
   "execution_count": 29,
   "id": "8a2f41d4",
   "metadata": {},
   "outputs": [
    {
     "name": "stdout",
     "output_type": "stream",
     "text": [
      "[1, 3, 9]\n"
     ]
    },
    {
     "ename": "TypeError",
     "evalue": "'str' object does not support item assignment",
     "output_type": "error",
     "traceback": [
      "\u001b[1;31m---------------------------------------------------------------------------\u001b[0m",
      "\u001b[1;31mTypeError\u001b[0m                                 Traceback (most recent call last)",
      "Cell \u001b[1;32mIn[29], line 6\u001b[0m\n\u001b[0;32m      3\u001b[0m \u001b[38;5;28mprint\u001b[39m(a_list) \n\u001b[0;32m      5\u001b[0m a_string \u001b[38;5;241m=\u001b[39m \u001b[38;5;124m'\u001b[39m\u001b[38;5;124mfire\u001b[39m\u001b[38;5;124m'\u001b[39m\n\u001b[1;32m----> 6\u001b[0m a_string[\u001b[38;5;241m1\u001b[39m] \u001b[38;5;241m=\u001b[39m \u001b[38;5;124m'\u001b[39m\u001b[38;5;124ma\u001b[39m\u001b[38;5;124m'\u001b[39m \u001b[38;5;66;03m# not OK with a string\u001b[39;00m\n\u001b[0;32m      7\u001b[0m \u001b[38;5;28mprint\u001b[39m(a_string)\n",
      "\u001b[1;31mTypeError\u001b[0m: 'str' object does not support item assignment"
     ]
    }
   ],
   "source": [
    "a_list = [1, 5, 9]\n",
    "a_list[1] = 3 # OK with a list\n",
    "print(a_list) \n",
    "\n",
    "a_string = 'fire'\n",
    "a_string[1] = 'a' # not OK with a string\n",
    "print(a_string)"
   ]
  },
  {
   "cell_type": "markdown",
   "id": "c4d98c9c",
   "metadata": {},
   "source": [
    "### String methods\n",
    "\n",
    "Like with lists, there exist many built-in methods that work\n",
    "specifically for strings. Here are some common ones.\n",
    "\n",
    "| Method                 | Description                                         |\n",
    "|------------------------|-----------------------------------------------------|\n",
    "| `s = 'lovely weather'` | Create string                                       |\n",
    "| `s.capitalize()`       | Capitalizes first letter of `s`                     |\n",
    "| `s.lower()`            | Converts all uppercase letters in `s` to lowercase  |\n",
    "| `s.upper()`            | Converts all lowercase letters in `s` to uppercase) |\n",
    "| `s.startswith('love')` | Checks if `s` starts with specified string          |\n",
    "| `len(s)`               | Returns the length of the `s`                       |\n",
    "| `s.find('v')`          | Finds the first index at which `v` occurs in `s`    |\n",
    "| `s.replace(old, new)`  | Replaces all occurrences of old in `s` with new     |\n",
    "\n",
    "Sometimes we want to split strings into parts: for example a sentence\n",
    "into words. We can then use the convenient `split` method, which breaks\n",
    "a string into a list. The default is by a space, but we can also specify\n",
    "the delimiter."
   ]
  },
  {
   "cell_type": "code",
   "execution_count": 31,
   "id": "34cbd15a",
   "metadata": {},
   "outputs": [
    {
     "name": "stdout",
     "output_type": "stream",
     "text": [
      "['The', 'Python', 'language', 'was', 'created', 'by', 'Guido', 'van', 'Rossum.', 'It', 'was', 'named', 'after', 'Monty', 'Python.']\n",
      "['The Python language was created by Guido van Rossum', ' It was named after Monty Python', '']\n"
     ]
    }
   ],
   "source": [
    "sentence = 'The Python language was created by Guido van Rossum. It was named after Monty Python.'\n",
    "sent_list = sentence.split() # default is split by space\n",
    "print(sent_list)\n",
    "sent_list = sentence.split('.') # split by full stop\n",
    "print(sent_list)"
   ]
  },
  {
   "cell_type": "markdown",
   "id": "2292a483",
   "metadata": {},
   "source": [
    "We often also want to do the opposite operation, joining together list\n",
    "values into a single string:"
   ]
  },
  {
   "cell_type": "code",
   "execution_count": 32,
   "id": "e76c16e6",
   "metadata": {},
   "outputs": [
    {
     "name": "stdout",
     "output_type": "stream",
     "text": [
      "Berlin, Munich, Frankfurt\n"
     ]
    }
   ],
   "source": [
    "german_cities = ['Berlin', 'Munich', 'Frankfurt'] \n",
    "print(', '.join(german_cities))"
   ]
  },
  {
   "cell_type": "markdown",
   "id": "d8560160",
   "metadata": {},
   "source": [
    "The `string.format()` method is useful for displaying values and\n",
    "variables."
   ]
  },
  {
   "cell_type": "code",
   "execution_count": 33,
   "id": "f91c26e9",
   "metadata": {},
   "outputs": [
    {
     "name": "stdout",
     "output_type": "stream",
     "text": [
      "The numbers are 3 and 4.2.\n"
     ]
    }
   ],
   "source": [
    "x = 3\n",
    "print('The numbers are {0} and {1}.'.format(x, 4.2)) # 0 and 1 are indices for input of format()"
   ]
  },
  {
   "cell_type": "markdown",
   "id": "cbae258a",
   "metadata": {},
   "source": [
    "Let's combine `join` and `format`."
   ]
  },
  {
   "cell_type": "code",
   "execution_count": 34,
   "id": "f919f736",
   "metadata": {},
   "outputs": [
    {
     "name": "stdout",
     "output_type": "stream",
     "text": [
      "We visited Berlin, Munich, Frankfurt during the trip.\n"
     ]
    }
   ],
   "source": [
    "print('We visited {0} during the trip.'.format(', '.join(german_cities)))"
   ]
  },
  {
   "cell_type": "markdown",
   "id": "f27e195a",
   "metadata": {},
   "source": [
    "From Python versions 3.6 onwards, we can do the same in a more\n",
    "convenient way using so-called f-strings. If we use the letter f\n",
    "preceding the string, we can input variables directly:"
   ]
  },
  {
   "cell_type": "code",
   "execution_count": 35,
   "id": "103a2377",
   "metadata": {},
   "outputs": [
    {
     "name": "stdout",
     "output_type": "stream",
     "text": [
      "We visited Berlin first.\n"
     ]
    }
   ],
   "source": [
    "print(f'We visited {german_cities[0]} first.')"
   ]
  },
  {
   "cell_type": "markdown",
   "id": "8fcede44",
   "metadata": {},
   "source": [
    "Built-in methods are very useful, as we don't need to write algorithms\n",
    "from scratch to perform these common tasks. There are many further\n",
    "built-in string methods available. Indeed, the built-in methods are so\n",
    "numerous that even experienced programmers don't try to memorize all of\n",
    "them. So how should we approach a programming problem when we don't know\n",
    "if a convenient method for our problem already exists? How do we know\n",
    "what methods exist and how they work?\n",
    "\n",
    "There are several good sources of information. One is search engines: if\n",
    "you need to do a specific thing with strings, search for it on Google,\n",
    "for example \"python string replace\". More often than not, you're not the\n",
    "first person to try to figure out the same problem, and the results will\n",
    "usually point you to very good resources, such as Stack Overflow.\n",
    "Another useful resource is Python's help, which we can access in the\n",
    "console as follows."
   ]
  },
  {
   "cell_type": "code",
   "execution_count": 36,
   "id": "1e65fef7",
   "metadata": {},
   "outputs": [
    {
     "name": "stdout",
     "output_type": "stream",
     "text": [
      "Help on method_descriptor:\n",
      "\n",
      "split(self, /, sep=None, maxsplit=-1)\n",
      "    Return a list of the words in the string, using sep as the delimiter string.\n",
      "    \n",
      "    sep\n",
      "      The delimiter according which to split the string.\n",
      "      None (the default value) means split according to any whitespace,\n",
      "      and discard empty strings from the result.\n",
      "    maxsplit\n",
      "      Maximum number of splits to do.\n",
      "      -1 (the default value) means no limit.\n",
      "\n"
     ]
    }
   ],
   "source": [
    "help(str.split) # help on specific method\n",
    "# help(str) # help on the str data type - lists all methods"
   ]
  },
  {
   "cell_type": "markdown",
   "id": "93ad2588",
   "metadata": {},
   "source": [
    "**We'll now start working on functions in Spyder. Open the file\n",
    "`ses03.py` in Spyder**. In Spyder, you can open a file by selecting File\n",
    "-\\> Open and locating your tutorial files in the file system. You can\n",
    "then run all the code in the file by clicking on the green play button\n",
    "in Spyder's toolbar, or hitting the `F5` key.\n",
    "\n",
    "> **Important.** In the following exercises, please edit the file\n",
    "> `ses03.py` and **but do not change the name of this file.** \n",
    "\n",
    "1 - Implement the function `item_lengths` in `ses03.py`.\n",
    "\n",
    "**Hint**: you may want to loop through the elements of the input list\n",
    "using a loop similar to\n",
    "\n",
    "    for item in input_list:\n",
    "        print(item)\n",
    "\n",
    "and use the list method `append`.\n",
    "\n",
    "2 - Implement the function `longest_item` in `ses03.py`.\n",
    "\n",
    "**Hint**: you may want to loop through the indices of the input list\n",
    "using a loop similar to\n",
    "\n",
    "    for index in range(len(input_list)):\n",
    "        print(index, input_list[index]) # this will print out the index and the corresponding element\n",
    "\n",
    "and use variables to keep track of where the longest item so far was\n",
    "found.\n",
    "\n",
    "You may call your function `item_lengths` from within `longest_item`,\n",
    "but don't need to do so.\n",
    "\n",
    "## Errors and debugging\n",
    "\n",
    "By now, you may have become quite familiar with some of Python's error\n",
    "messages. You may have also have spent time trying to figure out why\n",
    "your program produces a specific error, or does not produce the correct\n",
    "result. These are called bugs and the process of finding and fixing them\n",
    "is called debugging.\n",
    "\n",
    "Fortunately, Python is quite is expressive in dealing with errors,\n",
    "telling us what went wrong and where this happened in our code. Together\n",
    "with the fact that Python code is interpreted line by line, this\n",
    "expressiveness makes finding and dealing with code errors convenient\n",
    "compared to many other languages.\n",
    "\n",
    "When an error occurs, the Python interpreter tries to give us as much\n",
    "information as possible about the error. For instance, consider the\n",
    "following code:"
   ]
  },
  {
   "cell_type": "code",
   "execution_count": 37,
   "id": "c1a4a1e3",
   "metadata": {},
   "outputs": [
    {
     "ename": "NameError",
     "evalue": "name 'txt' is not defined",
     "output_type": "error",
     "traceback": [
      "\u001b[1;31m---------------------------------------------------------------------------\u001b[0m",
      "\u001b[1;31mNameError\u001b[0m                                 Traceback (most recent call last)",
      "Cell \u001b[1;32mIn[37], line 2\u001b[0m\n\u001b[0;32m      1\u001b[0m text \u001b[38;5;241m=\u001b[39m \u001b[38;5;124m'\u001b[39m\u001b[38;5;124mhello\u001b[39m\u001b[38;5;124m'\u001b[39m\n\u001b[1;32m----> 2\u001b[0m \u001b[38;5;28mprint\u001b[39m(\u001b[43mtxt\u001b[49m)\n",
      "\u001b[1;31mNameError\u001b[0m: name 'txt' is not defined"
     ]
    }
   ],
   "source": [
    "text = 'hello'\n",
    "print(txt)"
   ]
  },
  {
   "cell_type": "markdown",
   "id": "1b248a66",
   "metadata": {},
   "source": [
    "The first line shows that our instruction `print(txt)` returned a\n",
    "*NameError*, which quite explicitly tells us that something is wrong\n",
    "with the variable name. The *Traceback* then points to the line at which\n",
    "the error occurred. Here the code was run in the console. If we were\n",
    "running a complex program, it would point to the specific line in the\n",
    "script file. Finally, details about the `NameError` are given, here,\n",
    "`name 'txt' is not defined`.\n",
    "\n",
    "This is a fairly simple case, the name is misspelt (`txt` instead of\n",
    "`text`). Of course, if we would have declared the `txt` before this for\n",
    "some other purpose, the error wouldn't have been raised - we would have\n",
    "printed the value of that variable.\n",
    "\n",
    "Another example of error occurs when we attempt invalid operations, such\n",
    "as adding an integer to, say, a string (of characters):\n"
   ]
  },
  {
   "cell_type": "code",
   "execution_count": 38,
   "id": "5cb2bc08",
   "metadata": {},
   "outputs": [
    {
     "ename": "TypeError",
     "evalue": "can only concatenate str (not \"int\") to str",
     "output_type": "error",
     "traceback": [
      "\u001b[1;31m---------------------------------------------------------------------------\u001b[0m",
      "\u001b[1;31mTypeError\u001b[0m                                 Traceback (most recent call last)",
      "Cell \u001b[1;32mIn[38], line 4\u001b[0m\n\u001b[0;32m      2\u001b[0m \u001b[38;5;124m'\u001b[39m\u001b[38;5;124mThis is \u001b[39m\u001b[38;5;124m'\u001b[39m \u001b[38;5;241m+\u001b[39m s \u001b[38;5;241m+\u001b[39m \u001b[38;5;124m'\u001b[39m\u001b[38;5;124m.\u001b[39m\u001b[38;5;124m'\u001b[39m\n\u001b[0;32m      3\u001b[0m \u001b[38;5;124m'\u001b[39m\u001b[38;5;124mThis is a little string of size.\u001b[39m\u001b[38;5;124m'\u001b[39m\n\u001b[1;32m----> 4\u001b[0m \u001b[43ms\u001b[49m\u001b[43m \u001b[49m\u001b[38;5;241;43m+\u001b[39;49m\u001b[43m \u001b[49m\u001b[38;5;241;43m26\u001b[39;49m\n",
      "\u001b[1;31mTypeError\u001b[0m: can only concatenate str (not \"int\") to str"
     ]
    }
   ],
   "source": [
    "s = 'a little string of size '\n",
    "'This is ' + s + '.'\n",
    "'This is a little string of size.'\n",
    "s + 26"
   ]
  },
  {
   "cell_type": "markdown",
   "id": "9f6f7101",
   "metadata": {},
   "source": [
    "Again, Python is explicit about the problem with converting types.\n",
    "\n",
    "These kind of bugs are easy to spot as the program crashes. But often\n",
    "bugs are more difficult to spot: the program may run through but produce\n",
    "an incorrect result. Or it may perhaps work in the most common input\n",
    "cases, but fail spectacularly for other less common cases. Such glitches\n",
    "can potentially cause a lot of damage, as examples of stock-trading\n",
    "algorithm malfunctions show.\n",
    "\n",
    "Debugging is connected to the broader process of *testing* your program.\n",
    "The purpose of testing is to find any bugs that might exist. This\n",
    "involves running your program for various inputs and checking whether\n",
    "the behaviour is as intended. When designing complex programs, this\n",
    "process starts with the design of the program, and plays an important\n",
    "role in the modularization of the program into smaller parts, such that\n",
    "the functioning of each can be tested separately from the rest.\n",
    "\n",
    "Program testing is a deep topic and we will not go into much detail\n",
    "here; you can read more in Guttag's Chapter 6.1. The key, for our\n",
    "purposes, is finding a set of inputs that you believe would be very\n",
    "likely to catch most problems in your program, much like our OK tests.\n",
    "So for example, if calculating the absolute value of a number, you might\n",
    "require tests with both positive and negative numbers, and perhaps zero,\n",
    "and reasonably believe that this would capture most errors.\n"
   ]
  },
  {
   "cell_type": "code",
   "execution_count": 39,
   "id": "4dc6fa6d",
   "metadata": {},
   "outputs": [],
   "source": [
    "def abs_value(x):\n",
    "    \"\"\"\n",
    "    Returns absolute value of parameter x\n",
    "\n",
    "    Example use:\n",
    "    >>> abs_value(2)\n",
    "    2\n",
    "    >>> abs_value(-1)\n",
    "    1\n",
    "    >>> abs_value(0)\n",
    "    0\n",
    "    \"\"\"\n",
    "    # code here"
   ]
  },
  {
   "cell_type": "markdown",
   "id": "43eb856a",
   "metadata": {},
   "source": [
    "> **Advanced** This type of tests specified within the function are\n",
    "> called *doctests*. You can run doctests for the file `file_name.py`\n",
    "> using the following command on the command line:\n",
    ">\n",
    ">     python -m doctest -v file_name.py\n",
    ">\n",
    "> In Spyder, you can quickly run a single doctest by placing the cursor\n",
    "> on a line starting with `>>>` and hitting `F9`. (Remember to define\n",
    "> the function itself first!)\n",
    "\n",
    "When working on a program and testing it on some input, we may then run\n",
    "into a problem: either there's an error, as in the above simple\n",
    "examples, or the program produces the wrong result.\n",
    "\n",
    "Let's look at an example. Suppose we're working on the piece of code to\n",
    "calculate percentage changes. Here we haven't written any tests for our\n",
    "code yet.\n",
    "\n",
    "This code looks like it should work:"
   ]
  },
  {
   "cell_type": "code",
   "execution_count": 40,
   "id": "0bede94f",
   "metadata": {},
   "outputs": [
    {
     "data": {
      "text/plain": [
       "[1.0, -0.5, -0.5, 1.0]"
      ]
     },
     "execution_count": 40,
     "metadata": {},
     "output_type": "execute_result"
    }
   ],
   "source": [
    "def pct_change(L):\n",
    "    \"\"\"\n",
    "    Calculates per-period percentage changes (returns)\n",
    "\n",
    "    Parameters:\n",
    "        L: a list of numbers \n",
    "\n",
    "    Returns a new list of percentage changes\n",
    "    \"\"\"\n",
    "    pct_change_list = []\n",
    "    for ind in range(len(L)):\n",
    "        change = (L[ind]-L[ind-1])/L[ind-1]\n",
    "        pct_change_list.append(change)\n",
    "\n",
    "    return pct_change_list\n",
    "\n",
    "# test with a specific input\n",
    "pct_change([4, 2, 1, 2])"
   ]
  },
  {
   "cell_type": "markdown",
   "id": "3ebbffb8",
   "metadata": {},
   "source": [
    "What should happen with our test? If we calculate the percentage changes\n",
    "by hand, the first change should be -50% (from 4 to 2), then the second\n",
    "again -50% (from 2 to 1), and then 100% (from 1 to 2).\n",
    "\n",
    "But the result we now get is this:\n",
    "\n",
    "We have four values instead of three, and the first value is 100% (1.0\n",
    "is equal to 100%)!\n",
    "\n",
    "Let's try to debug the problem. Often, the first debugging step is\n",
    "**adding a print statement** to understand what our program is actually\n",
    "doing. Here, it looks like the variable `change` is somehow calculated\n",
    "wrong. So, let's print out some details on how it is calculated."
   ]
  },
  {
   "cell_type": "code",
   "execution_count": 41,
   "id": "771cca5f",
   "metadata": {},
   "outputs": [],
   "source": [
    " def pct_change(L):\n",
    "    \"\"\"\n",
    "    Calculates per-period percentage changes (returns)\n",
    "\n",
    "    Parameters:\n",
    "        L: a list of numbers \n",
    "\n",
    "    Returns a new list of percentage changes\n",
    "    \"\"\"\n",
    "    pct_change_list = []\n",
    "    for ind in range(len(L)):\n",
    "        print('ind', ind, 'L[ind-1]', L[ind-1], 'L[ind]', L[ind])\n",
    "        change = (L[ind]-L[ind-1])/L[ind-1]\n",
    "        pct_change_list.append(change)\n",
    "\n",
    "    return pct_change_list"
   ]
  },
  {
   "cell_type": "markdown",
   "id": "3b98b5f3",
   "metadata": {},
   "source": [
    "Now, we get the following output:"
   ]
  },
  {
   "cell_type": "code",
   "execution_count": 42,
   "id": "c994d2e9",
   "metadata": {},
   "outputs": [
    {
     "name": "stdout",
     "output_type": "stream",
     "text": [
      "ind 0 L[ind-1] 2 L[ind] 4\n",
      "ind 1 L[ind-1] 4 L[ind] 2\n",
      "ind 2 L[ind-1] 2 L[ind] 1\n",
      "ind 3 L[ind-1] 1 L[ind] 2\n"
     ]
    },
    {
     "data": {
      "text/plain": [
       "[1.0, -0.5, -0.5, 1.0]"
      ]
     },
     "execution_count": 42,
     "metadata": {},
     "output_type": "execute_result"
    }
   ],
   "source": [
    "pct_change([4, 2, 1, 2])"
   ]
  },
  {
   "cell_type": "markdown",
   "id": "0e89f6fd",
   "metadata": {},
   "source": [
    "At index 0, the calculation is wrong: it calculates the difference from\n",
    "2 to 4. That is, when we access `L[ind-1]` at `ind=0`, we're accessing\n",
    "`L[-1]`, which is the *last value of the list*. So, we're calculating\n",
    "the change from the last to the first value, which does not make sense\n",
    "here.\n",
    "\n",
    "One way to fix this is by a condition. We'll say that our program should\n",
    "not make the calculation at index zero, but produce the value `None`\n",
    "instead. THen, it should work."
   ]
  },
  {
   "cell_type": "code",
   "execution_count": 43,
   "id": "5fecd30b",
   "metadata": {},
   "outputs": [],
   "source": [
    "def pct_change(L):\n",
    "    \"\"\"\n",
    "    Calculates per-period percentage changes (returns)\n",
    "\n",
    "    Parameters:\n",
    "        L: a list of numbers \n",
    "\n",
    "    Returns a new list of percentage changes\n",
    "    \"\"\"\n",
    "    pct_change_list = []\n",
    "    for ind in range(len(L)):\n",
    "        if ind == 0:\n",
    "            change = None\n",
    "        else:\n",
    "            change = (L[ind]-L[ind-1])/L[ind-1]\n",
    "        pct_change_list.append(change)\n",
    "    return pct_change_list"
   ]
  },
  {
   "cell_type": "markdown",
   "id": "0658851f",
   "metadata": {},
   "source": [
    "### Debugging in Spyder\n",
    "\n",
    "Sometimes adding print statements is not enough to figure out the\n",
    "problem in the code. We can then use Spyder's built-in debugging\n",
    "facilities.\n",
    "\n",
    "Let's try this by creating a new empty Python script file and copying\n",
    "the code above to the file. Then save the file and give it a name of\n",
    "your choice, for example `debug_test.py`.\n",
    "\n",
    "Spyder has a debugging menu: we can start debugging the file by clicking\n",
    "on the blue play/pause icon or using `Ctrl+F5`. Notice the change in the\n",
    "console, which no prompts you with `ipdb>` to signify we've entered the\n",
    "debugger.\n",
    "\n",
    "We can then run the file line-by-line using `Ctrl+F10`, or the next\n",
    "button in the toolbar. Start the debugger use the command to run the\n",
    "next line. The color of the line where the debugger is will change as\n",
    "you go along. When you reach the line\n",
    "\n",
    "    pct_change([4, 2, 1, 2])\n",
    "\n",
    "instead of stepping to the next line, let's step *into* the function.\n",
    "This moves the execution point inside the function, where we can move\n",
    "line by line with `Ctrl+F10`. This will define the variables as we go\n",
    "along. Stepping into functions like this is useful for seeing what\n",
    "happens inside our code and what may be causing an error. The Spyder\n",
    "variable explorer on the top right hand side of the window will show you\n",
    "the values and types of the variables at any given point in time. This\n",
    "can be very useful for spotting problems. We can stop the debugger with\n",
    "`Ctrl+Shift+F12` or the blue stop button.\n",
    "\n",
    "If we want to skip to a specific point of code to debug a problem, we\n",
    "can also set a breakpoint on that line (using `F12`), and run the code\n",
    "until that breakpoint in the debugger.\n",
    "\n",
    "Alternatively, if we run code in Spyder and our program crashes, we can\n",
    "write `%debug` into the console. This will bring the execution back to\n",
    "the point where the problem happened and we can inspect the variables at\n",
    "that point. This is useful for \"post-mortem\" debugging.\n",
    "\n",
    "The value of debugging using Spyder is being able to step through the\n",
    "code and seeing how the variables change and where the problem occurs.\n",
    "\n",
    "Debugging is a skill that takes a while to learn. Some common types of\n",
    "bugs include:\n",
    "\n",
    "-   Referring to a wrong variable name\n",
    "-   Passing arguments to a function in the wrong order\n",
    "-   List indexing\n",
    "-   Mixing list values and indices when looping\n",
    "-   Forgetting parentheses () when calling a function - this will just\n",
    "    refer to the function object\n",
    "\n",
    "**Exercise.** Consider the following\n",
    "function fact(n). Given an integer \\$n\\$, it should return the factorial\n",
    "\\$n!\\$, that is, multiply together the integers from 1 to \\$n\\$."
   ]
  },
  {
   "cell_type": "code",
   "execution_count": 44,
   "id": "0db849cb",
   "metadata": {},
   "outputs": [],
   "source": [
    "def fact(n):\n",
    "    \"\"\" A buggy factorial\"\"\"\n",
    "    accumulator = 1 # fact(0) = 1\n",
    "    for i in range(1, n):\n",
    "        accumulator *= i\n",
    "    return accumulator"
   ]
  },
  {
   "cell_type": "markdown",
   "id": "34d5fbc6",
   "metadata": {},
   "source": [
    "However, the code does not quite work. Copy the code into Spyder and use\n",
    "the debugger to find the mistake.\n",
    "\n",
    "## All done!\n",
    "\n",
    "\n",
    "## Review\n",
    "\n",
    "-   We use for loops and while loops for repeating actions.\n",
    "-   Python *data types* like strings and lists combine data with methods\n",
    "    that work specifically on that kind of data.\n",
    "-   Lists are a commonly used and flexible ordered compound data type in\n",
    "    Python.\n",
    "-   Both strings and lists have a number of methods that make coding\n",
    "    much easier.\n",
    "\n",
    "How would you explain to a classmate:\n",
    "\n",
    "-   How does a for loop work in Python? How about a while loop?\n",
    "-   How can we loop through lists of items?\n",
    "-   What is slicing?\n",
    "-   What are methods and how do we use them?\n",
    "\n",
    "## Trump tweets and libraries\n",
    "\n",
    "In the next optional exercises, we will apply the ideas we have learned\n",
    "through a concrete example. The US President Donald Trump is a prolific\n",
    "Twitter user. The file `trump_tweets.csv` contains a set of his tweets\n",
    "up to July 2016 collected by Github user\n",
    "[sashaperigo](https://github.com/sashaperigo/Trump-Tweets).\n",
    "\n",
    "The data are in `csv` format, which stands for \"comma-separated values\".\n",
    "A csv file is much like a table, and we could open it in Microsoft\n",
    "Excel. But let's read the data into Python. For this, we'll need to use\n",
    "a Python *library*.\n",
    "\n",
    "We have previously used some of Python's built-in functions, like\n",
    "`print` and `abs`. In fact, our Python installation comes with a vast\n",
    "number of readymade functions that we can use. But because of the sheer\n",
    "number of options, most of these are not made immediately available like\n",
    "`print`, but stored in libraries that we *import* as we need them.\n",
    "\n",
    "For the case at hand, Python has built-in functions for reading csv\n",
    "files. They are stored in a library called `csv`. When we need these\n",
    "functions, we use the command `import csv`, which makes the functions\n",
    "available for use.\n",
    "\n",
    "Find the function `read_trump_tweets` in the file. We will use this\n",
    "function to load the data to analyse. It takes as argument the name of\n",
    "the csv file containing the tweets. Our file is trump_tweets.csv, so\n",
    "type in Spyder's console:\n",
    "\n",
    "\n",
    "    tweets = read_trump_tweets('trump_tweets.csv')\n",
    "\n",
    "This will read the tweets into a list. If the file does not load, check\n",
    "that Spyder's working directory is the one where the csv file is. You\n",
    "can change the directory by clicking on the folder icon in the top right\n",
    "corner of the window.\n",
    "\n",
    "Here's the code we use for reading Trump's tweets into a list. We'll\n",
    "return to the details of reading and writing files later in the module.\n",
    "For now, we're happy just to use the end result.\n"
   ]
  },
  {
   "cell_type": "code",
   "execution_count": null,
   "id": "001362b1",
   "metadata": {},
   "outputs": [],
   "source": [
    "import csv\n",
    "def read_trump_tweets(file_name):\n",
    "    \"\"\"\n",
    "    Reads Trump tweets csv file into a list\n",
    "    \"\"\"\n",
    "    with open(file_name, encoding=\"utf8\") as csvfile:\n",
    "        data = csv.reader(csvfile, delimiter=',')\n",
    "        tweet_list = list(data)\n",
    "        return tweet_list\n",
    "tweets = read_trump_tweets('trump_tweets.csv')"
   ]
  },
  {
   "cell_type": "markdown",
   "id": "302272e9",
   "metadata": {},
   "source": [
    "Let's see what's in the list by printing out the first couple of lines.\n",
    "Run the following code in the console:"
   ]
  },
  {
   "cell_type": "code",
   "execution_count": null,
   "id": "9f775be4",
   "metadata": {},
   "outputs": [],
   "source": [
    "print(tweets[0]) # headers\n",
    "for tweet in tweets[1:4]: # first tweets: do not repeat the header line, so index from 1\n",
    "    print(tweet)"
   ]
  },
  {
   "cell_type": "markdown",
   "id": "42a14256-91c8-446e-92a7-ab6bf11055d3",
   "metadata": {},
   "source": [
    "The first line is a list containing headers, and the next lines have the\n",
    "corresponding elements for the first tweets. Now let's analyse the\n",
    "tweets.\n",
    "\n",
    "### Question 6: Tweet analysis\n",
    "\n",
    "1 - Looking at the first tweets, we see that the values of Favorites and\n",
    "Retweets are integers, but they are in string form in the list. Complete\n",
    "the function `str_to_int` to convert them to integers in Python. \n",
    "\n",
    "The function should return a new list with just the integer values of\n",
    "each item at a desired index. You'll need to create a new list, loop\n",
    "through the elements of the input list, and append values to the new\n",
    "list in the loop. You can create an empty list using `new_list = []`.\n",
    "\n",
    "Recall from above that you can loop through elements of a list with\n",
    "\n",
    "    for elem in L:\n",
    "        print(elem) # this will print each element in L in order\n",
    "\n",
    "To effect the conversions, run the following commands in Spyder's\n",
    "console:\n",
    "\n",
    "In \\[ \\]:\n",
    "\n",
    "    favorites = str_to_int(tweets, 2)\n",
    "    retweets = str_to_int(tweets, 3)\n",
    "\n",
    "2 - Having converted the integer columns, let's look at the most popular\n",
    "tweets. Complete the function `value_at_least` to find the tweets with\n",
    "at least a specific number of retweets. \n",
    "\n",
    "**Hint**: In writing this function, we care about the indices of the\n",
    "underlying list. To loop through list indices, use\n",
    "\n",
    "    for index in range(len(L)):\n",
    "        print(index, L[index]) # this will print out the index and the corresponding element\n",
    "\n",
    "To test the function on the tweet data, run the following commands in\n",
    "Spyder's console. Test with different thresholds. What are the tweets\n",
    "about?\n",
    "\n",
    "In \\[ \\]:\n",
    "\n",
    "    high_retweets = value_at_least(retweets, 20000) # get tweet indixes with high number of retweets\n",
    "    for tw_ind in high_retweets: # print the text at these indices\n",
    "        print(tweets[tw_ind + 1][0])\n",
    "\n",
    "## More on Functions\n",
    "\n",
    "We've learned to use functions as names for groups of statements to\n",
    "perform a specific task. For example, we might define a function to\n",
    "calculate the squared value of a number.\n",
    "\n",
    "In \\[ \\]:\n",
    "\n",
    "    def square(x):\n",
    "        return x*x\n",
    "\n",
    "Defining the function allows us to give a name to the process obtain the\n",
    "square. With the function, we can abstract from the details of the\n",
    "implementation and focus on the concept of squaring, which we can now\n",
    "repeat for any number. Now we're going to build on this idea to create\n",
    "functions that manipulate other functions to build higher-order\n",
    "abstractions.\n",
    "\n",
    "Suppose we want to create a list of the squared and cubed values of the\n",
    "natural numbers up to `n`. We could do the following.\n",
    "\n",
    "In \\[ \\]:\n",
    "\n",
    "    def create_list_squares(n):\n",
    "        num_list = []\n",
    "        for number in range(n):\n",
    "            num_list.append(number*number)\n",
    "        return num_list\n",
    "            \n",
    "    def create_list_cubes(n):\n",
    "        num_list = []\n",
    "        for number in range(n):\n",
    "            num_list.append(number*number*number)\n",
    "        return num_list\n",
    "\n",
    "This is repetitive. They are more or less the same function, just with\n",
    "different calculations. Because the functions share a common pattern, we\n",
    "can create an abstraction: each function creates a list of terms, but\n",
    "applying a different calculation. We do this by making the specific\n",
    "calculation an argument to the function.\n",
    "\n",
    "In \\[ \\]:\n",
    "\n",
    "    def create_list_calc(n, func):\n",
    "        num_list = []\n",
    "        for number in range(n):\n",
    "            num_list.append(func(number))\n",
    "        return num_list\n",
    "\n",
    "    def square(x):\n",
    "        return x*x\n",
    "\n",
    "    square_list = create_list_calc(5, square)\n",
    "\n",
    "The function now takes two arguments: the number up to which we create\n",
    "the list, and the function that we use in the calculation. Functions,\n",
    "just like lists, integers, and strings, are objects in Python, meaning\n",
    "we can use them as parameters. Here we define the square function and\n",
    "pass it as an argument to create_list_calc. When the latter is executed,\n",
    "it will call the function square with each number from zero through\n",
    "four.\n",
    "\n",
    "We could now define any calculation on a number, and create a list\n",
    "applying the calculation.\n",
    "\n",
    "**We can also define local functions within another function.** This\n",
    "works just like defining a local variable inside a function. This is\n",
    "sometimes convenient if we don't need the function globally, but only\n",
    "briefly within another function. Another use is that sometimes we may\n",
    "wish to use a function to generate new functions.\n",
    "\n",
    "Let's look at an example. The function `power_creator` defines and\n",
    "returns a new function that calculates the power of a number. The\n",
    "parameter of the power_creator is n, which we use in the definition as\n",
    "the power that we'd like the new function to calculate.\n",
    "\n",
    "We can use `power_creator` to generate functions to calculate different\n",
    "powers. Each time we call it, it defines a new function with the\n",
    "argument we give, and returns it. We can then call the resulting\n",
    "function, which calculates the squares, or the cubes, of whatever the\n",
    "argument we give it.\n",
    "\n",
    "In \\[ \\]:\n",
    "\n",
    "    def power_creator(n):\n",
    "        def f(x):\n",
    "            return x**n\n",
    "        return f \n",
    "\n",
    "    square = power_creator(2)\n",
    "    print(square(5))\n",
    "    cube = power_creator(3)\n",
    "    print(cube(2))\n",
    "\n",
    "User-defined functions are powerful because they allow us to create\n",
    "abstractions. We can take a procedure, an algorithm, and give it a name,\n",
    "adding it to our programming language. We can then use our functions to\n",
    "express more complex operations, calculations, and patterns. Here we've\n",
    "seen two a bit more advanced examples of how we can manipulate\n",
    "functions: we can use them as arguments to other functions, and return\n",
    "them as results of other functions.\n",
    "\n",
    "Let us now practice some real-world problem solving using these\n",
    "concepts.\n",
    "\n",
    "## More on tweets\n",
    "\n",
    "Let's think about tweets again. They are contained in lists within a\n",
    "list, and there are many computations we might want to apply to each of\n",
    "the tweets in the list. Just now, we looped through to do some\n",
    "conversions. Examples could include finding hashtags or mentions, or\n",
    "counting the number of capital letters used. With the idea of using a\n",
    "function as an argument, we can create a function that applies any\n",
    "function to each item in a list, and then throw different actions at\n",
    "this function.\n",
    "\n",
    "Below is a function that applies a function on a list, `apply_function`.\n",
    "\n",
    "In \\[ \\]:\n",
    "\n",
    "    def apply_function(a_list, function, start_from):\n",
    "        \"\"\"\n",
    "        Applies parameter function to items of a_list. \n",
    "        \n",
    "        Parameters:\n",
    "            a_list: a list of lists\n",
    "            function: a function to be applied to each item of a_list,\n",
    "            start_from: index of a_list to start from\n",
    "\n",
    "        Returns: \n",
    "            a new list with the results.\n",
    "        \"\"\"\n",
    "        new_list = []\n",
    "        for item in a_list[start_from:]:\n",
    "            new_list.append(function(item))\n",
    "        return new_list\n",
    "\n",
    "For example, we could define the following function to get the length of\n",
    "the tweet text.\n",
    "\n",
    "In \\[ \\]:\n",
    "\n",
    "    def tweet_length(tweet):\n",
    "        return len(tweet[0])\n",
    "\n",
    "Then we can use `apply_function` to add this data to our list.\n",
    "\n",
    "In \\[ \\]:\n",
    "\n",
    "    tw_lengths = apply_function(tweets, tweet_length, 1)\n",
    "\n",
    "If we wanted to add this data to our `tweets` list, we could loop\n",
    "through it to append this information.\n",
    "\n",
    "### Question 7: Counting capitals\n",
    "\n",
    "Let's write another function to apply to our data, this time counting\n",
    "the capital letters in the tweet. Complete the function\n",
    "`count_capital_letters` in `ses03.py`. \n",
    "\n",
    "**Hint:** the tweet text string is contained in the first element of the\n",
    "list. Loop through the string and use the string method `string.upper()`\n",
    "to check if each character is uppercase. The method works like this:\n",
    "\n",
    "In \\[ \\]:\n",
    "\n",
    "    for char in 'Hello':\n",
    "        print(char.isupper())\n",
    "\n",
    "To create the list of capital letter counts in the tweet data, run the\n",
    "following command in Spyder's console.\n",
    "\n",
    "    capital_counts = apply_function(tweets, count_capital_letters, 1)\n",
    "\n",
    "How can we now check which tweets that have high capital letter counts?\n",
    "One way to do so would be to run our previous function `value_at_least`.\n",
    "\n",
    "The advantage of `apply_function` is that we could now write many other\n",
    "functions to work similarly to `count_capital_letters`. You might try\n",
    "for example counting hashtags, mentions, specific words, etc.\n",
    "\n",
    "We will learn about more Python data structures in the coming sessions.\n",
    "Building on the ideas introduced today, these will allow us to\n",
    "conveniently do much more powerful data analysis.\n",
    "\n",
    "### Note: Advanced Looping\n",
    "\n",
    "The above looping methods allow us to go through any data. For some\n",
    "cases, Python provides more convenient advanced built-in methods to do\n",
    "so.\n",
    "\n",
    "When looping through a list in Python we often need to keep track of the\n",
    "index. This can be done like this:\n",
    "\n",
    "    some_list = [3,6,4,8,'joe',875,'76'] \n",
    "\n",
    "    index = 0\n",
    "    for item in some_list:\n",
    "        print('The value is:',item,', the index is:',index)\n",
    "        index += 1\n",
    "\n",
    "Nevertheless this is not a *'pythonic'* way to do this. Python provides\n",
    "us with the built-in function enumerate(), which returns the index along\n",
    "with the value of the cell:\n",
    "\n",
    "    for index, item in enumerate(some_list):\n",
    "        print('The value is:',item,', the index is:',index)\n",
    "\n",
    "In many cases we need to loop through two lists at the same time.\n",
    "Instead of using the same index for two different lists, this can be\n",
    "done using the built in function zip( ):\n",
    "\n",
    "    names = ['Mary', 'Nick', 'John', 'Sue'] \n",
    "    grades = [87, 45, 75, 91] \n",
    "\n",
    "    for name, grade in zip(names, grades): \n",
    "        print(name, ' got ', grade)\n",
    "\n",
    "### Question: Palindromes\n",
    "\n",
    "A *palindrome* is a string that reads the same forward and backwards e.g\n",
    "'radar'. Write a function that tests whether an arbitrarily long string\n",
    "is a palindrome. How should we go about this? How do we reverse a\n",
    "string? There is a hiccup though - a string might contain capital\n",
    "letters and punctuation. These will cause trouble in comparisons. For\n",
    "palindrome checking, we need to compare only lower case strings with no\n",
    "punctuation. Complete the functions `to_chars` and `is_palindrome` in\n",
    "the skeleton file.\n",
    "\n",
    "In \\[ \\]:\n",
    "\n",
    "    def to_chars(s):\n",
    "        \"\"\"\n",
    "        Strips the string s from any non-letter characters (English alphabet), \n",
    "        and makes it lower-case.\n",
    "        \n",
    "        Parameters:\n",
    "            string s\n",
    "        Returns: \n",
    "            string with only lower-case chars of the English alphabet\n",
    "            \n",
    "        Example use\n",
    "        >>> to_chars('HeLlo!')\n",
    "        'hello'\n",
    "        >>> to_chars(\"Never (1) odd or (2) even...\")\n",
    "        'neveroddoreven'\n",
    "        \"\"\"\n",
    "        # DON'T CHANGE ANYTHING ABOVE\n",
    "        # YOUR CODE BELOW THIS\n",
    "        alphabet = 'abcdefghjiklmnopqrstuvwxyz' # English alphabet\n",
    "\n",
    "\n",
    "    def is_palindrome(s):\n",
    "        \"\"\" \n",
    "        Palindrome checker\n",
    "        \n",
    "        Parameters:\n",
    "            s is string that has gone through to_chars()\n",
    "        \n",
    "        Returns True if s is palindrome, False otherwise\n",
    "        \n",
    "        Examples:\n",
    "        >>> is_palindrome('neveroddoreven')\n",
    "        True\n",
    "        >>> is_palindrome(to_chars('A man, a plan, a canal: Panama.'))\n",
    "        True\n",
    "        >>> is_palindrome('Hello')\n",
    "        False\n",
    "        \"\"\"\n",
    "        # DON'T CHANGE ANYTHING ABOVE\n",
    "        # YOUR CODE BELOW THI\n",
    "\n",
    "\n",
    "### Question 9: Strings within strings\n",
    "\n",
    "**Exercise.** Write a function `search_word(s1, s2)` that takes two\n",
    "strings (`s1` and `S2`) and returns the longest sequence in `s1`(a\n",
    "substring) that also appears in `s2`. This works as follows:\n",
    "\n",
    "    >>> search_word(\"searching for a substring\", \"subway\")\n",
    "        'sub'\n",
    "\n",
    "Complete the function `search_word` in `ses03_extra.py`.\n",
    "\n",
    "**Hint:** This is a challenging exercise. You will probably need to\n",
    "perform nested looping..."
   ]
  },
  {
   "cell_type": "code",
   "execution_count": null,
   "id": "7c76038d",
   "metadata": {},
   "outputs": [],
   "source": []
  }
 ],
 "metadata": {
  "kernelspec": {
   "display_name": "Python 3 (ipykernel)",
   "language": "python",
   "name": "python3"
  },
  "language_info": {
   "codemirror_mode": {
    "name": "ipython",
    "version": 3
   },
   "file_extension": ".py",
   "mimetype": "text/x-python",
   "name": "python",
   "nbconvert_exporter": "python",
   "pygments_lexer": "ipython3",
   "version": "3.9.16"
  }
 },
 "nbformat": 4,
 "nbformat_minor": 5
}
