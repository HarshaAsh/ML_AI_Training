{
 "cells": [
  {
   "cell_type": "markdown",
   "id": "9965c5dc",
   "metadata": {},
   "source": [
    "# Session 4: Computational complexity, search, and sorting\n",
    "\n",
    "*Data Structures and Algorithms*\n",
    "\n",
    "*Achyuthuni Sri Harsha*\n",
    "\n",
    "------------------------------------------------------------------------\n",
    "\n",
    "In this session we'll implement search and sorting algorithms in Python.\n",
    "We'll also practice the concept of computational complexity.\n",
    "\n",
    "We will also start working on the important skill of reading and adding\n",
    "to code written by others.\n",
    "\n",
    "------------------------------------------------------------------------\n",
    "\n",
    "## Preparation:\n",
    "\n",
    "**Readings**:\n",
    "\n",
    "Guttag: Chapters 9, 10.1-10.2.\n",
    "\n",
    "**OR**\n",
    "\n",
    "Miller and Ranum. Problem Solving with Algorithms and Data Structures.\n",
    "\n",
    "-   <https://interactivepython.org/runestone/books/published/pythonds/index.html>\n",
    "\n",
    "-   Sections 3.1-3.3 (Complexity)\n",
    "\n",
    "-   Sections 6.1-6.4. (Search algorithms)\n",
    "\n",
    "-   Sections 6.6, 6.8, 6.11 (Selection sort and merge sort)\n",
    "\n",
    "**Questions:**\n",
    "\n",
    "Please read the material above, and think about how you would explain to\n",
    "your classmates:\n",
    "\n",
    "-   If computers keep getting faster, why do we care about computational\n",
    "    complexity?\n",
    "\n",
    "-   Why do we not measure complexity simply by the time it takes a\n",
    "    program to run?\n",
    "\n",
    "-   What is Big-Oh notation, and why is it useful for measuring\n",
    "    complexity?\n",
    "\n",
    "-   How do the merge sort and selection sort algorithms work?\n",
    "\n",
    "-   Why is merge sort more computationally efficient than selection\n",
    "    sort?\n",
    "\n",
    "------------------------------------------------------------------------\n",
    "\n",
    "## Recap\n",
    "\n",
    "\n",
    "## Big O\n",
    "\n",
    "## Search algorithms\n",
    "\n",
    "### Linear search\n",
    "\n",
    "In the lecture we started to delve into the mechanics of searching for\n",
    "an item in a list. We first looked at how linear search goes through\n",
    "each element \\$x\\$ in list \\$A\\$, as defined below."
   ]
  },
  {
   "cell_type": "code",
   "execution_count": 1,
   "id": "348ea4cb",
   "metadata": {},
   "outputs": [
    {
     "data": {
      "text/plain": [
       "True"
      ]
     },
     "execution_count": 1,
     "metadata": {},
     "output_type": "execute_result"
    }
   ],
   "source": [
    "def linear_search(A, x):\n",
    "    \"\"\" \n",
    "    Searches for element x in list A\n",
    "\n",
    "    Returns True if x found, False otherwise\n",
    "\n",
    "    Example use:\n",
    "    >>> A = [1, 3, 9, 4, 5, 6]\n",
    "    >>> y = 6\n",
    "    >>> linear_search(A, y)\n",
    "    True\n",
    "    >>> linear_search(A, 15)\n",
    "    False\n",
    "    \"\"\"\n",
    "    for elem in A:          \n",
    "        if elem == x:\n",
    "            return True\n",
    "    return False           \n",
    "\n",
    "A = [1, 3, 9, 4, 5, 6]\n",
    "y = 6\n",
    "linear_search(A, y)"
   ]
  },
  {
   "cell_type": "markdown",
   "id": "2e8ab1ec",
   "metadata": {},
   "source": [
    "Try it out and make sure you understand how the function works. Notice\n",
    "that the elements of the list do not need to be integers (or indeed\n",
    "numbers).  \n",
    "\n",
    "The linear search algorithm currently only shows us whether the element\n",
    "we were looking were was found in the list, but often we also want to\n",
    "know its position. Modify the program such that it returns the *index*\n",
    "of the first element, and -1 if the searched element does not occur in\n",
    "the list. Complete the function `linear_search_index` in `ses04.py`.  \n",
    "\n",
    "\n",
    "**Hint:** you may want to loop through indices instead of the elements\n",
    "the list. Remember from the previous session that we can loop through\n",
    "list indices using the `range()` and `len()` functions.\n",
    "\n",
    "### Binary search\n",
    "\n",
    "We saw in the lecture that the worst-case running time of this algorithm\n",
    "is \\$O(n)\\$, where \\$n\\$ is the length of \\$A\\$: that is, if the element\n",
    "we're looking for happen not to be in the list, we have to go through\n",
    "all \\$n\\$ elements.\n",
    "\n",
    "If we know that our list is sorted, we can do better. How? In the linear\n",
    "search, when going through sorted elements one by one, we would know\n",
    "that if \\$elem \\> x\\$, all remaining elements must also be larger.\n",
    "Therefore \\$x\\$ cannot be in \\$A\\$ and we can stop the search. This\n",
    "would avoid lots of unnecessary searching, but does it improve the\n",
    "worst-case performance of linear search?\n",
    "\n",
    "A better solution is to use **binary search**. We defined the algorithm\n",
    "in the lecture using the following \"recipe\" to search for item \\$x\\$ in\n",
    "list \\$A\\$.\n",
    "\n",
    "-   Pick an index \\$midpoint\\$ roughly dividing \\$A\\$ in half\n",
    "-   If there is nothing left to search, stop and return -1\n",
    "-   If \\$A\\[midpoint\\] == x\\$, return True\n",
    "-   If not:\n",
    "    -   If \\$A\\[midpoint\\] \\> x\\$, search the left half of \\$A\\$\n",
    "    -   Otherwise search the right half\n",
    "\n",
    "We translated this into a Python program as follows."
   ]
  },
  {
   "cell_type": "code",
   "execution_count": 2,
   "id": "590b274b",
   "metadata": {},
   "outputs": [],
   "source": [
    "def binary_search(A, x):\n",
    "    \"\"\"\n",
    "    Binary search for element x in list A\n",
    "\n",
    "    Parameters:\n",
    "        A: list with elements in ascending order.\n",
    "        x: the element we're searching for.\n",
    "\n",
    "    Returns True if x found in x, False otherwise\n",
    "\n",
    "    >>> binary_search([1, 3, 4], -1)\n",
    "    False\n",
    "    >>> binary_search([1, 3, 4, 5, 6, 6, 7], 7)\n",
    "    True\n",
    "    \"\"\"\n",
    "\n",
    "    # Initialize the search to cover entire list\n",
    "    low = 0\n",
    "    high = len(A) - 1 \n",
    "    while low <= high:\n",
    "        midpoint = (low + high) // 2\n",
    "        guess = A[midpoint]\n",
    "        if guess == x:\n",
    "            return True\n",
    "        elif guess > x:\n",
    "            high = midpoint - 1 \n",
    "        else:\n",
    "            low = midpoint + 1 \n",
    "    return False"
   ]
  },
  {
   "cell_type": "markdown",
   "id": "27396aef",
   "metadata": {},
   "source": [
    "### Question 4: Binary search\n",
    "\n",
    "How many iterations of the while loop does binary search actually do?\n",
    "Your task is to modify the algorithm to keep track of this. Complete the\n",
    "function `binary_search_count` given in the Python file `ses04.py`.\n",
    "\n",
    "**Hint:** the search will work just as before. Now, you'll need to\n",
    "define a new variable, for example called `counter`, which increases at\n",
    "every iteration, and gets returned together with the index. A function\n",
    "can return several values simply through a statement like\n",
    "\n",
    "In \\[ \\]:\n",
    "\n",
    "    return a,b\n",
    "\n",
    "This will return the values in the form `(a, b)`, which is called a\n",
    "*tuple*. Tuples are similar to lists, but they are immutable: we cannot\n",
    "change the elements. We will see more tuples later in the module.\n",
    "\n",
    "\n",
    "### Built-in search\n",
    "\n",
    "Searching and sorting are common building blocks in more complex\n",
    "programs and their performance is therefore crucial. Whilst designing\n",
    "and writing these algorithms is both fun and useful for developing your\n",
    "algorithmic and coding skills, in practice we usually rely on Python's\n",
    "built-in methods.\n",
    "\n",
    "Python provides very efficient search algorithms, so we don't need to\n",
    "use our own in everyday problems. We can check whether an item can be\n",
    "found in a list using the keyword `in` as follows:\n"
   ]
  },
  {
   "cell_type": "code",
   "execution_count": 3,
   "id": "38b3ab6d",
   "metadata": {},
   "outputs": [
    {
     "name": "stdout",
     "output_type": "stream",
     "text": [
      "False\n",
      "True\n"
     ]
    }
   ],
   "source": [
    "L = [1, 3, 'a', '4']\n",
    "print(4 in L)\n",
    "print(3 in L)"
   ]
  },
  {
   "cell_type": "markdown",
   "id": "8ef00857",
   "metadata": {},
   "source": [
    "If we want to find the index of an item, we can use the `index` method:"
   ]
  },
  {
   "cell_type": "code",
   "execution_count": 4,
   "id": "47d276f8",
   "metadata": {},
   "outputs": [
    {
     "data": {
      "text/plain": [
       "2"
      ]
     },
     "execution_count": 4,
     "metadata": {},
     "output_type": "execute_result"
    }
   ],
   "source": [
    "L.index('a')"
   ]
  },
  {
   "cell_type": "markdown",
   "id": "c28113fa",
   "metadata": {},
   "source": [
    "## Selection sort\n",
    "\n",
    "We'll use selection sort to sort a list in ascending order.\n",
    "\n",
    "As we saw in the lecture, selection sort algorithm uses searching as a\n",
    "subroutine. In each iteration of the main loop, it searches for the\n",
    "smallest element in the unsearched part of the list and moves it to the\n",
    "end of the searched part. The algorithm is as follows:\n",
    "\n",
    "**Selection sort** of list \\$L\\$ of length \\$n\\$:\n",
    "\n",
    "-   Initially the list is unsorted: there are zero sorted items\n",
    "-   Main loop:\n",
    "    -   Search for the smallest unsorted element of \\$L\\$\n",
    "    -   Swap it with the first unsorted item\n",
    "    -   There is now one more sorted item\n",
    "    -   Repeat until entire \\$L\\$ is sorted\n",
    "\n",
    "In other words, in selection sort, we move the smallest items one by one\n",
    "to the front part of the list. They will then occupy the smallest\n",
    "indices, while the unsorted part will be at the higher indices.\n",
    "\n",
    "Let's try to divide the problem into small parts. In each iteration, we\n",
    "do two things:\n",
    "\n",
    "-   Find the smallest of the remaining unsorted items.\n",
    "-   Move this item to the end of the sorted part of the list.\n",
    "\n",
    "We'll implement functions for finding the minimum index:\n",
    "\n",
    "-   `find_min_index(A, k)`: Finds the smallest element in the list A\n",
    "    from index `k` onwards. That is, if we have already sorted \\$k\\$\n",
    "    items, the function will find the minimum index of the remaining\n",
    "    items `A[k:]`.\n",
    "\n",
    "If this function exists and works, our selection sort algorithm will\n",
    "look like this."
   ]
  },
  {
   "cell_type": "code",
   "execution_count": 5,
   "id": "b841b0c0",
   "metadata": {},
   "outputs": [],
   "source": [
    "def selection_sort(M):\n",
    "    \"\"\"\n",
    "    Sorts the list M using selection sort\n",
    "\n",
    "    Parameters:\n",
    "        M is a list of integers\n",
    "\n",
    "    Returns sorted copy of M.\n",
    "\n",
    "    Uses find_min_index to find index with lowest value\n",
    "    \"\"\"\n",
    "    L = M[:] # create a copy of the list to also preserve original list\n",
    "    n = len(L)\n",
    "    for index in range(n):\n",
    "        min_index = find_min_index(L, index)\n",
    "        # code to swap elements of L at index and min_index\n",
    "    return L"
   ]
  },
  {
   "cell_type": "markdown",
   "id": "2f8cdc17",
   "metadata": {},
   "source": [
    "We start with an unsorted list `L`. At the first iteration, we look for\n",
    "the smallest value in the entire list with `find_min_index`. We then\n",
    "move swap its position to the front, while the item that was at the\n",
    "front gets moved to the position of the minimum value.\n",
    "\n",
    "At each iteration, we look for the smallest value in the remaining\n",
    "unsorted list, and swap it to the front. If the functions work, so will\n",
    "our selection sort algorithm."
   ]
  },
  {
   "cell_type": "code",
   "execution_count": 6,
   "id": "5cf56158",
   "metadata": {},
   "outputs": [],
   "source": [
    "def find_min_index(A, k):\n",
    "    \"\"\"\n",
    "    Finds the smallest element in the list A from index k onwards.\n",
    "\n",
    "    Parameters:\n",
    "        A (list)\n",
    "        k: index from which search for smallest starts\n",
    "\n",
    "    Example use:\n",
    "    >>> find_min_index([1, 2, 5, -1], 0)\n",
    "    3\n",
    "    >>> find_min_index([1, 1, 1, 5, 9], 2)\n",
    "    2\n",
    "    \"\"\"\n",
    "    # DON'T CHANGE ANYTHING ABOVE\n",
    "    # YOUR CODE HERE"
   ]
  },
  {
   "cell_type": "markdown",
   "id": "bbdba8d6",
   "metadata": {},
   "source": [
    "You can try out the selection sort function in Jupyter's console for\n",
    "randomly generated lists:"
   ]
  },
  {
   "cell_type": "code",
   "execution_count": 7,
   "id": "c1533082",
   "metadata": {},
   "outputs": [
    {
     "name": "stdout",
     "output_type": "stream",
     "text": [
      "[539, 55, 484, 543, 451, 896, 952, 188, 765, 436]\n",
      "[539, 55, 484, 543, 451, 896, 952, 188, 765, 436]\n"
     ]
    }
   ],
   "source": [
    "import random # module for random number generation\n",
    "list_size = 10\n",
    "A = [random.randint(0, 1000) for r in range(list_size)]\n",
    "A_sorted = selection_sort(A)\n",
    "print(A_sorted)\n",
    "print(A)"
   ]
  },
  {
   "cell_type": "markdown",
   "id": "06924fe4",
   "metadata": {},
   "source": [
    "## Built-in sorting\n",
    "\n",
    "We can either sort a list using `list.sort()` or create a sorted copy\n",
    "using `sorted`. We can specify whether the sorting is ascending or\n",
    "descending."
   ]
  },
  {
   "cell_type": "code",
   "execution_count": 8,
   "id": "f96a0ef2",
   "metadata": {},
   "outputs": [],
   "source": [
    "A.sort()\n",
    "B = sorted(A) # sorts ascending\n",
    "B = sorted(A, reverse=True) # sorts descending order\n",
    "B.reverse() # we can always reverse the result"
   ]
  },
  {
   "cell_type": "markdown",
   "id": "8aed7fa7",
   "metadata": {},
   "source": [
    "Sorting in Python is flexible. We can sort using different *keys*. For\n",
    "example, we can sort a list of strings by the length of the string."
   ]
  },
  {
   "cell_type": "code",
   "execution_count": 9,
   "id": "725eef0f",
   "metadata": {},
   "outputs": [
    {
     "data": {
      "text/plain": [
       "['Xu', 'Mark', 'Shruti', 'Jennifer']"
      ]
     },
     "execution_count": 9,
     "metadata": {},
     "output_type": "execute_result"
    }
   ],
   "source": [
    "L = ['Mark', 'Shruti', 'Xu', 'Jennifer']\n",
    "sorted(L, key=len)"
   ]
  },
  {
   "cell_type": "markdown",
   "id": "c53ef7b3",
   "metadata": {},
   "source": [
    "How does this work? Conveniently, we can specify a *key function* as an\n",
    "argument for `sorted`. It will then sort the list based on this function\n",
    "being applied to all the elements of the list. The kicker is that we can\n",
    "*define the key function ourselves*. For example, we can sort tuples by\n",
    "the second element."
   ]
  },
  {
   "cell_type": "code",
   "execution_count": 10,
   "id": "d5606572",
   "metadata": {},
   "outputs": [
    {
     "data": {
      "text/plain": [
       "[('Jeremy', 'Corbyn'),\n",
       " ('Jo', 'Johnson'),\n",
       " ('Boris', 'Johnson'),\n",
       " ('Theresa', 'May')]"
      ]
     },
     "execution_count": 10,
     "metadata": {},
     "output_type": "execute_result"
    }
   ],
   "source": [
    "def get_last_name(x):\n",
    "    return x[1]\n",
    "names = [('Theresa', 'May'), ('Jo', 'Johnson'), ('Boris', 'Johnson'), ('Jeremy', 'Corbyn')] # list of tuples: (first_name, last_name)\n",
    "sorted(names, key=get_last_name)"
   ]
  },
  {
   "cell_type": "markdown",
   "id": "4ea8b8f8",
   "metadata": {},
   "source": [
    "The `sorted` function applies the key function to each item before doing\n",
    "the sorting on these values. The key function may also return multiple\n",
    "values, in which case we can sort by multiple attributes, for example\n",
    "first by last name, then by first name."
   ]
  },
  {
   "cell_type": "code",
   "execution_count": 11,
   "id": "e40b0837",
   "metadata": {},
   "outputs": [
    {
     "data": {
      "text/plain": [
       "[('Jeremy', 'Corbyn'),\n",
       " ('Boris', 'Johnson'),\n",
       " ('Jo', 'Johnson'),\n",
       " ('Theresa', 'May')]"
      ]
     },
     "execution_count": 11,
     "metadata": {},
     "output_type": "execute_result"
    }
   ],
   "source": [
    "def get_last_name_first_name(x):\n",
    "    return x[1], x[0]\n",
    "names = [('Theresa', 'May'), ('Jo', 'Johnson'), ('Boris', 'Johnson'), ('Jeremy', 'Corbyn')] # list of tuples: (first_name, last_name)\n",
    "sorted(names, key=get_last_name_first_name) "
   ]
  },
  {
   "cell_type": "markdown",
   "id": "1a1d1342",
   "metadata": {},
   "source": [
    "We can define any such comparison function that operates on each item of\n",
    "a list that returns a value (or many values) and allows a total ordering\n",
    "of the items.  \n",
    "\n",
    "### Question: Sorting keys\n",
    "\n",
    "Now, complete the function `sort_by_key` in `ses04.py`. The function\n",
    "should sort a list in descending order using a specified key function.\n",
    "You'll also need to complete the auxiliary function `get_unemployment`\n",
    "to work in conjunction with `sort_by_key`.  \n",
    "\n",
    "\n",
    "> **Advanced.** How does Python do its sorting? It uses an algorithm\n",
    "> called **timsort**, which has worst-case running time \\$O(n\\log n)\\$\n",
    "> just like your merge sort, but is faster on average. In fact, it turns\n",
    "> out that \\$O(n\\log n)\\$ is a theoretical bound for how fast you can\n",
    "> expect to sort in the worst case. Timsort's is faster on average\n",
    "> because it exploits the fact that many lists have some order to begin\n",
    "> with, and finding such ordered sequences saves time compared to\n",
    "> straight-up sorting. However, the cost is that timsort is conceptually\n",
    "> quite a bit more complex than merge sort (just like merge sort is\n",
    "> conceptually more complex than selection sort). If you want to\n",
    "> understand a state-of-the art sorting algorithm, look up [timsort on\n",
    "> Wikipedia](https://en.wikipedia.org/wiki/Timsort). While you're at it,\n",
    "> there are many other well-known sorting algorithms that we don't go\n",
    "> through here: for example insertion sort, bubble sort, quicksort,\n",
    "> radix sort, just to name a few.\n",
    "\n",
    "### Recursion\n",
    "\n",
    "A Python function can call itself: this is called *recursion*. It is a\n",
    "powerful tool we can use instead of loops to build algorithms.\n",
    "\n",
    "Let's look at an example. A factorial of an integer \\$n\\$ is defined as\n",
    "the product of all integers \\$1\\times 2 \\times ... \\times n-1 \\times\n",
    "n\\$.\n",
    "\n",
    "How would we calculate a factorial in Python? One way to do so would be\n",
    "using a loop."
   ]
  },
  {
   "cell_type": "code",
   "execution_count": 12,
   "id": "b9d3deb2",
   "metadata": {},
   "outputs": [
    {
     "data": {
      "text/plain": [
       "6"
      ]
     },
     "execution_count": 12,
     "metadata": {},
     "output_type": "execute_result"
    }
   ],
   "source": [
    "def factorial(n):\n",
    "    result = 1\n",
    "    for i in range(2,n+1):\n",
    "        result *= i\n",
    "    return result\n",
    "\n",
    "factorial(3)"
   ]
  },
  {
   "cell_type": "markdown",
   "id": "37473ae5",
   "metadata": {},
   "source": [
    "Instead of a for loop, we can also use a recursive approach. The\n",
    "recursive method starts the idea that the factorial problem can be\n",
    "expressed in terms of smaller versions of itself. That is, if we think\n",
    "about how the multiplication works for each factorial, we notice that\n",
    "each factorial is the previous factorial multiplied by the current\n",
    "\\$n\\$. That is: \n",
    "\n",
    "$$ \\text{factorial}(2) = 2\\times1 = 2\\times \\text{factorial}(1) $$\n",
    "$$ \\text{factorial}(3) = 3\\times2\\times1 = 3\\times \\text{factorial}(2) $$ \n",
    "$$\\text{factorial}(4) = 4 \\times 3 \\times 2 \\times 1 = 4\\times \\text{factorial}(3) $$ \n",
    "\n",
    "and so on. This is like Russian\n",
    "dolls: there's always a smaller factorial inside - except for the\n",
    "factorial of 1, which is called the *base case* of this recursion. For\n",
    "the base case, we can state the solution non-recursively. In this case,\n",
    "\n",
    "\\$\\$ \\text{factorial}(1) = 1. \\$\\$ If we combine these ideas, we have:\n",
    "$$ \\text{factorial}(n) = 1 \\text{ for } n = 1$$\n",
    "$$ \\text{factorial}(n) = n\\times \\text{factorial}(n-1) \\text{ for } n > 1 $$\n",
    "\n",
    "Let's think about this as a function. In the base case \\$n=1\\$, the\n",
    "function returns 1. In the general case \\$n\\>1\\$, it returns \\$n\\$ times\n",
    "the factorial of \\$n-1\\$. In other words, the function calls itself. We\n",
    "can write this out in Python."
   ]
  },
  {
   "cell_type": "code",
   "execution_count": 13,
   "id": "cbdfce06",
   "metadata": {},
   "outputs": [],
   "source": [
    "def factorial(n):\n",
    "    if n == 1:\n",
    "        return 1\n",
    "    else:\n",
    "        return n * factorial(n-1)"
   ]
  },
  {
   "cell_type": "markdown",
   "id": "fa727204",
   "metadata": {},
   "source": [
    "Here's a\n",
    "[visualization](http://pythontutor.com/visualize.html#code=def%20factorial%28n%29%3A%0A%20%20%20%20if%20n%20%3D%3D%201%3A%0A%20%20%20%20%20%20%20%20return%201%0A%20%20%20%20else%3A%0A%20%20%20%20%20%20%20%20return%20n%20*%20factorial%28n-1%29%0A%20%20%20%20%20%20%20%20%0A%0Aprint%28factorial%284%29%29&cumulative=false&curInstr=0&heapPrimitives=false&mode=display&origin=opt-frontend.js&py=3&rawInputLstJSON=%5B%5D&textReferences=false)\n",
    "of how this code works. Notice how the recursion generates new function\n",
    "calls for each case until it reaches the base case. These calls are then\n",
    "resolved in the opposite order.\n",
    "\n",
    "### Fibonacci Sequence\n",
    "\n",
    "The [Fibonacci sequence](https://en.wikipedia.org/wiki/Fibonacci_number)\n",
    "is defined recursively as follows:\n",
    "\n",
    "                                                F(n) = F(n-1) + F(n-2) \n",
    "                                                with F(0) = 0 and F(1) = 1 \n",
    "\n",
    "The study of this sequence dates back to at least 200BC India, but it is named after a medieval Italian mathematician known as Fibonacci. Fibonacci numbers appear often not only in mathematics (where they define the golden ratio) but fascinatingly also in the nature, for example in the arrangement of leaves on tree branches. The golden ratio  resulting from the sequence is also common in the arts and architecture. \n",
    "Your task is to write a recursive Python function that takes as input an integer \\$n\\$ and returns the Fibonacci number corresponding to \\$n\\$. Complete the function `recursive_fibonacci` in `ses04_extra.py`\n",
    "\n",
    "Now try your algorithm with larger values of \\$n\\$, for example \\$n = 10\\$ and \\$n=20\\$. The calculation will slow down. Why is this? Is the recursive design efficient?\n",
    "\n",
    "The Fibonacci sequence is an example where the problem looks well suited for a recursive approach, but the implementation becomes problematic. Can you come up with a faster iterative solution?\n",
    "\n",
    "### Merge sort\n",
    "\n",
    "Let's return to sorting. Although the selection sort algorithm is intuitive, it is not as fast as we would hope for: its running time is \\$O(n^2)\\$ for \\$n\\$ items. We can do better by other algorithms, for example using merge sort, which is a recursive \"divide-and-conquer\" algorithm. It significantly improves the complexity of sorting to \\$O(n\\log n)\\$.\n",
    "\n",
    "The merge sort algorithm is given below. We will use the idea of recursion. We start with a list we want to sort. We identify a *base case* for which sorting is easy: if the length of a list is no greater than one, the list is obviously sorted. So we recursively divide the list roughly in half as many times as it requires to reach this base case - approximately \\$\\log n\\$ times. We then combine these results together at each level of recursion and return the result. This combining is called *merging* lists, and the exact procedure is given in the algorithm below. As it turns out, each level of recursion requires \\$O(n)\\$ work. So merge sort in total has \\$O(n\\log n)\\$ complexity.\n",
    "\n",
    "**Merge sort**\n",
    "\n",
    "-   Base case: if list length \\$n \\le 1\\$, the list is sorted: return\n",
    "    the list itself\n",
    "-   Divide: if list length \\$n \\> 1\\$, split into two lists and\n",
    "    recursively sort each\n",
    "-   Combine (merge) the two (sorted) lists:\n",
    "    -   Initialize an empty `result` list\n",
    "    -   Look at first element of each list, add smaller to end of\n",
    "        `result`\n",
    "    -   Move to the next item in the list which had the smaller item,\n",
    "        repeat\n",
    "    -   When all items of one of the lists have been added to `result`,\n",
    "        copy the rest of the other list to `result`\n",
    "-   Return the result of merging\n",
    "\n",
    "### Merge sort\n",
    "\n",
    "Complete the merge sort algorithm in the skeleton file. Below you'll find a full implementation of the `merge_sort` function, as well as a skeleton code for the `merge` subroutine. Complete the function `merge` in `ses04_extra.py`."
   ]
  },
  {
   "cell_type": "code",
   "execution_count": null,
   "id": "1588bf0f",
   "metadata": {},
   "outputs": [],
   "source": [
    "def merge(left, right):\n",
    "    \"\"\"\n",
    "    Merge two sorted lists into one\n",
    "\n",
    "    Parameters: \n",
    "        left and right are sorted lists\n",
    "\n",
    "    Returns a single sorted list.\n",
    "\n",
    "    Example use:\n",
    "    >>> left = [1, 5, 6]\n",
    "    >>> right = [2, 3, 4]\n",
    "    >>> merge(left, right)\n",
    "    [1, 2, 3, 4, 5, 6]\n",
    "    \"\"\"\n",
    "    # YOUR CODE BELOW\n",
    "    # DON'T CHANGE ANYTHING ABOVE\n",
    "\n",
    "    # This is one possible approach:\n",
    "    result = [] # the result of merging\n",
    "    i = 0 # Loop index for left list\n",
    "    j = 0 # Loop index for right list\n",
    "\n",
    "    while i < len(left) and j < len(right):\n",
    "        # Loop through lists comparing items at indices i and j\n",
    "        # In each iteration append the smaller item to result\n",
    "        # Stop loop when one list fully copied\n",
    "\n",
    "    # When one full list is fully copied, what do you need to do?\n",
    "    return result"
   ]
  },
  {
   "cell_type": "code",
   "execution_count": null,
   "id": "6db7db4f",
   "metadata": {},
   "outputs": [],
   "source": [
    "def merge_sort(L):\n",
    "    \"\"\"\n",
    "    Sort the input list using the merge sort algorithm.\n",
    "\n",
    "    Parameters:\n",
    "        L is an unsorted list\n",
    "\n",
    "    Returns:\n",
    "        L sorted in increasing order\n",
    "\n",
    "    Examples:\n",
    "    >>> merge_sort([3, 6, 8, 2, 78, 1, 23, 45, 9])\n",
    "    [1, 2, 3, 6, 8, 9, 23, 45, 78]\n",
    "    >>> merge_sort([1, 13, -23, 2.7, -3, 5, 7.5])\n",
    "    [-23, -3, 1, 2.7, 5, 7.5, 13]\n",
    "    \"\"\"\n",
    "    if len(L) < 2: # Base case - list is max one item, so sorted\n",
    "        return L[:] # Return copy of the entire list\n",
    "    else: # General case: split and sort each half, then merge\n",
    "        middle = len(L)//2\n",
    "        # merge sort each half\n",
    "        # merge them together\n",
    "        return _____"
   ]
  },
  {
   "cell_type": "markdown",
   "id": "f9b2e456",
   "metadata": {},
   "source": [
    "How big is the speed difference in practice? You can make time comparisons between merge sort and selection sort by the `%timeit` command in Jupyter's console.\n"
   ]
  },
  {
   "cell_type": "code",
   "execution_count": 18,
   "id": "bd673d72",
   "metadata": {},
   "outputs": [
    {
     "name": "stdout",
     "output_type": "stream",
     "text": [
      "89.6 µs ± 5.28 µs per loop (mean ± std. dev. of 7 runs, 10,000 loops each)\n",
      "721 µs ± 9.02 µs per loop (mean ± std. dev. of 7 runs, 1,000 loops each)\n"
     ]
    }
   ],
   "source": [
    "import random\n",
    "import numpy as np\n",
    "list_size = 10000\n",
    "A = [random.randint(0, 1000) for r in range(list_size)]  # generate random integers\n",
    "B = np.array(A)\n",
    "%timeit A.sort()\n",
    "%timeit np.sort(B)"
   ]
  },
  {
   "cell_type": "markdown",
   "id": "09ffd4c3-e0a1-4283-9af6-f8de1fbb19f2",
   "metadata": {},
   "source": [
    "## All done\\!\n",
    "\n",
    "## Review\n",
    "\n",
    "We've looked at the canonical computer science problem of search, and introduced a language for describing the complexity of computational problems.\n",
    "\n",
    "How would you explain to your classmates:\n",
    "\n",
    "-   What is big O notation, and for what do we use it?\n",
    "-   Why is it not enough to measure the time a computer takes to run a\n",
    "    program?\n",
    "-   What is the difference between the linear and binary search\n",
    "    algorithms?\n",
    "-   When can we use binary search?\n",
    "\n",
    "We also looked into the mechanics of sorting algorithms, in particular selection sort. In the first optional exercises, you'll implement the selection sort algorithm. You can then practice your algorithm and looping skills with the remaining exercises.\n",
    "\n",
    "### Is it sorted?\n",
    "\n",
    "How do we know if a list is sorted? Write an algorithm to check if this is the case for any list. Complete the function `check_sorted` in the file `ses04_extra.py`. You'll need to use a loop - what should happen inside it?\n",
    "\n",
    "### Increasing streaks\n",
    "\n",
    "We often look for patterns in data, for example stock prices. Write an algorithm to find the longest increasing streak in a list of numbers, that is, the longest ascending subsequence. Complete the function `longest_sorted` in the file `ses04_extra.py`. What kind of looping do you need now?\n",
    "\n",
    "### A sidebar on altering lists within functions and mutability\n",
    "\n",
    "You may have noticed that when defining `selection_sort`, we first created a copy of the original list with the command\n",
    "\n",
    "In \\[ \\]:\n",
    "\n",
    "    L = M[:]\n",
    "\n",
    "Why did we do this? If we change the function to work without this command (for example by just setting `L=M`), what happens is that *not just the returned list, but the original input list is also sorted*.\n",
    "That is, we get the following result:\n",
    "\n",
    "In \\[10\\]:\n",
    "\n",
    "    A = [132, 250, 398, 599, 667, 689, 699, 708, 808, 906]\n",
    "    A_sorted = selection_sort(A)\n",
    "    print(A_sorted)\n",
    "    print(A)\n",
    "\n",
    "    [132, 250, 398, 599, 667, 689, 699, 708, 808, 906]\n",
    "    [132, 250, 398, 599, 667, 689, 699, 708, 808, 906]\n",
    "\n",
    "This is a surprising side effect. It happens because Python lists, unlike integers and strings, are *mutable*: we can change their values \"in place\". With a mutable object like a list, if we don't create a copy of it, both the name within the function call and the original name for the list will point to the same list object with data in memory - if we alter the data for example by swapping items, the original name will also keep pointing to this changed list. Copying the list with\n",
    "`L = M[:]` avoids this by creating a separate object which we'll then sort without affecting the original.\n",
    "\n",
    "This side effect does not occur with *immutable* objects like integers, because their values cannot be changed. When we cange the value of an integer with a name, Python creates a new object with the new value, and points the name to the new value.\n",
    "\n",
    "Because of such side effects, we need to be careful when working with list data \"in place\", that is, without creating a copy of the data. Sometimes we may want to change the list in place; other times we also want to preserve the original."
   ]
  },
  {
   "cell_type": "code",
   "execution_count": null,
   "id": "187e6f84",
   "metadata": {},
   "outputs": [],
   "source": []
  }
 ],
 "metadata": {
  "kernelspec": {
   "display_name": "Python 3 (ipykernel)",
   "language": "python",
   "name": "python3"
  },
  "language_info": {
   "codemirror_mode": {
    "name": "ipython",
    "version": 3
   },
   "file_extension": ".py",
   "mimetype": "text/x-python",
   "name": "python",
   "nbconvert_exporter": "python",
   "pygments_lexer": "ipython3",
   "version": "3.9.16"
  }
 },
 "nbformat": 4,
 "nbformat_minor": 5
}
