{
 "cells": [
  {
   "cell_type": "markdown",
   "id": "36a6ecb2",
   "metadata": {},
   "source": [
    "# Session 6: OOP and data structures\n",
    "\n",
    "*Data Structures and Algorithms*\n",
    "\n",
    "*Achyuthuni Sri Harsha*\n",
    "\n",
    "------------------------------------------------------------------------\n",
    "\n",
    "Everything in Python is an \"object\". But what are objects? We will\n",
    "introduce the fundamental concept of object-oriented programming, and\n",
    "talk about how this links to the design of data structures. We will\n",
    "introduce key linear data structures, and learn to define our own data\n",
    "structures.\n",
    "\n",
    "We will also introduce some essential Python libraries: numpy for\n",
    "numerical computing and matplotlib for plotting. Finally, we will learn\n",
    "to work with Jupyter Notebook, a browser-based Python interface that\n",
    "combines code with reporting features.\n",
    "\n",
    "------------------------------------------------------------------------\n",
    "\n",
    "## Preparation:\n",
    "\n",
    "**Readings:**\n",
    "\n",
    "Guttag: Chapter 8.\n",
    "\n",
    "OR\n",
    "\n",
    "Chithul, Swaroop. A Byte of Python.\n",
    "\n",
    "-   Object Oriented Programming\n",
    "\n",
    "-   <https://python.swaroopch.com/oop.html>\n",
    "\n",
    "AND (for numpy and matplotlib):\n",
    "\n",
    "VanderPlas, Jake. Python Data Science Handbook.\n",
    "\n",
    "-   <https://github.com/jakevdp/PythonDataScienceHandbook>\n",
    "\n",
    "-   Chapter 2\n",
    "\n",
    "***Optional readings:***\n",
    "\n",
    "Rougier, Nicolas. Numpy tutorial.\n",
    "\n",
    "-   <http://www.labri.fr/perso/nrougier/teaching/numpy/numpy.html>\n",
    "\n",
    "**Questions:**\n",
    "\n",
    "Please read the material above, and think about how you would explain to\n",
    "your classmates:\n",
    "\n",
    "-   What is object-oriented programming, and what are its main benefits?\n",
    "\n",
    "-   What are classes, objects, and instances?\n",
    "\n",
    "-   What do leading underscores signify in Python?\n",
    "\n",
    "------------------------------------------------------------------------\n",
    "\n",
    "## Recap\n",
    "\n",
    "## What is an object?\n",
    "\n",
    "## Defining objects: monsters\n",
    "\n",
    "We've started building a data structure for pocket monsters in a\n",
    "hypothetical game where you collect monsters and use them to fight other\n",
    "monsters. A pocket monster has a number of attributes, like a name, a\n",
    "type, hit points and combat points. We can represent a pocket monster by\n",
    "creating variables like this:"
   ]
  },
  {
   "cell_type": "code",
   "execution_count": 1,
   "id": "5a7c7382",
   "metadata": {},
   "outputs": [],
   "source": [
    "monster_name = 'Pikachu'\n",
    "combat_points = 30\n",
    "hit_points = 13\n",
    "monster_type = 'lightning'"
   ]
  },
  {
   "cell_type": "markdown",
   "id": "02c9609b",
   "metadata": {},
   "source": [
    "However, if we want to have many monsters, we would need too many\n",
    "variables. We could then try storing the monsters in a dictionary:"
   ]
  },
  {
   "cell_type": "code",
   "execution_count": 2,
   "id": "3a8a81ed",
   "metadata": {},
   "outputs": [],
   "source": [
    "monsters = {'Pikachu':[20,53,'electric'], 'Squirtle':[82,90,'water'], 'Mew':[1940,599,'cat']}"
   ]
  },
  {
   "cell_type": "markdown",
   "id": "ea2dbfa4",
   "metadata": {},
   "source": [
    "But this may also become unwieldy. What if we want to add different\n",
    "kinds of attacks for each of the monsters? These attacks would have\n",
    "their own characteristics (name, damage, etc.). We would likely end up\n",
    "with dictionaries of attack attributes nested within lists of monster\n",
    "details within dictionaries of monsters. This may get tricky, but\n",
    "further, we would also like to use these attacks to have the monsters\n",
    "battle each other in the game. So, we need to create actions on the\n",
    "monster data: for example, a monster may become hurt in a battle, so we\n",
    "need functionality to reduce its health. We'd like to have a way to\n",
    "organize monster data and *actions* on these data together in a\n",
    "consistent and convenient manner.\n",
    "\n",
    "So far, we've organized our programs around functions which operate on\n",
    "data. This is called *procedural programming*, and works well for most\n",
    "medium-sized projects. Now, with monsters, we have a problem where we'd\n",
    "like to combine both monster *data* and *functionality* together. In\n",
    "Python, we can do this inside an **object**. Instead of storing monster\n",
    "data and functions, we'll define monsters as a **class**.\n",
    "\n",
    "Classes and objects are key components of object-oriented programming. A\n",
    "class defines a new *type* of object for Python, and objects are\n",
    "*instances* of this type. We have already seen many types of built-in\n",
    "Python objects, such as strings, floats, and dictionaries. The type\n",
    "`str`, for example, is a class, and `'Hello'` is an object that is an\n",
    "instance of the `str` type.\n",
    "\n",
    "Objects combine a representation of data with functionality related to\n",
    "that data. A string object, for example, includes data consisting of a\n",
    "sequence of characters, and methods like `str.upper()` to manipulate the\n",
    "data. More generally, data can be stored in objects in variables defined\n",
    "inside the object that are said to belong to the object. These data are\n",
    "often called attributes or fields. Similarly, functions defined inside\n",
    "the object are said to belong to the object and called methods.\n",
    "\n",
    "Now we're adding our own object type: a pocket monster. The syntax for\n",
    "defining a new class `Monster` is as follows."
   ]
  },
  {
   "cell_type": "code",
   "execution_count": 3,
   "id": "2701d460",
   "metadata": {},
   "outputs": [
    {
     "name": "stdout",
     "output_type": "stream",
     "text": [
      "<__main__.Monster object at 0x0000027E2C0A7370>\n"
     ]
    }
   ],
   "source": [
    "class Monster(object):\n",
    "    pass # block of code, no content yet\n",
    "\n",
    "pika = Monster()\n",
    "print(pika)"
   ]
  },
  {
   "cell_type": "markdown",
   "id": "c3a10c75",
   "metadata": {},
   "source": [
    "The class is defined using the `class` keyword, followed by its name.\n",
    "Here we specify that the class is a type of `object`, which is a very\n",
    "general Python construct. This is followed by a colon and an indented\n",
    "block of code which contains class details, though nothing yet. We'll\n",
    "define all classes in this way.\n",
    "\n",
    "When we define the `Monster` class, we make this type of objects\n",
    "available for our use, just like strings or lists.\n",
    "\n",
    "We've then created an instance of the class using the class name\n",
    "followed by parenthesis, and assigned it to the variable `pika` (we\n",
    "don't need `object` here). The print function shows that the result is\n",
    "indeed a `Monster` object, which is stored at a specific memory\n",
    "location.\n",
    "\n",
    "Let's add functionality to the class by creating a method."
   ]
  },
  {
   "cell_type": "code",
   "execution_count": 4,
   "id": "d58b5a1a",
   "metadata": {},
   "outputs": [
    {
     "name": "stdout",
     "output_type": "stream",
     "text": [
      "A monster.\n"
     ]
    }
   ],
   "source": [
    "class Monster(object):\n",
    "    def print_monster(self):\n",
    "        print('A monster.')\n",
    "\n",
    "pika = Monster()\n",
    "pika.print_monster()"
   ]
  },
  {
   "cell_type": "markdown",
   "id": "c1bbc8d0",
   "metadata": {},
   "source": [
    "A method is a function defined just like before, but within the class.\n",
    "There is one evident difference to our earlier functions: the `self`\n",
    "parameter. We use `self` as the first parameter of all functions defined\n",
    "inside a class. However, when calling the function, we omit this\n",
    "parameter.\n",
    "\n",
    "Why do we use `self`? The answer is that it refers to the object making\n",
    "the function call. Above, we have defined the class `Monster` and\n",
    "created the instance `pika`, and then call `pika.print_monster()`. When\n",
    "we do this, Python sees that the `pika` object is of type `Monster`. It\n",
    "finds that class, and automatically converts the call to\n",
    "`Monster.print_monster(pika)`. In brief, whenever you see `self` in the\n",
    "class definition, you can mentally replace it with the instance itself,\n",
    "in this case `pika`.\n",
    "\n",
    "This use of `self` becomes clearer when we start storing data within\n",
    "objects. Let's start by giving our monster a name."
   ]
  },
  {
   "cell_type": "code",
   "execution_count": 5,
   "id": "77cce29d",
   "metadata": {},
   "outputs": [],
   "source": [
    "class Monster(object):\n",
    "    def __init__(self, name):\n",
    "        self.name = name\n",
    "    def print_monster(self):\n",
    "        print('A monster called {}.'.format(self.name))"
   ]
  },
  {
   "cell_type": "markdown",
   "id": "b9e79259",
   "metadata": {},
   "source": [
    "Here we define another method: the `__init__` function (with two\n",
    "underscores on each side) is a special function used in classes. It is\n",
    "called when we create a new object of the `Monster` type. Here we give\n",
    "the function a `name` parameter, which it attaches it to the new monster\n",
    "we create as a data field `self.name`.\n",
    "\n",
    "With data fields, we use the notation `self.name` to refer to the\n",
    "specific object we're dealing with. That is, `name` is a local variable\n",
    "defined as the function parameter, and `self.name` is something called\n",
    "`name` inside the object called `self`.\n",
    "\n",
    "Let's define our monster again, this time giving it a name."
   ]
  },
  {
   "cell_type": "code",
   "execution_count": 6,
   "id": "48aed24e",
   "metadata": {},
   "outputs": [
    {
     "name": "stdout",
     "output_type": "stream",
     "text": [
      "Pikachu\n",
      "A monster called Pikachu.\n"
     ]
    }
   ],
   "source": [
    "pika = Monster('Pikachu')\n",
    "print(pika.name)\n",
    "pika.print_monster()"
   ]
  },
  {
   "cell_type": "markdown",
   "id": "5bdac3bd",
   "metadata": {},
   "source": [
    "The monster now has a name as an attribute. Note how we can mentally\n",
    "replace `self` in the class definition with `pika` when referring to the\n",
    "object's attributes.\n",
    "\n",
    "Creating our monster works just like creating any new object. Compare\n",
    "the above to creating a list."
   ]
  },
  {
   "cell_type": "code",
   "execution_count": 7,
   "id": "521ae738",
   "metadata": {},
   "outputs": [
    {
     "name": "stdout",
     "output_type": "stream",
     "text": [
      "[]\n",
      "[1]\n"
     ]
    }
   ],
   "source": [
    "a_list = list() # creates empty list\n",
    "print(a_list)\n",
    "a_list.append(1)\n",
    "print(a_list)"
   ]
  },
  {
   "cell_type": "markdown",
   "id": "74613a2d",
   "metadata": {},
   "source": [
    "Let's add more attributes to our monster class."
   ]
  },
  {
   "cell_type": "code",
   "execution_count": 8,
   "id": "62e2cf1c",
   "metadata": {},
   "outputs": [
    {
     "name": "stdout",
     "output_type": "stream",
     "text": [
      "80\n"
     ]
    }
   ],
   "source": [
    "class Monster(object):\n",
    "    def __init__(self, name, monster_type, combat_points, hit_points):\n",
    "        self.name = name\n",
    "        self.monster_type = monster_type\n",
    "        self.combat_points = combat_points # strength in combat\n",
    "        self.hit_points = hit_points # max health\n",
    "        self.health = hit_points # current health\n",
    "\n",
    "    def print_monster(self):\n",
    "        print('A monster called {}.'.format(self.name))\n",
    "\n",
    "pika = Monster('Pikachu', 'electric', 100, 80)\n",
    "print(pika.hit_points)"
   ]
  },
  {
   "cell_type": "markdown",
   "id": "8687b1d8",
   "metadata": {},
   "source": [
    "Now whenever we create a new Monster, it will have these data attributes\n",
    "attached to it. Next, we will build up ways to manipulate these data. We\n",
    "will do this by adding more methods to the class."
   ]
  },
  {
   "cell_type": "code",
   "execution_count": 9,
   "id": "5b3750ee",
   "metadata": {},
   "outputs": [
    {
     "name": "stdout",
     "output_type": "stream",
     "text": [
      "Pikachu is hurt!\n",
      "Pikachu has 75 health left.\n"
     ]
    }
   ],
   "source": [
    "class Monster(object):\n",
    "    def __init__(self, name, monster_type, combat_points, hit_points):\n",
    "        self.name = name\n",
    "        self.monster_type = monster_type\n",
    "        self.combat_points = combat_points # strength in combat\n",
    "        self.hit_points = hit_points # max health\n",
    "        self.health = hit_points # current health\n",
    "\n",
    "    def print_monster(self):\n",
    "        print('A monster called {}.'.format(self.name))\n",
    "\n",
    "    def get_health(self):\n",
    "        return self.health\n",
    "\n",
    "    def get_hit_points(self):\n",
    "        return self.hit_points\n",
    "\n",
    "    def print_health_status(self):\n",
    "        if self.health <= 0:\n",
    "            print('{} is knocked out!'.format(self.name))\n",
    "        else: print('{0} has {1} health left.'.format(self.name, self.health))\n",
    "\n",
    "    def hurt(self, damage):\n",
    "        \"\"\"\n",
    "        Reduce monster health by damage to a minimum of zero\n",
    "        \"\"\"\n",
    "        self.health = max(self.health - damage, 0)\n",
    "        print('{} is hurt!'.format(self.name))\n",
    "        self.print_health_status()\n",
    "\n",
    "    def __str__(self):\n",
    "        return self.name\n",
    "\n",
    "\n",
    "pika = Monster('Pikachu', 'electric', 100, 80)\n",
    "pika.hurt(5)"
   ]
  },
  {
   "cell_type": "markdown",
   "id": "93b1f320",
   "metadata": {},
   "source": [
    "The class now includes a host of other functions. Many of these simply\n",
    "return the different attributes of the monster. The `__str__` function\n",
    "is a special function that gets called whenever we call a string\n",
    "representation of a monster with `str(pika)` or `print(pika)`.\n",
    "\n",
    "It is a safe programming practice to use functions like this instead of\n",
    "directly referring to a monster's attributes:"
   ]
  },
  {
   "cell_type": "code",
   "execution_count": 10,
   "id": "76e73806",
   "metadata": {},
   "outputs": [
    {
     "data": {
      "text/plain": [
       "True"
      ]
     },
     "execution_count": 10,
     "metadata": {},
     "output_type": "execute_result"
    }
   ],
   "source": [
    "pika = Monster('Pikachu', 'electric', 100, 80) \n",
    "pika.get_health() == 80 # safe practice\n",
    "pika.health == 80 # not as safe practice - we might accidentally change value if we omit one equals sign"
   ]
  },
  {
   "cell_type": "markdown",
   "id": "a8de272a",
   "metadata": {},
   "source": [
    "In more complex projects, using such functions would help make sure that\n",
    "these values are not accidentally changed. Indeed, some programming\n",
    "languages erect such of walls around object attributes by default.\n",
    "Python instead gives you direct access to the attributes. We are,\n",
    "however, not going to worry too much about these practices in this\n",
    "module.\n",
    "\n",
    "In more complex projects, using such functions would help make sure that\n",
    "these values are not accidentally changed. Indeed, some programming\n",
    "languages erect such of walls around object attributes by default.\n",
    "Python instead gives you direct access to the attributes. We are,\n",
    "however, not going to worry too much about these practices in this\n",
    "module.\n",
    "\n",
    "### Healing monsters\n",
    "\n",
    "Let's add more methods to Monsters. We've already created a function\n",
    "called `hurt`, which reduces a monster's health. Now let's implement the\n",
    "method `heal`, which similarly increases its health. Note however that\n",
    "*a monster's health cannot exceed its hit points*. Implement the method\n",
    "`heal` in the `Monster` class in `ses06.py`. Your method should increase\n",
    "the health as desired and also print out the monster's health status\n",
    "similarly to the `hurt` function.\n",
    "\n",
    "> **Important.** Whenever you update the code in the Monster class,\n",
    "> you'll need to run it again (eg `F5` in Spyder) so that Python knows\n",
    "> to load up your changes. You'll similarly need to recreate all your\n",
    "> Monster objects to reflect the changes you've made.\n",
    "\n",
    "## More monsters\n",
    "\n",
    "### Attack\\!\n",
    "\n",
    "Next, let's add attacks for the monsters so they can battle. Following\n",
    "the design of the Monster class, we'll design a class `Attack` which\n",
    "defines attacks in `ses06.py`.\n",
    "\n",
    "An attack has the following attributes:\n",
    "\n",
    "-   `name`, a string\n",
    "-   `attack_type`, a string\n",
    "-   `damage`, a float\n",
    "\n",
    "The stub code has the following functions to be completed:\n",
    "\n",
    "-   `__init__` is used when a new `Attack` object instance is created.\n",
    "    It stores the input attributes.\n",
    "-   `get_attack_type` returns the attack type.\n",
    "-   `get_damage` returns the attack damage.\n",
    "-   `__str__` returns the name (this is already implemented and will be\n",
    "    called if you use `print(attack)`)\n",
    "\n",
    "Now you have designed a data structure to capture the attributes of\n",
    "attacks. But the monsters don't know how to use them yet... next, update\n",
    "your implementation of the `Monster` class so that the monsters can use\n",
    "these attacks to fight each other. Implement the function\n",
    "`use_attack(self, attack, target_monster)` within the `Monster` class\n",
    "that uses an attack on another monster. This function should `hurt` the\n",
    "other monster with the current monster's `damage`, modified by their\n",
    "relative strength in combat. See the function docstring for details on\n",
    "how to calculate the exact damage.\n",
    "\n",
    "## Data structures\n",
    "\n",
    "## Queues\n",
    "\n",
    "Let's move from pocket monsters back to efficient algorithm design. In\n",
    "the lecture, we looked briefly into the mechanics of implementing linear\n",
    "data structures, specifically lists. There are various ways of doing\n",
    "this, the simplest of which are an array and a linked list. We saw that\n",
    "the efficiency of list operations depends on its implementation. The\n",
    "difference is that an array keeps track of the absolute positions of\n",
    "elements while a linked list only tracks their relative positions.\n",
    "Adding an element to a linked list is therefore constant time, but in an\n",
    "array the complexity depends on the position of the element. If the\n",
    "element is appended to the end of the list, this is still constant time,\n",
    "but adding to the beginning is \\$O(n)\\$ as all other elements need to be\n",
    "moved forward by one position. However, accessing a linked list by index\n",
    "is \\$O(n)\\$ while any position in an array can be accessed in \\$O(1)\\$.\n",
    "\n",
    "In this exercise, you'll implement another linear data structure: a\n",
    "queue. Queues work much as you would expect from your experience in the\n",
    "college cafe: you add items to one end of the queue, and remove them\n",
    "from the other end. Queues are not only everywhere in the world\n",
    "(especially in London), but their design is crucial to operations in\n",
    "many service industries. Furthermore, we will see in the following\n",
    "sessions that a queue is a useful abstraction in algorithm design. Its\n",
    "advantage is that when efficiently implemented, its operations (adding\n",
    "and removing items) are both constant \\$O(1)\\$ running time.\n",
    "\n",
    "### Queue using list (optional exercise)\n",
    "\n",
    "The Python file `ses06_extra.py` asks you to complete two\n",
    "implementations of a queue. The first, `ListQueue`, uses the Python\n",
    "`list` to build a queue. It has four methods.\n",
    "\n",
    "-   `__init__` is used when a new `ListQueue` object is created. It\n",
    "    creates an empty list of items in the queue.\n",
    "-   `is_empty` checks whether the queue is empty.\n",
    "-   `enqueue` adds an item to the queue (in the end of the list)\n",
    "-   `dequeue` removes an item from the queue (from the beginning of the\n",
    "    list)\n",
    "\n",
    "Note how the methods again refer to the `ListQueue` object itself using\n",
    "the keyword `self`."
   ]
  },
  {
   "cell_type": "code",
   "execution_count": 11,
   "id": "94727595",
   "metadata": {},
   "outputs": [],
   "source": [
    "class ListQueue(object):\n",
    "    \"\"\" \n",
    "    Queue using list\n",
    "\n",
    "    Supports inserting and deleting nodes\n",
    "    \"\"\"\n",
    "    def __init__(self):\n",
    "        \"\"\"Initialise queue as list\"\"\"\n",
    "        self.items=[]\n",
    "\n",
    "    def is_empty(self):\n",
    "        \"\"\"\n",
    "        Checks if queue is empty\n",
    "        \"\"\"\n",
    "        pass # replace with code\n",
    "\n",
    "    def enqueue(self, item): \n",
    "        \"\"\" \n",
    "        Insert an element into the end of the queue (list)\n",
    "        \"\"\"\n",
    "        pass # replace with code\n",
    "\n",
    "    def dequeue(self):\n",
    "        \"\"\"\n",
    "        Remove the first element of the queue, return it\n",
    "        \"\"\"\n",
    "        return self.items.pop(0) "
   ]
  },
  {
   "cell_type": "markdown",
   "id": "d1529acf",
   "metadata": {},
   "source": [
    "Complete the class `ListQueue` to work correctly.\n",
    "\n",
    "### Question 7: Queue of Nodes\n",
    "\n",
    "The problem with the above implementation is that adding items to the\n",
    "beginning of the list is computationally expensive. Your task is to\n",
    "implement a more efficient queue class without using a Python list.\n",
    "You'll do this by creating a queue of *nodes*. A `Node` class\n",
    "implementation is given below. In brief, a node is a simple data\n",
    "structure that stores unspecified data in the variable `stuff`, as well\n",
    "as information on what other node (if any) it is connected to."
   ]
  },
  {
   "cell_type": "code",
   "execution_count": 12,
   "id": "6475a359",
   "metadata": {},
   "outputs": [],
   "source": [
    "class Node(object):\n",
    "    \"\"\" \n",
    "    Node: contains unspecified data in stuff and link to next Node\n",
    "    \"\"\"\n",
    "    def __init__(self, stuff=None, next_node=None): \n",
    "        # this will run when you create a new Node\n",
    "        self.stuff = stuff\n",
    "        self.next_node  = next_node\n",
    "\n",
    "    def __str__(self): # this will run when you use print() on a node\n",
    "        return str(self.stuff)"
   ]
  },
  {
   "cell_type": "markdown",
   "id": "9f6a501d-5650-438f-8674-2aaa43cf4604",
   "metadata": {},
   "source": [
    "Try creating a few nodes with string inputs.\n",
    "\n",
    "The Python file contains a skeleton implementation of a `Queue` class.\n",
    "Your task is to complete it so that it performs the same operations as\n",
    "the `ListQueue` class but creating the queue from `Node` objects by\n",
    "linking them together. In order to quickly add and remove elements, your\n",
    "class should keep track of which node is first and last in the queue,\n",
    "the length of the queue, as well as the next node for each node. Here's\n",
    "how it works.\n",
    "\n",
    "-   Suppose we start with an empty queue, and we add a node \\$a\\$. Now\n",
    "    \\$a\\$ is both the first and the last item in the queue, but since\n",
    "    there are no other items, \\$a\\$ does not have a next node. The\n",
    "    length of our queue is one.\n",
    "-   Now let's add another node \\$b\\$. The node \\$a\\$ now needs to point\n",
    "    to \\$b\\$ as the next node. Node \\$a\\$ is still first in the queue,\n",
    "    but the last item needs to be updated to be \\$b\\$. The last node\n",
    "    does not point to another node. The length of the queue is increased\n",
    "    to two.\n",
    "-   Let's remove a node. This should return the `stuff` inside the first\n",
    "    node, \\$a\\$. Now \\$b\\$ becomes the first node, and the length of the\n",
    "    queue is decreased to one.\n",
    "\n",
    "Note you can pass `stuff` directly as input when adding to the queue, as\n",
    "the `Node` is created within the queue. This kind of abstraction is\n",
    "often useful: the user does not have to worry about the internal\n",
    "operations of your data structure.\n",
    "\n",
    "The class also contains a `__str__` method for you to complete. This is\n",
    "useful for printing out your queue status.\n",
    "\n",
    "Complete the class `Queue` to work correctly.\n",
    "\n",
    "After you have completed the class, try out the queue and compare the\n",
    "speed of the enqueueing operations of the two classes. Python has a\n",
    "built-in data structure `deque` which implements a slightly more\n",
    "complicated data type called *double-ended queue*, giving an efficient\n",
    "way to use queues. Look for more information on double-ended queues on\n",
    "e.g. Wikipedia.\n",
    "\n",
    "## Introduction to Numpy\n",
    "\n",
    "Please complete the compulsory exercises in the notebook\n",
    "`ses06_numpy.ipynb`.\n",
    "\n",
    "## All done\\!\n",
    "\n",
    "## Review\n",
    "\n",
    "Object-oriented programming provides a new way of organising our data -\n",
    "for example pocket monsters - together with the procedures associated\n",
    "with them.\n",
    "\n",
    "Check your understanding of the concepts with these questions:\n",
    "\n",
    "-   What do we mean by a class and an instance?\n",
    "-   How do we add attributes and methods to an object?\n",
    "-   What do the `__init__` and `__str__` methods do, and when are they\n",
    "    called?\n",
    "-   How is the keyword `self` used?\n",
    "\n",
    "There is a lot more to object-oriented programming than what we have\n",
    "covered here. Here are some more resources about OOP:\n",
    "\n",
    "-   [Python-course.eu](https://www.python-course.eu/python3_object_oriented_programming.php)\n",
    "    is quite comprehensive on OOP\n",
    "-   [Real Python's\n",
    "    tutorial](https://realpython.com/python3-object-oriented-programming/#how-to-define-a-class-in-python)\n",
    "    on OOP\n",
    "-   [Jeff\n",
    "    Knupp](https://jeffknupp.com/blog/2014/06/18/improve-your-python-python-classes-and-object-oriented-programming/)\n",
    "    on OOP\n",
    "\n",
    "If you end up doing more OOP, one (advanced) thing to note is that the\n",
    "way we have implemented the \"get\" methods is not the ideal or \"pythonic\"\n",
    "way of providing an interface to object attributes. If we'd like a class\n",
    "to have private attributes, we would typically make these attributes\n",
    "\"properties\". To understand how properties work, we first need to know\n",
    "what \"decorators\" are in Python.\n",
    "\n",
    "-   [Real Python's tutorial on\n",
    "    decorators](https://realpython.com/primer-on-python-decorators/)\n",
    "-   [Python-course.eu](https://www.python-course.eu/python3_properties.php)\n",
    "    on properties"
   ]
  },
  {
   "cell_type": "code",
   "execution_count": null,
   "id": "0fb95fc6",
   "metadata": {},
   "outputs": [],
   "source": []
  }
 ],
 "metadata": {
  "kernelspec": {
   "display_name": "Python 3 (ipykernel)",
   "language": "python",
   "name": "python3"
  },
  "language_info": {
   "codemirror_mode": {
    "name": "ipython",
    "version": 3
   },
   "file_extension": ".py",
   "mimetype": "text/x-python",
   "name": "python",
   "nbconvert_exporter": "python",
   "pygments_lexer": "ipython3",
   "version": "3.9.16"
  }
 },
 "nbformat": 4,
 "nbformat_minor": 5
}
